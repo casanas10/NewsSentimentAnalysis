{
 "cells": [
  {
   "cell_type": "code",
   "execution_count": 1,
   "metadata": {},
   "outputs": [],
   "source": [
    "import os\n",
    "import glob\n",
    "import numpy as np\n",
    "import pandas as pd\n",
    "import nltk\n",
    "pd.set_option('display.max_colwidth', 200) # set max number of characters can see in pd dataframe"
   ]
  },
  {
   "cell_type": "code",
   "execution_count": 2,
   "metadata": {},
   "outputs": [
    {
     "data": {
      "text/html": [
       "<div>\n",
       "<style scoped>\n",
       "    .dataframe tbody tr th:only-of-type {\n",
       "        vertical-align: middle;\n",
       "    }\n",
       "\n",
       "    .dataframe tbody tr th {\n",
       "        vertical-align: top;\n",
       "    }\n",
       "\n",
       "    .dataframe thead th {\n",
       "        text-align: right;\n",
       "    }\n",
       "</style>\n",
       "<table border=\"1\" class=\"dataframe\">\n",
       "  <thead>\n",
       "    <tr style=\"text-align: right;\">\n",
       "      <th></th>\n",
       "      <th>long_date_format</th>\n",
       "      <th>headline</th>\n",
       "      <th>text</th>\n",
       "      <th>url</th>\n",
       "    </tr>\n",
       "  </thead>\n",
       "  <tbody>\n",
       "    <tr>\n",
       "      <th>0</th>\n",
       "      <td>Mon Nov 13, 2006 3:16am EST</td>\n",
       "      <td>Hitachi, GE boost alliance in nuclear power business</td>\n",
       "      <td>TOKYO  (Reuters) - Hitachi Ltd. ( 6501.T ) said on Monday it has agreed with General Electric Co. ( GE.N ) to expand their global alliance in the nuclear power business, aiming to strengthen thei...</td>\n",
       "      <td>http://www.reuters.com/article/2006/11/13/us-energy-hitachi-ge-idUSTKB00256820061113</td>\n",
       "    </tr>\n",
       "    <tr>\n",
       "      <th>1</th>\n",
       "      <td>Mon Nov 13, 2006 8:45am EST</td>\n",
       "      <td>Volvo to cut 1,000 staff at Virginia plant</td>\n",
       "      <td>STOCKHOLM  (Reuters) - Truck maker Volvo said on Monday it would cut about 1,000 staff at its Dublin, Virginia plant in the United States due to an expected decline in output. After years of stro...</td>\n",
       "      <td>http://www.reuters.com/article/2006/11/13/us-autos-volvo-us-idUSSAT00355920061113</td>\n",
       "    </tr>\n",
       "    <tr>\n",
       "      <th>2</th>\n",
       "      <td>Mon Nov 13, 2006 3:15am EST</td>\n",
       "      <td>European banks hiding full pension obligations</td>\n",
       "      <td>ZURICH, Nov 13 (Reuter) - West European banks are failing to disclose unfunded staff pension obligations running to billions of dollars, in contrast to U.S. banks which are required to show the f...</td>\n",
       "      <td>http://www.reuters.com/article/2006/11/13/us-financial-pensions-idUSL1083562820061113</td>\n",
       "    </tr>\n",
       "    <tr>\n",
       "      <th>3</th>\n",
       "      <td>Mon Nov 13, 2006 7:13am EST</td>\n",
       "      <td>Hitachi, GE to form joint nuclear power ventures</td>\n",
       "      <td>TOKYO  (Reuters) - Japan's Hitachi Ltd. and U.S. group General Electric Co. said on Monday they would set up joint ventures in Japan and the United States to combine their nuclear power operation...</td>\n",
       "      <td>http://www.reuters.com/article/2006/11/13/us-energy-hitachi-ge-nuclear-idUST3593020061113</td>\n",
       "    </tr>\n",
       "    <tr>\n",
       "      <th>4</th>\n",
       "      <td>Mon Nov 13, 2006 7:29am EST</td>\n",
       "      <td>Eddie Bauer agrees to be bought for $286 million</td>\n",
       "      <td>(Reuters) - Eddie Bauer Holdings Inc. EBHI.O said and it has agreed to be acquired by a company owned by affiliates of Sun Capital Partners Inc. and Golden Gate Capital for about $286 million and...</td>\n",
       "      <td>http://www.reuters.com/article/2006/11/13/us-retail-eddiebauer-suncapitalpartners-idUSWNAS309120061113</td>\n",
       "    </tr>\n",
       "  </tbody>\n",
       "</table>\n",
       "</div>"
      ],
      "text/plain": [
       "              long_date_format  \\\n",
       "0  Mon Nov 13, 2006 3:16am EST   \n",
       "1  Mon Nov 13, 2006 8:45am EST   \n",
       "2  Mon Nov 13, 2006 3:15am EST   \n",
       "3  Mon Nov 13, 2006 7:13am EST   \n",
       "4  Mon Nov 13, 2006 7:29am EST   \n",
       "\n",
       "                                               headline  \\\n",
       "0  Hitachi, GE boost alliance in nuclear power business   \n",
       "1            Volvo to cut 1,000 staff at Virginia plant   \n",
       "2        European banks hiding full pension obligations   \n",
       "3      Hitachi, GE to form joint nuclear power ventures   \n",
       "4      Eddie Bauer agrees to be bought for $286 million   \n",
       "\n",
       "                                                                                                                                                                                                      text  \\\n",
       "0   TOKYO  (Reuters) - Hitachi Ltd. ( 6501.T ) said on Monday it has agreed with General Electric Co. ( GE.N ) to expand their global alliance in the nuclear power business, aiming to strengthen thei...   \n",
       "1   STOCKHOLM  (Reuters) - Truck maker Volvo said on Monday it would cut about 1,000 staff at its Dublin, Virginia plant in the United States due to an expected decline in output. After years of stro...   \n",
       "2   ZURICH, Nov 13 (Reuter) - West European banks are failing to disclose unfunded staff pension obligations running to billions of dollars, in contrast to U.S. banks which are required to show the f...   \n",
       "3   TOKYO  (Reuters) - Japan's Hitachi Ltd. and U.S. group General Electric Co. said on Monday they would set up joint ventures in Japan and the United States to combine their nuclear power operation...   \n",
       "4   (Reuters) - Eddie Bauer Holdings Inc. EBHI.O said and it has agreed to be acquired by a company owned by affiliates of Sun Capital Partners Inc. and Golden Gate Capital for about $286 million and...   \n",
       "\n",
       "                                                                                                      url  \n",
       "0                    http://www.reuters.com/article/2006/11/13/us-energy-hitachi-ge-idUSTKB00256820061113  \n",
       "1                       http://www.reuters.com/article/2006/11/13/us-autos-volvo-us-idUSSAT00355920061113  \n",
       "2                   http://www.reuters.com/article/2006/11/13/us-financial-pensions-idUSL1083562820061113  \n",
       "3               http://www.reuters.com/article/2006/11/13/us-energy-hitachi-ge-nuclear-idUST3593020061113  \n",
       "4  http://www.reuters.com/article/2006/11/13/us-retail-eddiebauer-suncapitalpartners-idUSWNAS309120061113  "
      ]
     },
     "execution_count": 2,
     "metadata": {},
     "output_type": "execute_result"
    }
   ],
   "source": [
    "all_news = pd.read_pickle(\"./data/newspickle.pkl\")\n",
    "all_news.head()"
   ]
  },
  {
   "cell_type": "code",
   "execution_count": 3,
   "metadata": {},
   "outputs": [
    {
     "name": "stdout",
     "output_type": "stream",
     "text": [
      "News loaded\n"
     ]
    }
   ],
   "source": [
    "from nltk.sentiment.vader import SentimentIntensityAnalyzer as SIA\n",
    "\n",
    "if not os.path.exists('./data/labeled_news.pkl'):\n",
    "    sia = SIA()\n",
    "    results = []\n",
    "\n",
    "    for i, row in all_news.iterrows():\n",
    "        pol_score = sia.polarity_scores(row['text'])\n",
    "        results.append(pol_score)\n",
    "        \n",
    "    df = pd.DataFrame.from_records(results)\n",
    "    \n",
    "    df['label'] = 0\n",
    "    df.loc[df['compound'] > 0.2, 'label'] = 1\n",
    "    df.loc[df['compound'] < -0.2, 'label'] = -1\n",
    "\n",
    "    all_news_labeled = pd.concat([all_news, df], axis=1)\n",
    "\n",
    "    all_news_labeled.to_pickle(\"./data/labeled_news.pkl\")\n",
    "    print(\"News Saved!\")\n",
    "    \n",
    "else:\n",
    "    all_news_labeled = pd.read_pickle(\"./data/labeled_news.pkl\")\n",
    "    print(\"News loaded\")"
   ]
  },
  {
   "cell_type": "markdown",
   "metadata": {},
   "source": [
    "## Exploring the data set"
   ]
  },
  {
   "cell_type": "code",
   "execution_count": 4,
   "metadata": {},
   "outputs": [
    {
     "name": "stdout",
     "output_type": "stream",
     "text": [
      "Input data has 106494 rows and 9 columns\n"
     ]
    }
   ],
   "source": [
    "# What is the shape of this datataset\n",
    "print(\"Input data has {} rows and {} columns\".format(len(all_news_labeled), len(all_news_labeled.columns)))"
   ]
  },
  {
   "cell_type": "code",
   "execution_count": 5,
   "metadata": {},
   "outputs": [
    {
     "name": "stdout",
     "output_type": "stream",
     "text": [
      "Out of 106494 rows, 32597 are negative, 6642 are neutral, 67255 are positive\n"
     ]
    }
   ],
   "source": [
    "# How many revies are negative and positive?\n",
    "\n",
    "print(\"Out of {} rows, {} are negative, {} are neutral, {} are positive\".format(len(all_news_labeled), \n",
    "                                                       len(all_news_labeled[all_news_labeled['label']==-1]), \n",
    "                                                       len(all_news_labeled[all_news_labeled['label']==0]),\n",
    "                                                       len(all_news_labeled[all_news_labeled['label']==1])))"
   ]
  },
  {
   "cell_type": "code",
   "execution_count": 6,
   "metadata": {},
   "outputs": [
    {
     "data": {
      "text/html": [
       "<div>\n",
       "<style scoped>\n",
       "    .dataframe tbody tr th:only-of-type {\n",
       "        vertical-align: middle;\n",
       "    }\n",
       "\n",
       "    .dataframe tbody tr th {\n",
       "        vertical-align: top;\n",
       "    }\n",
       "\n",
       "    .dataframe thead th {\n",
       "        text-align: right;\n",
       "    }\n",
       "</style>\n",
       "<table border=\"1\" class=\"dataframe\">\n",
       "  <thead>\n",
       "    <tr style=\"text-align: right;\">\n",
       "      <th></th>\n",
       "      <th>long_date_format</th>\n",
       "      <th>headline</th>\n",
       "      <th>text</th>\n",
       "      <th>url</th>\n",
       "      <th>neg</th>\n",
       "      <th>neu</th>\n",
       "      <th>pos</th>\n",
       "      <th>compound</th>\n",
       "      <th>label</th>\n",
       "    </tr>\n",
       "  </thead>\n",
       "  <tbody>\n",
       "    <tr>\n",
       "      <th>0</th>\n",
       "      <td>Wed Dec 30, 2009 9:56pm EST</td>\n",
       "      <td>Time Warner Cable could OK arbitration with Fox</td>\n",
       "      <td>NEW YORK  (Reuters) - Time Warner Cable Inc said it is willing to go to arbitration with News Corp's Fox Networks to avoid losing some of Fox's channels if the companies fail to agree on a new ca...</td>\n",
       "      <td>http://www.reuters.com/article/2009/12/31/us-timewarnercable-idUSTRE5BT3P920091231</td>\n",
       "      <td>0.028</td>\n",
       "      <td>0.892</td>\n",
       "      <td>0.080</td>\n",
       "      <td>0.9623</td>\n",
       "      <td>1</td>\n",
       "    </tr>\n",
       "    <tr>\n",
       "      <th>1</th>\n",
       "      <td>Mon Sep 13, 2010 1:00am EDT</td>\n",
       "      <td>ECB's Liikanen says Basel III will not limit recovery</td>\n",
       "      <td>BASEL, Switzerland  (Reuters) - The new banking regulations will contribute to a more stable financial system and support economic growth, European Central bank Governing Council member Erkki Lii...</td>\n",
       "      <td>http://www.reuters.com/article/2010/09/13/us-ecb-liikanen-idUSTRE68C0U820100913</td>\n",
       "      <td>0.036</td>\n",
       "      <td>0.812</td>\n",
       "      <td>0.152</td>\n",
       "      <td>0.8748</td>\n",
       "      <td>1</td>\n",
       "    </tr>\n",
       "    <tr>\n",
       "      <th>2</th>\n",
       "      <td>Mon Nov 22, 2010 3:50am EST</td>\n",
       "      <td>Ireland says EU/IMF unlikely to change 4-year debt plan</td>\n",
       "      <td>DUBLIN  (Reuters) - The European Union and International Monetary Fund have seen the outline of Ireland's four-year austerity plan and are unlikely to request significant changes, Finance Ministe...</td>\n",
       "      <td>http://www.reuters.com/article/2010/11/22/us-ireland-lenihan-debt-idUSTRE6AL1FV20101122</td>\n",
       "      <td>0.032</td>\n",
       "      <td>0.924</td>\n",
       "      <td>0.045</td>\n",
       "      <td>0.4019</td>\n",
       "      <td>1</td>\n",
       "    </tr>\n",
       "    <tr>\n",
       "      <th>3</th>\n",
       "      <td>Fri Jan 29, 2010 10:51am EST</td>\n",
       "      <td>American Express CEO gets base pay bump</td>\n",
       "      <td>NEW YORK  (Reuters) - American Express Co ( AXP.N ) increased the base pay of Chief Executive Kenneth Chenault to $2 million from $1.25 million, the company reported on Friday in a regulatory fil...</td>\n",
       "      <td>http://www.reuters.com/article/2010/01/29/us-americanexpress-pay-idUSTRE60S43W20100129</td>\n",
       "      <td>0.065</td>\n",
       "      <td>0.805</td>\n",
       "      <td>0.130</td>\n",
       "      <td>0.9750</td>\n",
       "      <td>1</td>\n",
       "    </tr>\n",
       "    <tr>\n",
       "      <th>4</th>\n",
       "      <td>Thu Oct 7, 2010 2:32pm EDT</td>\n",
       "      <td>Soros says banking system remains \"too connected\"</td>\n",
       "      <td>NEW YORK  (Reuters) - Billionaire investor George Soros said on Thursday that the U.S. financial regulation bill does not address the problem of a banking system that is \"too connected to fail\". ...</td>\n",
       "      <td>http://www.reuters.com/article/2010/10/07/us-soros-regulation-idUSTRE6963NS20101007</td>\n",
       "      <td>0.086</td>\n",
       "      <td>0.839</td>\n",
       "      <td>0.075</td>\n",
       "      <td>-0.5749</td>\n",
       "      <td>-1</td>\n",
       "    </tr>\n",
       "  </tbody>\n",
       "</table>\n",
       "</div>"
      ],
      "text/plain": [
       "               long_date_format  \\\n",
       "0   Wed Dec 30, 2009 9:56pm EST   \n",
       "1   Mon Sep 13, 2010 1:00am EDT   \n",
       "2   Mon Nov 22, 2010 3:50am EST   \n",
       "3  Fri Jan 29, 2010 10:51am EST   \n",
       "4    Thu Oct 7, 2010 2:32pm EDT   \n",
       "\n",
       "                                                  headline  \\\n",
       "0          Time Warner Cable could OK arbitration with Fox   \n",
       "1    ECB's Liikanen says Basel III will not limit recovery   \n",
       "2  Ireland says EU/IMF unlikely to change 4-year debt plan   \n",
       "3                  American Express CEO gets base pay bump   \n",
       "4        Soros says banking system remains \"too connected\"   \n",
       "\n",
       "                                                                                                                                                                                                      text  \\\n",
       "0   NEW YORK  (Reuters) - Time Warner Cable Inc said it is willing to go to arbitration with News Corp's Fox Networks to avoid losing some of Fox's channels if the companies fail to agree on a new ca...   \n",
       "1   BASEL, Switzerland  (Reuters) - The new banking regulations will contribute to a more stable financial system and support economic growth, European Central bank Governing Council member Erkki Lii...   \n",
       "2   DUBLIN  (Reuters) - The European Union and International Monetary Fund have seen the outline of Ireland's four-year austerity plan and are unlikely to request significant changes, Finance Ministe...   \n",
       "3   NEW YORK  (Reuters) - American Express Co ( AXP.N ) increased the base pay of Chief Executive Kenneth Chenault to $2 million from $1.25 million, the company reported on Friday in a regulatory fil...   \n",
       "4   NEW YORK  (Reuters) - Billionaire investor George Soros said on Thursday that the U.S. financial regulation bill does not address the problem of a banking system that is \"too connected to fail\". ...   \n",
       "\n",
       "                                                                                       url  \\\n",
       "0       http://www.reuters.com/article/2009/12/31/us-timewarnercable-idUSTRE5BT3P920091231   \n",
       "1          http://www.reuters.com/article/2010/09/13/us-ecb-liikanen-idUSTRE68C0U820100913   \n",
       "2  http://www.reuters.com/article/2010/11/22/us-ireland-lenihan-debt-idUSTRE6AL1FV20101122   \n",
       "3   http://www.reuters.com/article/2010/01/29/us-americanexpress-pay-idUSTRE60S43W20100129   \n",
       "4      http://www.reuters.com/article/2010/10/07/us-soros-regulation-idUSTRE6963NS20101007   \n",
       "\n",
       "     neg    neu    pos  compound  label  \n",
       "0  0.028  0.892  0.080    0.9623      1  \n",
       "1  0.036  0.812  0.152    0.8748      1  \n",
       "2  0.032  0.924  0.045    0.4019      1  \n",
       "3  0.065  0.805  0.130    0.9750      1  \n",
       "4  0.086  0.839  0.075   -0.5749     -1  "
      ]
     },
     "execution_count": 6,
     "metadata": {},
     "output_type": "execute_result"
    }
   ],
   "source": [
    "# Ramdomize the data so there is no bias\n",
    "data = all_news_labeled.sample(frac=1).reset_index(drop=True)\n",
    "data.head()"
   ]
  },
  {
   "cell_type": "markdown",
   "metadata": {},
   "source": [
    "## Data Pre-processing\n",
    "\n",
    "In this step we want to:\n",
    "- remove puncuations\n",
    "- transform text to lower case\n",
    "- split the text into tokens (which are english words)\n",
    "- remove stopwords"
   ]
  },
  {
   "cell_type": "code",
   "execution_count": 7,
   "metadata": {},
   "outputs": [],
   "source": [
    "import string\n",
    "import re\n",
    "stopwords = nltk.corpus.stopwords.words('english')\n",
    "ps = nltk.PorterStemmer()\n",
    "\n",
    "def clean_text(text):\n",
    "    text = \"\".join([word.lower() for word in text if word not in string.punctuation])\n",
    "    tokens = re.split('\\W+', text)\n",
    "    text = [ps.stem(word) for word in tokens if word not in stopwords]\n",
    "    return text"
   ]
  },
  {
   "cell_type": "code",
   "execution_count": 8,
   "metadata": {},
   "outputs": [],
   "source": [
    "data = data[:5000]"
   ]
  },
  {
   "cell_type": "code",
   "execution_count": 9,
   "metadata": {},
   "outputs": [],
   "source": [
    "clean_data = []\n",
    "for i in data:\n",
    "    clean_data.append(clean_text(i))"
   ]
  },
  {
   "cell_type": "markdown",
   "metadata": {},
   "source": [
    "## Split Dataset into training and testing with 20% of data saved for testing 80% for training"
   ]
  },
  {
   "cell_type": "code",
   "execution_count": 10,
   "metadata": {},
   "outputs": [],
   "source": [
    "from sklearn.model_selection import train_test_split\n",
    "\n",
    "X_train, X_test, y_train, y_test = train_test_split(data['text'], data['label'], test_size=0.2)"
   ]
  },
  {
   "cell_type": "code",
   "execution_count": 11,
   "metadata": {},
   "outputs": [
    {
     "data": {
      "text/plain": [
       "(4000,)"
      ]
     },
     "execution_count": 11,
     "metadata": {},
     "output_type": "execute_result"
    }
   ],
   "source": [
    "X_train.shape"
   ]
  },
  {
   "cell_type": "markdown",
   "metadata": {},
   "source": [
    "## Vectorizing Data\n",
    "- Transform training and testing data into something the Machine Learning algorithm can understand.\n",
    "- First it fits the data on TF-IDF vectorizer and the transforms it into feature vector space which we can then send to the input of our ML model"
   ]
  },
  {
   "cell_type": "code",
   "execution_count": 12,
   "metadata": {},
   "outputs": [],
   "source": [
    "from sklearn.feature_extraction.text import TfidfVectorizer\n",
    "import pickle\n",
    "\n",
    "vectorizer = TfidfVectorizer(max_features=2000)\n",
    "vectorizer = vectorizer.fit(X_train)\n",
    "tfidf_train = vectorizer.transform(X_train)\n",
    "tfidf_test = vectorizer.transform(X_test)"
   ]
  },
  {
   "cell_type": "code",
   "execution_count": 13,
   "metadata": {},
   "outputs": [
    {
     "name": "stderr",
     "output_type": "stream",
     "text": [
      "/Users/alex/Desktop/NLP/NewsSentimentAnalysis/env/lib/python3.7/site-packages/sklearn/externals/joblib/__init__.py:15: DeprecationWarning: sklearn.externals.joblib is deprecated in 0.21 and will be removed in 0.23. Please import this functionality directly from joblib, which can be installed with: pip install joblib. If this warning is raised when loading pickled models, you may need to re-serialize those models with scikit-learn 0.21+.\n",
      "  warnings.warn(msg, category=DeprecationWarning)\n"
     ]
    },
    {
     "data": {
      "text/plain": [
       "['tfidfVectorizer.pkl']"
      ]
     },
     "execution_count": 13,
     "metadata": {},
     "output_type": "execute_result"
    }
   ],
   "source": [
    "import pickle \n",
    "from sklearn.externals import joblib\n",
    "\n",
    "joblib.dump(vectorizer, 'tfidfVectorizer.pkl')"
   ]
  },
  {
   "cell_type": "code",
   "execution_count": 14,
   "metadata": {},
   "outputs": [],
   "source": [
    "X_train_vect = pd.DataFrame(tfidf_train.toarray())\n",
    "X_test_vect = pd.DataFrame(tfidf_test.toarray())"
   ]
  },
  {
   "cell_type": "code",
   "execution_count": 15,
   "metadata": {},
   "outputs": [
    {
     "name": "stdout",
     "output_type": "stream",
     "text": [
      "Train Accuracy : 1.0\n",
      "Test Accuracy  : 0.747\n"
     ]
    }
   ],
   "source": [
    "from sklearn.metrics import accuracy_score \n",
    "from sklearn.ensemble import RandomForestClassifier\n",
    "\n",
    "rf = RandomForestClassifier(n_estimators=150, max_depth=None, n_jobs=-1)\n",
    "rf_model = rf.fit(X_train_vect, y_train)\n",
    "y_pred = rf_model.predict(X_test_vect)\n",
    "\n",
    "# Train and Test Accuracy\n",
    "print (\"Train Accuracy : {}\".format(accuracy_score(y_train, rf_model.predict(X_train_vect))))\n",
    "print (\"Test Accuracy  : {}\".format(accuracy_score(y_test, y_pred)))"
   ]
  },
  {
   "cell_type": "code",
   "execution_count": 16,
   "metadata": {},
   "outputs": [],
   "source": [
    "import pickle \n",
    "\n",
    "pkl_filename = \"rf_model.pkl\"\n",
    "with open(pkl_filename, 'wb') as file:\n",
    "    pickle.dump(rf_model, file)"
   ]
  },
  {
   "cell_type": "code",
   "execution_count": 17,
   "metadata": {},
   "outputs": [
    {
     "name": "stdout",
     "output_type": "stream",
     "text": [
      "[1]\n"
     ]
    }
   ],
   "source": [
    "x = ['March 15 (Reuters) - Mobile phone chip supplier Qualcomm Inc on Friday won a court victory against iPhone maker Apple Inc, with a jury in federal court in San Diego finding that Apple infringed on three of Qualcomm’s patents, a Qualcomm spokeswoman told Reuters. (Reporting by Stephen Nellis; Editing by Richard Chang)']\n",
    "\n",
    "tfidfVectorizer = joblib.load('tfidfVectorizer.pkl')\n",
    "\n",
    "tfidf_train = tfidfVectorizer.transform(x)\n",
    "x = pd.DataFrame(tfidf_train.toarray())\n",
    "\n",
    "print(rf_model.predict(x))\n"
   ]
  },
  {
   "cell_type": "code",
   "execution_count": null,
   "metadata": {},
   "outputs": [],
   "source": []
  },
  {
   "cell_type": "code",
   "execution_count": null,
   "metadata": {},
   "outputs": [],
   "source": []
  }
 ],
 "metadata": {
  "kernelspec": {
   "display_name": "Python 3",
   "language": "python",
   "name": "python3"
  },
  "language_info": {
   "codemirror_mode": {
    "name": "ipython",
    "version": 3
   },
   "file_extension": ".py",
   "mimetype": "text/x-python",
   "name": "python",
   "nbconvert_exporter": "python",
   "pygments_lexer": "ipython3",
   "version": "3.7.2"
  }
 },
 "nbformat": 4,
 "nbformat_minor": 2
}
