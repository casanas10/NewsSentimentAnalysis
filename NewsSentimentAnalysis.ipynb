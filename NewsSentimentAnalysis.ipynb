{
 "cells": [
  {
   "cell_type": "code",
   "execution_count": 1,
   "metadata": {},
   "outputs": [],
   "source": [
    "import os\n",
    "import glob\n",
    "import numpy as np\n",
    "import pandas as pd\n",
    "import nltk\n",
    "pd.set_option('display.max_colwidth', 200) # set max number of characters can see in pd dataframe"
   ]
  },
  {
   "cell_type": "code",
   "execution_count": 2,
   "metadata": {},
   "outputs": [
    {
     "data": {
      "text/html": [
       "<div>\n",
       "<style scoped>\n",
       "    .dataframe tbody tr th:only-of-type {\n",
       "        vertical-align: middle;\n",
       "    }\n",
       "\n",
       "    .dataframe tbody tr th {\n",
       "        vertical-align: top;\n",
       "    }\n",
       "\n",
       "    .dataframe thead th {\n",
       "        text-align: right;\n",
       "    }\n",
       "</style>\n",
       "<table border=\"1\" class=\"dataframe\">\n",
       "  <thead>\n",
       "    <tr style=\"text-align: right;\">\n",
       "      <th></th>\n",
       "      <th>long_date_format</th>\n",
       "      <th>headline</th>\n",
       "      <th>text</th>\n",
       "      <th>url</th>\n",
       "    </tr>\n",
       "  </thead>\n",
       "  <tbody>\n",
       "    <tr>\n",
       "      <th>0</th>\n",
       "      <td>Mon Nov 13, 2006 3:16am EST</td>\n",
       "      <td>Hitachi, GE boost alliance in nuclear power business</td>\n",
       "      <td>TOKYO  (Reuters) - Hitachi Ltd. ( 6501.T ) said on Monday it has agreed with General Electric Co. ( GE.N ) to expand their global alliance in the nuclear power business, aiming to strengthen thei...</td>\n",
       "      <td>http://www.reuters.com/article/2006/11/13/us-energy-hitachi-ge-idUSTKB00256820061113</td>\n",
       "    </tr>\n",
       "    <tr>\n",
       "      <th>1</th>\n",
       "      <td>Mon Nov 13, 2006 8:45am EST</td>\n",
       "      <td>Volvo to cut 1,000 staff at Virginia plant</td>\n",
       "      <td>STOCKHOLM  (Reuters) - Truck maker Volvo said on Monday it would cut about 1,000 staff at its Dublin, Virginia plant in the United States due to an expected decline in output. After years of stro...</td>\n",
       "      <td>http://www.reuters.com/article/2006/11/13/us-autos-volvo-us-idUSSAT00355920061113</td>\n",
       "    </tr>\n",
       "    <tr>\n",
       "      <th>2</th>\n",
       "      <td>Mon Nov 13, 2006 3:15am EST</td>\n",
       "      <td>European banks hiding full pension obligations</td>\n",
       "      <td>ZURICH, Nov 13 (Reuter) - West European banks are failing to disclose unfunded staff pension obligations running to billions of dollars, in contrast to U.S. banks which are required to show the f...</td>\n",
       "      <td>http://www.reuters.com/article/2006/11/13/us-financial-pensions-idUSL1083562820061113</td>\n",
       "    </tr>\n",
       "    <tr>\n",
       "      <th>3</th>\n",
       "      <td>Mon Nov 13, 2006 7:13am EST</td>\n",
       "      <td>Hitachi, GE to form joint nuclear power ventures</td>\n",
       "      <td>TOKYO  (Reuters) - Japan's Hitachi Ltd. and U.S. group General Electric Co. said on Monday they would set up joint ventures in Japan and the United States to combine their nuclear power operation...</td>\n",
       "      <td>http://www.reuters.com/article/2006/11/13/us-energy-hitachi-ge-nuclear-idUST3593020061113</td>\n",
       "    </tr>\n",
       "    <tr>\n",
       "      <th>4</th>\n",
       "      <td>Mon Nov 13, 2006 7:29am EST</td>\n",
       "      <td>Eddie Bauer agrees to be bought for $286 million</td>\n",
       "      <td>(Reuters) - Eddie Bauer Holdings Inc. EBHI.O said and it has agreed to be acquired by a company owned by affiliates of Sun Capital Partners Inc. and Golden Gate Capital for about $286 million and...</td>\n",
       "      <td>http://www.reuters.com/article/2006/11/13/us-retail-eddiebauer-suncapitalpartners-idUSWNAS309120061113</td>\n",
       "    </tr>\n",
       "  </tbody>\n",
       "</table>\n",
       "</div>"
      ],
      "text/plain": [
       "              long_date_format  \\\n",
       "0  Mon Nov 13, 2006 3:16am EST   \n",
       "1  Mon Nov 13, 2006 8:45am EST   \n",
       "2  Mon Nov 13, 2006 3:15am EST   \n",
       "3  Mon Nov 13, 2006 7:13am EST   \n",
       "4  Mon Nov 13, 2006 7:29am EST   \n",
       "\n",
       "                                               headline  \\\n",
       "0  Hitachi, GE boost alliance in nuclear power business   \n",
       "1            Volvo to cut 1,000 staff at Virginia plant   \n",
       "2        European banks hiding full pension obligations   \n",
       "3      Hitachi, GE to form joint nuclear power ventures   \n",
       "4      Eddie Bauer agrees to be bought for $286 million   \n",
       "\n",
       "                                                                                                                                                                                                      text  \\\n",
       "0   TOKYO  (Reuters) - Hitachi Ltd. ( 6501.T ) said on Monday it has agreed with General Electric Co. ( GE.N ) to expand their global alliance in the nuclear power business, aiming to strengthen thei...   \n",
       "1   STOCKHOLM  (Reuters) - Truck maker Volvo said on Monday it would cut about 1,000 staff at its Dublin, Virginia plant in the United States due to an expected decline in output. After years of stro...   \n",
       "2   ZURICH, Nov 13 (Reuter) - West European banks are failing to disclose unfunded staff pension obligations running to billions of dollars, in contrast to U.S. banks which are required to show the f...   \n",
       "3   TOKYO  (Reuters) - Japan's Hitachi Ltd. and U.S. group General Electric Co. said on Monday they would set up joint ventures in Japan and the United States to combine their nuclear power operation...   \n",
       "4   (Reuters) - Eddie Bauer Holdings Inc. EBHI.O said and it has agreed to be acquired by a company owned by affiliates of Sun Capital Partners Inc. and Golden Gate Capital for about $286 million and...   \n",
       "\n",
       "                                                                                                      url  \n",
       "0                    http://www.reuters.com/article/2006/11/13/us-energy-hitachi-ge-idUSTKB00256820061113  \n",
       "1                       http://www.reuters.com/article/2006/11/13/us-autos-volvo-us-idUSSAT00355920061113  \n",
       "2                   http://www.reuters.com/article/2006/11/13/us-financial-pensions-idUSL1083562820061113  \n",
       "3               http://www.reuters.com/article/2006/11/13/us-energy-hitachi-ge-nuclear-idUST3593020061113  \n",
       "4  http://www.reuters.com/article/2006/11/13/us-retail-eddiebauer-suncapitalpartners-idUSWNAS309120061113  "
      ]
     },
     "execution_count": 2,
     "metadata": {},
     "output_type": "execute_result"
    }
   ],
   "source": [
    "all_news = pd.read_pickle(\"./data/newspickle.pkl\")\n",
    "all_news.head()"
   ]
  },
  {
   "cell_type": "code",
   "execution_count": 3,
   "metadata": {},
   "outputs": [
    {
     "name": "stdout",
     "output_type": "stream",
     "text": [
      "News loaded\n"
     ]
    }
   ],
   "source": [
    "all_news_labeled = pd.read_pickle(\"./data/labeled_news.pkl\")\n",
    "print(\"News loaded\")"
   ]
  },
  {
   "cell_type": "markdown",
   "metadata": {},
   "source": [
    "## Exploring the data set"
   ]
  },
  {
   "cell_type": "code",
   "execution_count": 4,
   "metadata": {},
   "outputs": [
    {
     "name": "stdout",
     "output_type": "stream",
     "text": [
      "Input data has 106494 rows and 9 columns\n"
     ]
    }
   ],
   "source": [
    "# What is the shape of this datataset\n",
    "print(\"Input data has {} rows and {} columns\".format(len(all_news_labeled), len(all_news_labeled.columns)))"
   ]
  },
  {
   "cell_type": "code",
   "execution_count": 5,
   "metadata": {},
   "outputs": [
    {
     "name": "stdout",
     "output_type": "stream",
     "text": [
      "Out of 106494 rows, 32597 are negative, 6642 are neutral, 67255 are positive\n"
     ]
    }
   ],
   "source": [
    "# How many revies are negative and positive?\n",
    "\n",
    "print(\"Out of {} rows, {} are negative, {} are neutral, {} are positive\".format(len(all_news_labeled), \n",
    "                                                       len(all_news_labeled[all_news_labeled['label']==-1]), \n",
    "                                                       len(all_news_labeled[all_news_labeled['label']==0]),\n",
    "                                                       len(all_news_labeled[all_news_labeled['label']==1])))"
   ]
  },
  {
   "cell_type": "code",
   "execution_count": 6,
   "metadata": {},
   "outputs": [
    {
     "name": "stdout",
     "output_type": "stream",
     "text": [
      "Number of null in label: 0\n",
      "Number of null in text: 0\n"
     ]
    }
   ],
   "source": [
    "# Is there any missing data?\n",
    "print(\"Number of null in label: {}\".format(all_news_labeled['label'].isnull().sum()))\n",
    "print(\"Number of null in text: {}\".format(all_news_labeled['text'].isnull().sum()))"
   ]
  },
  {
   "cell_type": "code",
   "execution_count": 7,
   "metadata": {},
   "outputs": [
    {
     "name": "stdout",
     "output_type": "stream",
     "text": [
      "============================================================\n",
      " DETROIT  (Reuters) - General Motors Corp will offer buyouts or early retirements to all 74,000 U.S. hourly workers represented by the United Auto Workers in a sweeping deal with the union intended to clear the way for GM to hire lower-cost replacements. The cost-saving agreement follows a program launched in January for about 5,200 workers at GM's service parts and operations facilities across the United States and five other facilities, and comes with better terms than GM offered to UAW workers in 2006. GM representatives said it would take weeks to introduce the complicated buyout offers to its workers, who will have 45 days to consider them and then seven days to reconsider. It expects to complete the voluntary program by July 1. The benefits of the workforce transformation plan will start to hit GM \"later this year and into '09,\" Chief Financial Officer Fritz Henderson told reporters on Tuesday. The costs of the buyout program will begin to accrue to GM in the first half of 2008 as the workers opt for one of the programs, Henderson said. GM's agreement with the UAW follows similar deals the union reached with Ford Motor Co and Chrysler LLC following the 2007 contracts that allow U.S. car makers to hire many workers at lower wages and benefits, while guaranteeing some jobs. GM executives have said the automaker will take advantage of a ground-breaking contract provision that will allow the automaker to hire workers at second-tier wages, but they have declined to say how many of the current workers who take the offers will be replaced. GM said it would offer better terms and more choices for its already-retirement-eligible UAW workers, including increasing payouts to $45,000 for production workers and $62,500 for skilled trades workers. The automaker had offered $35,000 cash across the board in 2006 for its retirement-eligible workers, but Ford and Chrysler recently increased their retirement incentives for hourly workers and the U.S. economy has weakened since 2006. Workers may choose a lump-sum payment, an annuity, or roll part or all of it into an individual retirement account or a 401K to postpone the tax hit and potentially make the offer worth much more than those on offer for UAW workers at Ford. GM factory workers who retire after 30 years currently have pensions of about $3,100 per month, plus health benefits. The company also has lowered the eligibility for an enhanced retirement program for workers with 26 years experience who will be allowed to take what amounts to a reduced pension for four years before entering full retirement. GM workers who are over 50 with at least 10 years experience may retire with reduced pensions, plus benefits. UAW workers with more than 10 years experience also could opt for a $140,000 lump-sum buyout to leave with only their accrued pensions, or $70,000 if they have less than 10 years. GM does not plan to release a target for the number of workers it expects to participate. It plans to release a final figure when the program is completed, possibly in July, representatives said. The deals for GM's workers differ from Ford's and Chrysler's in part because of the differing ages of the work forces and company objectives. More than 34,000 workers left GM after accepting buyout packages that ranged from $35,000 to as much as $140,000 in 2006. The buyout offers from the U.S.-based automakers come amid concerns about the strength of the U.S. economy and the possibility that U.S. industry light vehicle sales could slump more in 2008, after a drop in 2007. Top executives of GM, Ford and Chrysler all have said in recent weeks that they would take further restructuring actions if necessary because of economic conditions. All three automakers reached agreements with the UAW that would allow them to hire new workers for some jobs starting at $14 per hour, or about half the current average hourly wage. U.S. automakers have been cutting capacity to match their declines in market share and their new UAW contracts allow them to shift their union retiree health-care obligations to union-controlled trusts. (Editing by  Braden Reddall ) || 1\n",
      "============================================================\n",
      "============================================================\n",
      " WASHINGTON  (Reuters) - Corporate whistleblowers could score multi-million-dollar payouts for reporting financial wrongdoing under a new program approved by securities regulators on Wednesday. A divided Securities and Exchange Commission voted 3-2 to finalize the measure that has grown into one of the most contentious requirements of last year's Dodd-Frank Wall Street overhaul law. Tipsters would be paid between 10 and 30 percent of sanctions over $1 million for original and useful information. Companies from Google Inc to JPMorgan Chase & Co have expressed fears the whistleblower rule will undermine internal compliance programs at public companies by encouraging employees to go directly to the SEC. The rule does not require whistleblowers to first, or simultaneously, report problems internally, as companies had sought. In a concession to companies, the final SEC version would make a whistleblower still eligible for a reward if he or she reports wrongdoing to the company, and the company, in turn, reports it to the SEC. A whistleblower can also improve the chances of receiving a higher percentage award by internal reporting, but the rule only protects the whistleblower from retaliation if the employee also reports wrongdoing to the SEC. Business interests such as the U.S. Chamber of Commerce remain deeply unhappy about the rule and could appeal in court. The SEC had put \"trial lawyer profits ahead of effective compliance,\" the chamber said in a statement. Rewarding whistleblowers has a long history in the United States. Last year the U.S. Department of Justice gave former GlaxoSmithKline Plc employee Cheryl Eckard a $96 million reward under the U.S. False Claims Act, a Civil War-era law designed to uncover efforts to defraud government programs. BREAK THE SILENCE The SEC rule greatly expands the agency's authority to reward whistleblowers. Prior to Dodd-Frank the SEC could only reward whistleblowers for tips on insider-trading cases. \"Today's rules are intended to the break the silence of those who see a wrong,\" said SEC Chairman Mary Schapiro. She said the final measure struck the correct balance between encouraging whistleblowers to report problems internally when appropriate, while providing the option of heading directly to the SEC. SEC enforcement chief Robert Khuzami told the SEC's public meeting on Wednesday that the rule was already encouraging people to come forward. People who provided tips after Dodd-Frank was signed into law last July could be eligible for a reward. The SEC's two Republican commissioners voted against the rule and raised numerous concerns, from its impact on internal compliance to fears it may inundate the SEC with complaints that do not prove to be fruitful. \"It significantly underestimates the negative impact on internal compliance programs and significantly overestimates our capacity to effectively triage and manage whistleblower complaints,\" said SEC Commissioner Kathleen Casey. Supporters of the rule, such as the National Whistleblowers Center, lauded the agency for resisting opposition from corporate lobbyists. The rule is expected to take effect 60 days after it is published in the Federal Register. The Commodity Futures Trading Commission is working on a similar rule. (Reporting by Sarah N. Lynch; Editing by  Tim Dobbyn ) || 1\n",
      "============================================================\n",
      "============================================================\n",
      " DETROIT  (Reuters) - Chrysler LLC has had talks with General Motors Corp about a deal to combine the No. 1 and No. 3 American automakers at a time when both are struggling to cut costs and shore up cash, sources have said. The No. 3 U.S. automaker has specifically declined to comment on the talks, but Chrysler Chief executive Bob Nardelli said the automaker is talking to a number of firms on potential tie-ups. Following is the text of the Chrysler CEO's letter to employees, sent on Monday at 6 am EDT. Dear Employees, Last week was marked by news headlines unlike anything most of us have seen in our careers. Global financial markets are in turmoil and continue to seek stability as governments work to restore confidence in their banking and financial institutions. Here in the United States, on the heels of record-low consumer sentiment and the mortgage crisis, the credit crunch now presents a more serious issue to the automotive industry than four-dollar-a-gallon gasoline. On Friday, the stock market recorded its eighth consecutive decline, including the worst week on record for the S&P 500 index. Other headlines you may have seen over the weekend reported that GM and Ford had been talking about a merger, and also that there is a possibility of one between Chrysler and GM. As a matter of policy, Chrysler does not comment on speculation or discuss its private business meetings, but I would like to give you a few facts to keep in mind. The leadership team has shared with you on an ongoing basis that the Company is looking at a number of potential global partnerships as it explores growth opportunities around the world. Some of these already announced include our OEM agreements for small cars and trucks with Nissan and for minivan production in North America with Volkswagen. To protect the integrity of our Company and those with whom we meet, we do not confirm or disclose the nature of our business meetings, as many times they do not lead anywhere. I can tell you that we have approached and have been approached by third parties who are interested in exploring future possibilities with Chrysler. As the Company evaluates strategic options to maximize core operations and leverage its assets, we engage in a dialogue with these parties. We do so keeping in mind our vision, our mission, and the best interests of those who have shown tremendous support for this Company -- including you, our employees, dealers, suppliers and customers. It's important for you to know that beyond those partnerships already announced, Chrysler has not formed any new agreements and has no announcements to make at this time. On behalf of the Office of the Chairman and the entire leadership team, I appreciate your continued hard work and your tireless efforts to restore Chrysler to its rightful place in the automotive industry. The focus and dedication you show at this unusually challenging time reflect the strength and the fighting spirit that has made Chrysler the company it is today, and will be tomorrow. Sincerely, Bob (Reporting by  Poornima Gupta , editing by Gerald E. McCormick) || 1\n",
      "============================================================\n",
      "============================================================\n",
      " LONDON  (Reuters) - The London recording studio immortalized by the multi-million-selling Beatles album of the same name has been put up for sale by its owners. Debt-laden music company EMI is seeking buyers for Abbey Road Studios, a mecca for Beatles fans around the world who pose for photographs imitating the picture on the 1969 \"Abbey Road\" album cover which shows Paul, John, George and Ringo strolling over a pedestrian crossing outside the studio. EMI is talking to a few interested parties about selling the North London studios, but a deal is not imminent, a person familiar with the situation told Reuters. The company and its private equity owner Terra Firma declined to comment. Abbey Road, which began life as a Georgian town house built in 1831, has an impressive history aside from the Beatles, who recorded most of their 1960s hit singles and albums there under the direction of EMI house producer George Martin. Its walls have also echoed to music performed by classical composer Edward Elgar, rock bands Pink Floyd and Radiohead, violin maestro Yehudi Menuhin, 1980s bands Spandau Ballet and Simple Minds, as well as Mike Oldfield and Jeff Beck. A sale that includes the brand could raise 25 to 30 million pounds ($39 million to $47 million), the person said. Terra Firma recently told investors it needed more than 100 million pounds to stop EMI breaching banking covenants. A 4 billion pound deal to buy the record label in 2007 has come to epitomize the woes of buyout deals done at the private equity bubble, with a high debt burden and a weak performance crippling the business. The investment has been so tumultuous for Terra Firma that it recently launched a lawsuit against Citigroup claiming the U.S. bank inflated the price of the business during the sale process by not revealing the only other bidder had withdrawn from the auction. Citigroup denies the allegations. (Additional reporting by  Simon Meads , editing by Paul Casciato and  Andrew Dobbie ) || -1\n",
      "============================================================\n",
      "============================================================\n",
      " NEW YORK  (Reuters) - Bank of America Corp. ( BAC.N ) Chief Executive Kenneth Lewis pledged on Thursday to complete the $21 billion acquisition of all of LaSalle Bank from ABN AMRO Holding NV AAH.AS early in the fourth quarter. Lewis tried to reduce speculation that the second-largest U.S. bank might keep LaSalle's Chicago-area business, which includes many affluent clients, while selling its Michigan-based business, where the area economy is weaker. \"We expect to have the entire company, and are looking forward to having it,\" Lewis said on a conference call discussing second-quarter results. \"We like it as it is. We think it has a great (internal rate of return), and some upside potential as well.\" The transaction would give Bank of America control of about 10 percent of U.S. deposits, the maximum allowed under federal limits. (Reporting by Jonathan Stempel) || 1\n",
      "============================================================\n",
      "============================================================\n",
      " NEW YORK  (Reuters) - AIG, the giant insurer bailed out by the U.S. government, posted its second straight quarterly profit, helped by recovery in the value of its investments, but its underlying business remained weak and its shares fell. \"It is clearly still a troubled company,\" said CreditSights analyst Rob Haines. \"Its operations are clearly weaker than some of its higher quality competitors. AIG used to be one of those companies.\" American International Group Inc ( AIG.N ) shares, after rallying ahead of the results on Thursday, closed down $3.80, or 9.67 percent, at $35.48 on Friday. The insurer's latest results included $1.95 billion in special gains, sending AIG into the black once more, and helping to offset declines in operating revenue at its insurance businesses. Net income was $455 million, compared with a loss of $24.47 billion, in the year-earlier quarter. Its profit in the second quarter was $1.8 billion. The gains in the latest quarter included improvement in the value of securities held by AIG Financial Products, basically a reversal of the losses that were the primary driver in AIG's near collapse last year. AIG has received up to $180 billion of federal aid, including more than $80 billion in loans, and is now 80 percent-owned by U.S. taxpayers. \"We continue to focus on stabilizing and strengthening our businesses, but expect continued volatility in reported results in the coming quarters,\" said Chief Executive Robert Benmosche, in the earnings statement. The company had sought to sell off major assets to help repay the United States. But it has struggled to find buyers willing to pay enough. But AIG said it will significantly reduce its federal loan balance in the fourth quarter as it completes a $25 billion pact with the Federal Reserve, giving the Fed a preferred stakes in life insurance units, AIA and Alico. As a result, AIG will record a charge of about $5 billion related to that deal and another $1.4 billion charge from its $2.15 billion October sale of Taiwan life insurance unit Nan Shan. DIFFICULT LANDSCAPE CreditSights' Haines said it was a positive that AIG did not have any \"bombshell\" investment losses in the latest quarter, but that it would need to make bigger strides in repaying taxpayers and show several quarters of growth within its insurance operations, before anyone could take it seriously. Insurers widely reported a drop in sales to policyholders in the third quarter, as the effects of rising unemployment and a contraction in spending reduced demand for coverage. But the situation at AIG, which had already lost business in the wake of its taxpayer bailout, may be especially acute. AIG's general insurance operations reported a 13 percent decline in net policy sales. Life insurance and retirement services had a 16 percent drop in premium income. The divisions reported quarterly operating profits thanks to higher net investment income, compared with losses a year earlier. AIG, for the second quarter in a row, did not hold its customary post-earnings call with investors. Management was also not available to comment further to the media, said a spokeswoman. It may be that Benmosche, who had been vocal in his early days as CEO, is waiting until he has better news to divulge, or at least a rock solid plan for recovery. \"If a company that has a severe economic or financial problem and has not yet arrived at a solution that is realistic, it is much better not holding news or investor conferences,\" said Howard Rubenstein, president of public relations firm Rubenstein Associates. Rubenstein was not speaking specifically about AIG, a company he has advised in the past. (Reporting by Lilla Zuill; editing by  Derek Caney , Dave Zimmerman and  Andre Grenon ) || 1\n",
      "============================================================\n",
      "============================================================\n",
      " NEW YORK  (Reuters) - McAfee Inc MFE.N, the No. 2 U.S. security software maker, reported quarterly revenue that missed Wall Street projections as sales to consumers grew at their slowest rate in almost two years. The company's shares fell 4.5 percent as the revenue shortfall, which came in the wake of substantially stronger-than-expected earnings from bigger rival Symantec Corp ( SYMC.O ), overshadowed better-than-expected profit. McAfee on Thursday reported profit, excluding items, of 62 cents per share, in the third quarter ended September 30, above the average forecast of 60 cents, according to Thomson Reuters I/B/E/S. Revenue rose 18 percent to $485 million, below the $487 million average analyst forecast. Sales of McAfee's consumer software rose 8 percent from a year earlier to $177 million. It was the slowest rate of growth since the fourth quarter of 2007. Its corporate business reported a 25 percent sales increase, posting quarterly revenue of $308 million. Investors closely watch sales of consumer software because analysts say that such products are more profitable than programs for businesses. The company does not disclose the profits of each division. McAfee also said that it has agreed to pay No. 2 PC maker Dell Inc DELL.O to recommend its security software to its customers worldwide for at least the next two years. McAfee has the right to extend for a third year. \"This relationship is very profitable for McAfee,\" said Chief Executive Dave DeWalt, who has negotiated deals with other PC makers that have boosted sales of consumer software in previous quarters. Those sales grew at a year-on-year rate of 13 percent in the second quarter and 12 percent in the first quarter. The company forecast that it will report fourth-quarter profit, excluding items, of 61 to 65 cents per share on revenue of $505 million to $525 million. Analysts expect McAfee to post profit of 63 cents per share on revenue of $507 million. Net income fell 25 percent to $37 million, or 23 cents per share, from $49 million, or 31 cents, a year earlier. McAfee shares fell 4.5 percent to $41.80 from their New York Stock Exchange close of $43.75. (Reporting by Jim Finkle, editing by Leslie Gevirtz) || 1\n",
      "============================================================\n",
      "============================================================\n",
      " WASHINGTON  (Reuters) - Greece, pressing for curbs on financial speculation that it blames for worsening the country's debt crisis, said on Tuesday the idea would be examined by the Group of 20 leading powers at their next summit. Greek Prime Minister George Papandreou told reporters after meeting with President Barack Obama that the U.S. leader had been encouraging on Athens' effort to restrict speculators. A U.S. official, however, offered a very measured response when asked about the call for curbs on instruments like credit default swaps, leaving unclear the degree to which Washington supported Papandreou's effort. \"We have found a positive response from President Obama, which means that this issue will be on the agenda in the next G20 meeting,\" the Greek prime minister said after the White House meeting. \"We ourselves were in the last few months the victims of speculators. Obama assured me that he considers the initiative useful, important, positive and that the United States will contribute in this direction,\" he added. Canada hosts the next summit of the Group of 20 political leaders in June, although G20 finance ministers will gather in Washington in late April. The meeting with Obama was part of a concentrated series of international appearances by Papandreou aimed at enlisting major power support and shoring up investor confidence in Greece's ability to get through its budget crisis. A senior Greek official, speaking to reporters after the meeting with Obama, said the United States would present its own plans at the G20 to damp down financial speculation. He said the U.S. proposals could go beyond the ban on naked selling of derivatives the European Commission on Tuesday said it would consider. Naked selling involves selling a credit default swap to a buyer who does not hold the underlying sovereign bond, which is usually a bet the bond will default. Asked about Papandreou's call for curbs on speculation, an Obama administration official simply said that the United States was already working on a broad overhaul of U.S. financial regulation. \"The president's plan would require more transparent trading and central clearing for standardized derivatives,\" the official said, adding that this would help regulators crack down on market manipulation and abuse. NOT SPECULATION Washington made plain its belief that the main source of Greece's budget problems was not market speculators. \"The central task before the Greek government is to continue to move forward on their plans to restore fiscal stability and growth to its economy,\" the official said. Greece was forced to take unpopular steps to slash spending after discovering the country's budget deficit had been understated by half, a discovery that spooked global investors and drove its borrowing costs sharply higher. \"I see most of what has happened here as really aimed at Greek domestic opinion,\" said Jacob Kirkegaard of the Peterson Institute for International Economics. \"Coming to the U.S. is a photo op with Obama that is domestic-opinion orientated.\" Athens says activities such as short selling by investors of securities they do not own inflates debt costs for countries struggling to cut deficits. Greece's borrowing costs have surged this year, although yields have declined somewhat since the government announced its fiscal austerity package. On Tuesday, the yield spread of 10-year Greek government bonds over German bunds traded around 293 basis points, beneath a peak of more than 400 basis points reached in late January. German Chancellor Angela Merkel said on Tuesday there were \"positive\" signs that Greece was making progress, including its recent successful government bond issue. \"In my assessment, Greece does not need any financial support,\" she told journalists in Luxembourg. Papandreou also said he was not in Washington to seek aid. Greek officials visited the International Monetary Fund on Monday for informal talks, but there was no indication that there had been any discussion of aid. Papandreou has suggested that seeking IMF assistance was possible if all else failed. The IMF has remained on the fringes of the Greek crisis, sensitive to calls by European leaders that they want to deal with Greece as a member of the euro zone. (Additional reporting by  Lesley Wroughton ,  Caren Bohan  and  Jeff Mason  in Washington and by John O'Donnell and Michele Sinner in Luxembourg; Writing by  Glenn Somerville  and  Alister Bull ; Editing by  Padraic Cassidy ,  James Dalgleish  and Leslie Adler) || -1\n",
      "============================================================\n",
      "============================================================\n",
      " NEW YORK  (Reuters) - Apple Inc's hefty iPhone price cut pits it in direct competition with handsets from Motorola Inc and Palm Inc, which are struggling to convince Wall Street they can turn around their aging brands. With the music-playing iPhone now selling at $399 instead of $599, its price tag is much closer to other smartphones in the U.S. market, including Palm's Treo and Motorola's Razr2. \"This is Palm's main market,\" said Deutsche Bank analyst Brian Modoff, who does not see Apple's move as having as big an impact on Nokia Oyj and other handset makers. Palm, which is entirely dependent on the smartphone market, sold 2.7 million phones in its last fiscal year ended in June. The Treo, often used by business clients for e-mail and Web surfing, sells for up to $399 at Verizon Wireless, or $199 at Sprint Nextel Corp to customers who sign a contract. Palm said in June it expected the touch-screen iPhone to temporarily slow Treo demand, and Oppenheimer analyst Lawrence Harris said Apple's price cut could exacerbate this. \"It has the potential to take away from Treo sales,\" Harris said, adding that the move could make the low end of the handset market increasingly important for Palm. \"I think that's why you're going to see additional emphasis on cheaper models like the Centro,\" he said, referring to a phone Palm is expected to release in coming weeks for $99. Some analysts said iPhone, which has only been in the market for two months, would not sell in enough volume to noticeably hurt bigger handset makers. Apple has forecast 1 million units sold by the end of September and 10 million by the end of 2008. But other analysts said the iPhone, while still pricier than the latest Razr, carries a lot more brand cachet with consumers than Motorola's tired line-up. Even before Apple's move into the mobile market, Motorola has been struggling to regain market share amid criticism for not coming up with a strong follow-up to the Razr. It recently launched an advanced model of its flagship phone, the Razr2, in the United States for $249 to $299. \"The iPhone will still sell at a premium to the Razr2 but the difference has narrowed,\" Harris said. \"It does put pressure on Motorola to show some new products or discuss their product strategy on Friday,\" he said, referring to Motorola's scheduled analyst day, where investors will be looking for any plans for new handset models. Investors will want to know Motorola's U.S. plans for touch-screen phones, which users control by moving their fingers across the screen, for example. The touch-sensitive iPhone screen was one of the device's most touted features. Many analysts see the iPhone having less impact on companies like Nokia, Samsung Electronics Co and LG Electronics Inc because they have a broader range of phones than Palm. But FTN Midwest analyst Blaine Carroll said Palm would not be the only company to lose out to iPhone. \"I think it will take a little share across the board in general. The price cut just makes it a little more affordable. I don't think the price cut necessarily changes the dynamic of the market,\" Carroll said. || -1\n",
      "============================================================\n",
      "============================================================\n",
      " NEW YORK  (Reuters) - Italian shoe maker Geox SpA ( GEO.MI ) could see its revenues and stock price rise in the coming years as it executes its expansion plan, according to a report in the latest issue of Barron's financial newspaper. After a recent sell-off in the shares, fueled by disappointing sales and profit growth and a reduced earnings forecast, the stock has fallen to levels that underestimate Geox's growth potential, earnings power, and \"pristine balance sheet,\" the paper said in its July 28 edition. Geox shares trade for about 7 euros, and its lightly traded American shares ( GXSBF.PK ) have fallen to $10.70 on the Pink Sheets from $24.15 last October. However, if sales and earnings climb by an expected 15 percent to 20 percent a year, Geox could rally to 9-11 euros in the next two to three years, a gain of 30 percent to 50 percent, the paper said. Geox is \"a great company with a temporary problem,\" Sebastien Mallet, an analyst with T. Rowe Price, which owns about 5.27 million shares, told Barron's. The United States, home to just 16 Geox stores, accounts for a mere 3 percent of total sales, but U.S.-based sales rose 28 percent -- or 40 percent in dollars -- in 2007, even without the benefit of heavy advertising, the paper said. Europe currently accounts for 83 percent of Geox sales. Geox hopes to have 30 stores in the U.S. by year end, the paper said, citing comments from the company's chief financial officer. That number could double by 2010, and reach 100 or more afterward. Geox will open about 400 new stores in Europe in the next three years and ramp up expansion in Southeast Asia, China and Japan, where it has a small presence. Geox sales could double to 1.6 billion euros in five years, according to Scilla Huang Sun, a portfolio manager at Bank Julius Baer, the paper said. (Reporting by  Franklin Paul ; editing by Jeffrey Benkoe) || 1\n",
      "============================================================\n"
     ]
    }
   ],
   "source": [
    "size_of_samp = 10\n",
    "rand_samples_to_check = np.random.randint(len(all_news_labeled), size=size_of_samp)\n",
    "\n",
    "for samp_num in rand_samples_to_check:\n",
    "    print ('============================================================')\n",
    "    print (all_news_labeled['text'][samp_num], '||', all_news_labeled['label'][samp_num])\n",
    "    print ('============================================================')"
   ]
  },
  {
   "cell_type": "code",
   "execution_count": 8,
   "metadata": {},
   "outputs": [
    {
     "name": "stdout",
     "output_type": "stream",
     "text": [
      "67255\n"
     ]
    }
   ],
   "source": [
    "positives = all_news_labeled.loc[all_news_labeled['label']==1]\n",
    "print(len(positives))"
   ]
  },
  {
   "cell_type": "code",
   "execution_count": 9,
   "metadata": {},
   "outputs": [],
   "source": [
    "N_SAMPLES = 5000"
   ]
  },
  {
   "cell_type": "code",
   "execution_count": 10,
   "metadata": {},
   "outputs": [
    {
     "name": "stdout",
     "output_type": "stream",
     "text": [
      "5000\n"
     ]
    },
    {
     "data": {
      "text/html": [
       "<div>\n",
       "<style scoped>\n",
       "    .dataframe tbody tr th:only-of-type {\n",
       "        vertical-align: middle;\n",
       "    }\n",
       "\n",
       "    .dataframe tbody tr th {\n",
       "        vertical-align: top;\n",
       "    }\n",
       "\n",
       "    .dataframe thead th {\n",
       "        text-align: right;\n",
       "    }\n",
       "</style>\n",
       "<table border=\"1\" class=\"dataframe\">\n",
       "  <thead>\n",
       "    <tr style=\"text-align: right;\">\n",
       "      <th></th>\n",
       "      <th>long_date_format</th>\n",
       "      <th>headline</th>\n",
       "      <th>text</th>\n",
       "      <th>url</th>\n",
       "      <th>neg</th>\n",
       "      <th>neu</th>\n",
       "      <th>pos</th>\n",
       "      <th>compound</th>\n",
       "      <th>label</th>\n",
       "    </tr>\n",
       "  </thead>\n",
       "  <tbody>\n",
       "    <tr>\n",
       "      <th>74639</th>\n",
       "      <td>Thu Jan 17, 2013 4:58pm EST</td>\n",
       "      <td>Housing, labor data provide upbeat signs on economy</td>\n",
       "      <td>WASHINGTON  (Reuters) - The number of Americans filing new claims for unemployment aid hit a five-year low last week and residential construction surged in December, the latest signs that the U.S...</td>\n",
       "      <td>http://www.reuters.com/article/2013/01/17/us-usa-economy-idUSBRE90E0KL20130117</td>\n",
       "      <td>0.059</td>\n",
       "      <td>0.846</td>\n",
       "      <td>0.095</td>\n",
       "      <td>0.9847</td>\n",
       "      <td>1</td>\n",
       "    </tr>\n",
       "    <tr>\n",
       "      <th>98493</th>\n",
       "      <td>Sat Feb 9, 2008 5:33am EST</td>\n",
       "      <td>Japan may submit BOJ governor plan by Feb 15-paper</td>\n",
       "      <td>TOKYO  (Reuters) - Japan may propose a plan to parliament as soon as February 15 to promote Bank of Japan Deputy Governor Toshiro Muto as the head of the bank to succeed Toshihiko Fukui, whose te...</td>\n",
       "      <td>http://www.reuters.com/article/2008/02/09/us-japan-economy-boj-idUSL0958932320080209</td>\n",
       "      <td>0.011</td>\n",
       "      <td>0.879</td>\n",
       "      <td>0.110</td>\n",
       "      <td>0.9861</td>\n",
       "      <td>1</td>\n",
       "    </tr>\n",
       "    <tr>\n",
       "      <th>71178</th>\n",
       "      <td>Fri Jan 29, 2010 5:32pm EST</td>\n",
       "      <td>MGM studio wins debt leeway as auction progresses</td>\n",
       "      <td>LOS ANGELES  (Reuters) - Lenders for Hollywood studio Metro-Goldwyn-Mayer MGMYR.UL agreed to extend a debt forbearance to March 31, which gives the studio more time to find a buyer. The extension...</td>\n",
       "      <td>http://www.reuters.com/article/2010/01/29/us-mgm-debt-idUSTRE60S6KQ20100129</td>\n",
       "      <td>0.026</td>\n",
       "      <td>0.915</td>\n",
       "      <td>0.059</td>\n",
       "      <td>0.7845</td>\n",
       "      <td>1</td>\n",
       "    </tr>\n",
       "    <tr>\n",
       "      <th>60145</th>\n",
       "      <td>Tue Jun 23, 2009 1:44am EDT</td>\n",
       "      <td>Ford and Nissan to tap factory retool loans: report</td>\n",
       "      <td>(Reuters) - The U.S. government plans to disclose that Ford Motor Co, Tesla Motors Inc and Nissan Motor Co will be among the beneficiaries of a $25 billion loan program created by Congress to hel...</td>\n",
       "      <td>http://www.reuters.com/article/2009/06/23/us-ford-idUSTRE55M0WE20090623</td>\n",
       "      <td>0.007</td>\n",
       "      <td>0.906</td>\n",
       "      <td>0.087</td>\n",
       "      <td>0.9063</td>\n",
       "      <td>1</td>\n",
       "    </tr>\n",
       "    <tr>\n",
       "      <th>53424</th>\n",
       "      <td>Tue Feb 15, 2011 5:05pm EST</td>\n",
       "      <td>Investor Ken Fisher now \"neutral\" on U.S. stocks</td>\n",
       "      <td>NEW YORK  (Reuters) - Billionaire investor Ken Fisher believes bullish sentiment among investors might be getting a little too long in the tooth as large-cap U.S. stocks have doubled in price sin...</td>\n",
       "      <td>http://www.reuters.com/article/2011/02/15/us-investing-fisher-idUSTRE71E6XR20110215</td>\n",
       "      <td>0.029</td>\n",
       "      <td>0.935</td>\n",
       "      <td>0.036</td>\n",
       "      <td>0.3857</td>\n",
       "      <td>1</td>\n",
       "    </tr>\n",
       "  </tbody>\n",
       "</table>\n",
       "</div>"
      ],
      "text/plain": [
       "                  long_date_format  \\\n",
       "74639  Thu Jan 17, 2013 4:58pm EST   \n",
       "98493   Sat Feb 9, 2008 5:33am EST   \n",
       "71178  Fri Jan 29, 2010 5:32pm EST   \n",
       "60145  Tue Jun 23, 2009 1:44am EDT   \n",
       "53424  Tue Feb 15, 2011 5:05pm EST   \n",
       "\n",
       "                                                  headline  \\\n",
       "74639  Housing, labor data provide upbeat signs on economy   \n",
       "98493   Japan may submit BOJ governor plan by Feb 15-paper   \n",
       "71178    MGM studio wins debt leeway as auction progresses   \n",
       "60145  Ford and Nissan to tap factory retool loans: report   \n",
       "53424     Investor Ken Fisher now \"neutral\" on U.S. stocks   \n",
       "\n",
       "                                                                                                                                                                                                          text  \\\n",
       "74639   WASHINGTON  (Reuters) - The number of Americans filing new claims for unemployment aid hit a five-year low last week and residential construction surged in December, the latest signs that the U.S...   \n",
       "98493   TOKYO  (Reuters) - Japan may propose a plan to parliament as soon as February 15 to promote Bank of Japan Deputy Governor Toshiro Muto as the head of the bank to succeed Toshihiko Fukui, whose te...   \n",
       "71178   LOS ANGELES  (Reuters) - Lenders for Hollywood studio Metro-Goldwyn-Mayer MGMYR.UL agreed to extend a debt forbearance to March 31, which gives the studio more time to find a buyer. The extension...   \n",
       "60145   (Reuters) - The U.S. government plans to disclose that Ford Motor Co, Tesla Motors Inc and Nissan Motor Co will be among the beneficiaries of a $25 billion loan program created by Congress to hel...   \n",
       "53424   NEW YORK  (Reuters) - Billionaire investor Ken Fisher believes bullish sentiment among investors might be getting a little too long in the tooth as large-cap U.S. stocks have doubled in price sin...   \n",
       "\n",
       "                                                                                        url  \\\n",
       "74639        http://www.reuters.com/article/2013/01/17/us-usa-economy-idUSBRE90E0KL20130117   \n",
       "98493  http://www.reuters.com/article/2008/02/09/us-japan-economy-boj-idUSL0958932320080209   \n",
       "71178           http://www.reuters.com/article/2010/01/29/us-mgm-debt-idUSTRE60S6KQ20100129   \n",
       "60145               http://www.reuters.com/article/2009/06/23/us-ford-idUSTRE55M0WE20090623   \n",
       "53424   http://www.reuters.com/article/2011/02/15/us-investing-fisher-idUSTRE71E6XR20110215   \n",
       "\n",
       "         neg    neu    pos  compound  label  \n",
       "74639  0.059  0.846  0.095    0.9847      1  \n",
       "98493  0.011  0.879  0.110    0.9861      1  \n",
       "71178  0.026  0.915  0.059    0.7845      1  \n",
       "60145  0.007  0.906  0.087    0.9063      1  \n",
       "53424  0.029  0.935  0.036    0.3857      1  "
      ]
     },
     "execution_count": 10,
     "metadata": {},
     "output_type": "execute_result"
    }
   ],
   "source": [
    "positives_sample = positives.sample(n=N_SAMPLES)\n",
    "print(len(positives_sample))\n",
    "positives_sample.head()"
   ]
  },
  {
   "cell_type": "code",
   "execution_count": 11,
   "metadata": {},
   "outputs": [],
   "source": [
    "negatives = all_news_labeled.loc[all_news_labeled['label']==-1]\n",
    "neutral = all_news_labeled.loc[all_news_labeled['label']==0]"
   ]
  },
  {
   "cell_type": "code",
   "execution_count": 12,
   "metadata": {},
   "outputs": [],
   "source": [
    "negatives_sample = negatives.sample(n=N_SAMPLES)\n",
    "neutral_sample = neutral.sample(n=N_SAMPLES)"
   ]
  },
  {
   "cell_type": "code",
   "execution_count": 13,
   "metadata": {},
   "outputs": [
    {
     "data": {
      "text/html": [
       "<div>\n",
       "<style scoped>\n",
       "    .dataframe tbody tr th:only-of-type {\n",
       "        vertical-align: middle;\n",
       "    }\n",
       "\n",
       "    .dataframe tbody tr th {\n",
       "        vertical-align: top;\n",
       "    }\n",
       "\n",
       "    .dataframe thead th {\n",
       "        text-align: right;\n",
       "    }\n",
       "</style>\n",
       "<table border=\"1\" class=\"dataframe\">\n",
       "  <thead>\n",
       "    <tr style=\"text-align: right;\">\n",
       "      <th></th>\n",
       "      <th>long_date_format</th>\n",
       "      <th>headline</th>\n",
       "      <th>text</th>\n",
       "      <th>url</th>\n",
       "      <th>neg</th>\n",
       "      <th>neu</th>\n",
       "      <th>pos</th>\n",
       "      <th>compound</th>\n",
       "      <th>label</th>\n",
       "    </tr>\n",
       "  </thead>\n",
       "  <tbody>\n",
       "    <tr>\n",
       "      <th>71398</th>\n",
       "      <td>Fri Sep 5, 2008 1:15pm EDT</td>\n",
       "      <td>INSTANT VIEW: Non-farm payrolls down in August</td>\n",
       "      <td>(Corrects paragraph 3 to show the August unemployment rate was the highest since September 2003, not December 2003) NEW YORK  (Reuters) - The U.S. unemployment rate unexpectedly shot up to 6.1 pe...</td>\n",
       "      <td>http://www.reuters.com/article/2008/09/05/us-usa-economy-payrolls-instantview-idUSN0540060420080905</td>\n",
       "      <td>0.125</td>\n",
       "      <td>0.784</td>\n",
       "      <td>0.091</td>\n",
       "      <td>-0.9914</td>\n",
       "      <td>-1</td>\n",
       "    </tr>\n",
       "    <tr>\n",
       "      <th>14275</th>\n",
       "      <td>Fri Mar 6, 2009 7:41pm EST</td>\n",
       "      <td>Merrill Lynch looking at \"irregularity\" in trading</td>\n",
       "      <td>LONDON/DUBLIN  (Reuters) - Merrill Lynch said on Friday it had discovered an \"irregularity\" in its London trading positions and the Financial Times reported that a Merrill trader had been suspend...</td>\n",
       "      <td>http://www.reuters.com/article/2009/03/07/us-merrill-irregularity-idUSTRE52533S20090307</td>\n",
       "      <td>0.149</td>\n",
       "      <td>0.763</td>\n",
       "      <td>0.088</td>\n",
       "      <td>-0.9794</td>\n",
       "      <td>-1</td>\n",
       "    </tr>\n",
       "    <tr>\n",
       "      <th>58109</th>\n",
       "      <td>Wed Feb 11, 2009 10:27pm EST</td>\n",
       "      <td>Ex-M.Stanley China property head under SEC probe: sources</td>\n",
       "      <td>HONG KONG  (Reuters) - The former China head of Morgan Stanley ( MS.N ) Real Estate has been under an investigation by the U.S. Securities and Exchange Commission for suspected violations of the ...</td>\n",
       "      <td>http://www.reuters.com/article/2009/02/12/us-morganstanley-china-probe-idUSTRE51B0W420090212</td>\n",
       "      <td>0.086</td>\n",
       "      <td>0.880</td>\n",
       "      <td>0.034</td>\n",
       "      <td>-0.9274</td>\n",
       "      <td>-1</td>\n",
       "    </tr>\n",
       "    <tr>\n",
       "      <th>69943</th>\n",
       "      <td>Tue Dec 22, 2009 3:54pm EST</td>\n",
       "      <td>Mass layoffs hit 16-month low in November</td>\n",
       "      <td>WASHINGTON  (Reuters) - The number of mass layoffs actions by U.S. employers fell in November to the their lowest level in 16 months, government data showed on Tuesday, offering more evidence of ...</td>\n",
       "      <td>http://www.reuters.com/article/2009/12/22/us-usa-economy-mass-layoffs-idUSTRE5BL46320091222</td>\n",
       "      <td>0.098</td>\n",
       "      <td>0.867</td>\n",
       "      <td>0.035</td>\n",
       "      <td>-0.8934</td>\n",
       "      <td>-1</td>\n",
       "    </tr>\n",
       "    <tr>\n",
       "      <th>71468</th>\n",
       "      <td>Tue Mar 13, 2007 7:31pm EDT</td>\n",
       "      <td>CEOs hit post-Enron rules; investor advocate warns</td>\n",
       "      <td>WASHINGTON  (Reuters) - Major U.S. CEOs complained about regulatory burdens in the post-Enron environment at a high-profile conference on regulation and the legal system, while an investor advoca...</td>\n",
       "      <td>http://www.reuters.com/article/2007/03/13/us-usa-markets-regulation-idUSN1344869920070313</td>\n",
       "      <td>0.078</td>\n",
       "      <td>0.848</td>\n",
       "      <td>0.074</td>\n",
       "      <td>-0.6814</td>\n",
       "      <td>-1</td>\n",
       "    </tr>\n",
       "  </tbody>\n",
       "</table>\n",
       "</div>"
      ],
      "text/plain": [
       "                   long_date_format  \\\n",
       "71398    Fri Sep 5, 2008 1:15pm EDT   \n",
       "14275    Fri Mar 6, 2009 7:41pm EST   \n",
       "58109  Wed Feb 11, 2009 10:27pm EST   \n",
       "69943   Tue Dec 22, 2009 3:54pm EST   \n",
       "71468   Tue Mar 13, 2007 7:31pm EDT   \n",
       "\n",
       "                                                        headline  \\\n",
       "71398             INSTANT VIEW: Non-farm payrolls down in August   \n",
       "14275         Merrill Lynch looking at \"irregularity\" in trading   \n",
       "58109  Ex-M.Stanley China property head under SEC probe: sources   \n",
       "69943                  Mass layoffs hit 16-month low in November   \n",
       "71468         CEOs hit post-Enron rules; investor advocate warns   \n",
       "\n",
       "                                                                                                                                                                                                          text  \\\n",
       "71398   (Corrects paragraph 3 to show the August unemployment rate was the highest since September 2003, not December 2003) NEW YORK  (Reuters) - The U.S. unemployment rate unexpectedly shot up to 6.1 pe...   \n",
       "14275   LONDON/DUBLIN  (Reuters) - Merrill Lynch said on Friday it had discovered an \"irregularity\" in its London trading positions and the Financial Times reported that a Merrill trader had been suspend...   \n",
       "58109   HONG KONG  (Reuters) - The former China head of Morgan Stanley ( MS.N ) Real Estate has been under an investigation by the U.S. Securities and Exchange Commission for suspected violations of the ...   \n",
       "69943   WASHINGTON  (Reuters) - The number of mass layoffs actions by U.S. employers fell in November to the their lowest level in 16 months, government data showed on Tuesday, offering more evidence of ...   \n",
       "71468   WASHINGTON  (Reuters) - Major U.S. CEOs complained about regulatory burdens in the post-Enron environment at a high-profile conference on regulation and the legal system, while an investor advoca...   \n",
       "\n",
       "                                                                                                       url  \\\n",
       "71398  http://www.reuters.com/article/2008/09/05/us-usa-economy-payrolls-instantview-idUSN0540060420080905   \n",
       "14275              http://www.reuters.com/article/2009/03/07/us-merrill-irregularity-idUSTRE52533S20090307   \n",
       "58109         http://www.reuters.com/article/2009/02/12/us-morganstanley-china-probe-idUSTRE51B0W420090212   \n",
       "69943          http://www.reuters.com/article/2009/12/22/us-usa-economy-mass-layoffs-idUSTRE5BL46320091222   \n",
       "71468            http://www.reuters.com/article/2007/03/13/us-usa-markets-regulation-idUSN1344869920070313   \n",
       "\n",
       "         neg    neu    pos  compound  label  \n",
       "71398  0.125  0.784  0.091   -0.9914     -1  \n",
       "14275  0.149  0.763  0.088   -0.9794     -1  \n",
       "58109  0.086  0.880  0.034   -0.9274     -1  \n",
       "69943  0.098  0.867  0.035   -0.8934     -1  \n",
       "71468  0.078  0.848  0.074   -0.6814     -1  "
      ]
     },
     "execution_count": 13,
     "metadata": {},
     "output_type": "execute_result"
    }
   ],
   "source": [
    "# Equally sample 'pos' and 'neg' with replacement and concatenate into a dataframe.\n",
    "data = pd.concat([negatives_sample, \n",
    "                    positives_sample,\n",
    "                 neutral_sample], axis=0)\n",
    "data.head()"
   ]
  },
  {
   "cell_type": "code",
   "execution_count": 14,
   "metadata": {},
   "outputs": [
    {
     "name": "stdout",
     "output_type": "stream",
     "text": [
      "Input data has 15000 rows and 9 columns\n"
     ]
    }
   ],
   "source": [
    "print(\"Input data has {} rows and {} columns\".format(len(data), len(data.columns)))"
   ]
  },
  {
   "cell_type": "code",
   "execution_count": 15,
   "metadata": {},
   "outputs": [
    {
     "data": {
      "text/html": [
       "<div>\n",
       "<style scoped>\n",
       "    .dataframe tbody tr th:only-of-type {\n",
       "        vertical-align: middle;\n",
       "    }\n",
       "\n",
       "    .dataframe tbody tr th {\n",
       "        vertical-align: top;\n",
       "    }\n",
       "\n",
       "    .dataframe thead th {\n",
       "        text-align: right;\n",
       "    }\n",
       "</style>\n",
       "<table border=\"1\" class=\"dataframe\">\n",
       "  <thead>\n",
       "    <tr style=\"text-align: right;\">\n",
       "      <th></th>\n",
       "      <th>long_date_format</th>\n",
       "      <th>headline</th>\n",
       "      <th>text</th>\n",
       "      <th>url</th>\n",
       "      <th>neg</th>\n",
       "      <th>neu</th>\n",
       "      <th>pos</th>\n",
       "      <th>compound</th>\n",
       "      <th>label</th>\n",
       "    </tr>\n",
       "  </thead>\n",
       "  <tbody>\n",
       "    <tr>\n",
       "      <th>0</th>\n",
       "      <td>Sat Jul 2, 2011 11:31pm EDT</td>\n",
       "      <td>Japan officials draw up Tepco breakup plan: report</td>\n",
       "      <td>TOKYO  (Reuters) - A group of Japanese government heavyweights have written a secret proposal to break up Tokyo Electric Power Co and nationalise its nuclear operations, a newspaper said on Sunda...</td>\n",
       "      <td>http://www.reuters.com/article/2011/07/03/us-japan-tepco-idUSTRE7620AU20110703</td>\n",
       "      <td>0.057</td>\n",
       "      <td>0.887</td>\n",
       "      <td>0.056</td>\n",
       "      <td>-0.1027</td>\n",
       "      <td>0</td>\n",
       "    </tr>\n",
       "    <tr>\n",
       "      <th>1</th>\n",
       "      <td>Thu Sep 13, 2012 6:53am EDT</td>\n",
       "      <td>French minister: Peugeot should cut in Spain, not just France</td>\n",
       "      <td>PARIS  (Reuters) - France's industry ministry is pressing the country's leading carmaker to limit the impact of a domestic restructuring set to claim 8,000 jobs - by shifting part of the cuts bur...</td>\n",
       "      <td>http://www.reuters.com/article/2012/09/13/us-france-peugeot-idUSBRE88C0F020120913</td>\n",
       "      <td>0.122</td>\n",
       "      <td>0.845</td>\n",
       "      <td>0.032</td>\n",
       "      <td>-0.9934</td>\n",
       "      <td>-1</td>\n",
       "    </tr>\n",
       "    <tr>\n",
       "      <th>2</th>\n",
       "      <td>Tue May 29, 2007 3:42am EDT</td>\n",
       "      <td>Ford eyes sale of Volvo cars, BMW interested: report</td>\n",
       "      <td>STOCKHOLM  (Reuters) - Loss-making Ford Motor Co. ( F.N ) is planning to sell Swedish car maker Volvo and German carmaker BMW ( BMWG.DE ) could be a possible buyer, a Swedish newspaper said on Mo...</td>\n",
       "      <td>http://www.reuters.com/article/2007/05/29/us-ford-volvo-idUSLAU92705820070529</td>\n",
       "      <td>0.018</td>\n",
       "      <td>0.966</td>\n",
       "      <td>0.016</td>\n",
       "      <td>-0.0772</td>\n",
       "      <td>0</td>\n",
       "    </tr>\n",
       "    <tr>\n",
       "      <th>3</th>\n",
       "      <td>Wed Nov 29, 2006 1:21pm EST</td>\n",
       "      <td>GM CEO says not too worried about Kerkorian</td>\n",
       "      <td>LOS ANGELES  (Reuters) - General Motors Corp. ( GM.N ) Chief Executive Rick Wagoner said on Wednesday he is \"not excessively worried\" about a possible proxy fight with the automaker's largest ind...</td>\n",
       "      <td>http://www.reuters.com/article/2006/11/29/us-gm-wagoner-kerkorian-idUSN2937476020061129</td>\n",
       "      <td>0.086</td>\n",
       "      <td>0.831</td>\n",
       "      <td>0.083</td>\n",
       "      <td>-0.1341</td>\n",
       "      <td>0</td>\n",
       "    </tr>\n",
       "    <tr>\n",
       "      <th>4</th>\n",
       "      <td>Wed Oct 31, 2012 11:18pm EDT</td>\n",
       "      <td>Apple's Cook fields his A-team before a wary Wall Street</td>\n",
       "      <td></td>\n",
       "      <td>http://www.reuters.com/article/2012/11/01/us-apple-execs-idUSBRE8A000W20121101</td>\n",
       "      <td>0.000</td>\n",
       "      <td>0.000</td>\n",
       "      <td>0.000</td>\n",
       "      <td>0.0000</td>\n",
       "      <td>0</td>\n",
       "    </tr>\n",
       "    <tr>\n",
       "      <th>5</th>\n",
       "      <td>Thu Apr 26, 2012 3:15pm EDT</td>\n",
       "      <td>MetLife exits reverse mortgage business</td>\n",
       "      <td>(Reuters) - MetLife Inc, the largest U.S. life insurer and reverse mortgage lender, made a surprise shift on Thursday with the sale its reverse mortgage business as part of its exit from banking-...</td>\n",
       "      <td>http://www.reuters.com/article/2012/04/26/us-metlife-mortgages-idUSBRE83P17J20120426</td>\n",
       "      <td>0.059</td>\n",
       "      <td>0.902</td>\n",
       "      <td>0.039</td>\n",
       "      <td>-0.5550</td>\n",
       "      <td>-1</td>\n",
       "    </tr>\n",
       "    <tr>\n",
       "      <th>6</th>\n",
       "      <td>Thu Apr 5, 2007 2:48pm EDT</td>\n",
       "      <td>New Century granted $150 mln bankruptcy financing</td>\n",
       "      <td>NEW YORK  (Reuters) - New Century Financial Corp. ( NEWC.PK ), the largest U.S. subprime lender now under bankruptcy protection, was authorized on Thursday to obtain up to $150 million of financi...</td>\n",
       "      <td>http://www.reuters.com/article/2007/04/05/us-usa-subprime-newcentury-idUSN0520645820070405</td>\n",
       "      <td>0.052</td>\n",
       "      <td>0.884</td>\n",
       "      <td>0.064</td>\n",
       "      <td>0.5046</td>\n",
       "      <td>1</td>\n",
       "    </tr>\n",
       "    <tr>\n",
       "      <th>7</th>\n",
       "      <td>Sat Oct 4, 2008 6:49pm EDT</td>\n",
       "      <td>EU leaders to ease deficit strictures due to crisis</td>\n",
       "      <td>PARIS  (Reuters) - Europe's most powerful leaders opened the way on Saturday for EU governments to breach deficit limits, saying the financial crisis was so severe they could waive their usual st...</td>\n",
       "      <td>http://www.reuters.com/article/2008/10/04/us-financial-eu-deficits-idUSTRE4932XM20081004</td>\n",
       "      <td>0.072</td>\n",
       "      <td>0.849</td>\n",
       "      <td>0.079</td>\n",
       "      <td>0.4945</td>\n",
       "      <td>1</td>\n",
       "    </tr>\n",
       "    <tr>\n",
       "      <th>8</th>\n",
       "      <td>Fri Sep 14, 2012 8:50am EDT</td>\n",
       "      <td>Analysis: Euro zone making scant headway on growth and reform</td>\n",
       "      <td></td>\n",
       "      <td>http://www.reuters.com/article/2012/09/14/us-eurozone-economy-adjustment-idUSBRE88D0RJ20120914</td>\n",
       "      <td>0.000</td>\n",
       "      <td>0.000</td>\n",
       "      <td>0.000</td>\n",
       "      <td>0.0000</td>\n",
       "      <td>0</td>\n",
       "    </tr>\n",
       "    <tr>\n",
       "      <th>9</th>\n",
       "      <td>Mon May 5, 2008 8:19am EDT</td>\n",
       "      <td>Risks mount for stressed traders as markets gyrate</td>\n",
       "      <td>LONDON  (Reuters) - Increased volatility grips stock markets, big investment banks tot up losses from a credit market seizure and jobs are slashed -- being a trader has seldom been more stressful...</td>\n",
       "      <td>http://www.reuters.com/article/2008/05/05/us-traders-anxiety-idUSL3090774220080505</td>\n",
       "      <td>0.124</td>\n",
       "      <td>0.783</td>\n",
       "      <td>0.094</td>\n",
       "      <td>-0.9858</td>\n",
       "      <td>-1</td>\n",
       "    </tr>\n",
       "  </tbody>\n",
       "</table>\n",
       "</div>"
      ],
      "text/plain": [
       "               long_date_format  \\\n",
       "0   Sat Jul 2, 2011 11:31pm EDT   \n",
       "1   Thu Sep 13, 2012 6:53am EDT   \n",
       "2   Tue May 29, 2007 3:42am EDT   \n",
       "3   Wed Nov 29, 2006 1:21pm EST   \n",
       "4  Wed Oct 31, 2012 11:18pm EDT   \n",
       "5   Thu Apr 26, 2012 3:15pm EDT   \n",
       "6    Thu Apr 5, 2007 2:48pm EDT   \n",
       "7    Sat Oct 4, 2008 6:49pm EDT   \n",
       "8   Fri Sep 14, 2012 8:50am EDT   \n",
       "9    Mon May 5, 2008 8:19am EDT   \n",
       "\n",
       "                                                        headline  \\\n",
       "0             Japan officials draw up Tepco breakup plan: report   \n",
       "1  French minister: Peugeot should cut in Spain, not just France   \n",
       "2           Ford eyes sale of Volvo cars, BMW interested: report   \n",
       "3                    GM CEO says not too worried about Kerkorian   \n",
       "4       Apple's Cook fields his A-team before a wary Wall Street   \n",
       "5                        MetLife exits reverse mortgage business   \n",
       "6              New Century granted $150 mln bankruptcy financing   \n",
       "7            EU leaders to ease deficit strictures due to crisis   \n",
       "8  Analysis: Euro zone making scant headway on growth and reform   \n",
       "9             Risks mount for stressed traders as markets gyrate   \n",
       "\n",
       "                                                                                                                                                                                                      text  \\\n",
       "0   TOKYO  (Reuters) - A group of Japanese government heavyweights have written a secret proposal to break up Tokyo Electric Power Co and nationalise its nuclear operations, a newspaper said on Sunda...   \n",
       "1   PARIS  (Reuters) - France's industry ministry is pressing the country's leading carmaker to limit the impact of a domestic restructuring set to claim 8,000 jobs - by shifting part of the cuts bur...   \n",
       "2   STOCKHOLM  (Reuters) - Loss-making Ford Motor Co. ( F.N ) is planning to sell Swedish car maker Volvo and German carmaker BMW ( BMWG.DE ) could be a possible buyer, a Swedish newspaper said on Mo...   \n",
       "3   LOS ANGELES  (Reuters) - General Motors Corp. ( GM.N ) Chief Executive Rick Wagoner said on Wednesday he is \"not excessively worried\" about a possible proxy fight with the automaker's largest ind...   \n",
       "4                                                                                                                                                                                                            \n",
       "5   (Reuters) - MetLife Inc, the largest U.S. life insurer and reverse mortgage lender, made a surprise shift on Thursday with the sale its reverse mortgage business as part of its exit from banking-...   \n",
       "6   NEW YORK  (Reuters) - New Century Financial Corp. ( NEWC.PK ), the largest U.S. subprime lender now under bankruptcy protection, was authorized on Thursday to obtain up to $150 million of financi...   \n",
       "7   PARIS  (Reuters) - Europe's most powerful leaders opened the way on Saturday for EU governments to breach deficit limits, saying the financial crisis was so severe they could waive their usual st...   \n",
       "8                                                                                                                                                                                                            \n",
       "9   LONDON  (Reuters) - Increased volatility grips stock markets, big investment banks tot up losses from a credit market seizure and jobs are slashed -- being a trader has seldom been more stressful...   \n",
       "\n",
       "                                                                                              url  \\\n",
       "0                  http://www.reuters.com/article/2011/07/03/us-japan-tepco-idUSTRE7620AU20110703   \n",
       "1               http://www.reuters.com/article/2012/09/13/us-france-peugeot-idUSBRE88C0F020120913   \n",
       "2                   http://www.reuters.com/article/2007/05/29/us-ford-volvo-idUSLAU92705820070529   \n",
       "3         http://www.reuters.com/article/2006/11/29/us-gm-wagoner-kerkorian-idUSN2937476020061129   \n",
       "4                  http://www.reuters.com/article/2012/11/01/us-apple-execs-idUSBRE8A000W20121101   \n",
       "5            http://www.reuters.com/article/2012/04/26/us-metlife-mortgages-idUSBRE83P17J20120426   \n",
       "6      http://www.reuters.com/article/2007/04/05/us-usa-subprime-newcentury-idUSN0520645820070405   \n",
       "7        http://www.reuters.com/article/2008/10/04/us-financial-eu-deficits-idUSTRE4932XM20081004   \n",
       "8  http://www.reuters.com/article/2012/09/14/us-eurozone-economy-adjustment-idUSBRE88D0RJ20120914   \n",
       "9              http://www.reuters.com/article/2008/05/05/us-traders-anxiety-idUSL3090774220080505   \n",
       "\n",
       "     neg    neu    pos  compound  label  \n",
       "0  0.057  0.887  0.056   -0.1027      0  \n",
       "1  0.122  0.845  0.032   -0.9934     -1  \n",
       "2  0.018  0.966  0.016   -0.0772      0  \n",
       "3  0.086  0.831  0.083   -0.1341      0  \n",
       "4  0.000  0.000  0.000    0.0000      0  \n",
       "5  0.059  0.902  0.039   -0.5550     -1  \n",
       "6  0.052  0.884  0.064    0.5046      1  \n",
       "7  0.072  0.849  0.079    0.4945      1  \n",
       "8  0.000  0.000  0.000    0.0000      0  \n",
       "9  0.124  0.783  0.094   -0.9858     -1  "
      ]
     },
     "execution_count": 15,
     "metadata": {},
     "output_type": "execute_result"
    }
   ],
   "source": [
    "# Ramdomize the data so there is no bias\n",
    "data = data.sample(frac=1).reset_index(drop=True)\n",
    "data.head(10)"
   ]
  },
  {
   "cell_type": "markdown",
   "metadata": {},
   "source": [
    "## Data Pre-processing\n",
    "\n",
    "In this step we want to:\n",
    "- remove puncuations\n",
    "- transform text to lower case\n",
    "- split the text into tokens (which are english words)\n",
    "- remove stopwords"
   ]
  },
  {
   "cell_type": "code",
   "execution_count": 16,
   "metadata": {},
   "outputs": [
    {
     "data": {
      "text/plain": [
       "'!\"#$%&\\'()*+,-./:;<=>?@[\\\\]^_`{|}~'"
      ]
     },
     "execution_count": 16,
     "metadata": {},
     "output_type": "execute_result"
    }
   ],
   "source": [
    "import string \n",
    "string.punctuation"
   ]
  },
  {
   "cell_type": "code",
   "execution_count": 17,
   "metadata": {},
   "outputs": [
    {
     "data": {
      "text/html": [
       "<div>\n",
       "<style scoped>\n",
       "    .dataframe tbody tr th:only-of-type {\n",
       "        vertical-align: middle;\n",
       "    }\n",
       "\n",
       "    .dataframe tbody tr th {\n",
       "        vertical-align: top;\n",
       "    }\n",
       "\n",
       "    .dataframe thead th {\n",
       "        text-align: right;\n",
       "    }\n",
       "</style>\n",
       "<table border=\"1\" class=\"dataframe\">\n",
       "  <thead>\n",
       "    <tr style=\"text-align: right;\">\n",
       "      <th></th>\n",
       "      <th>long_date_format</th>\n",
       "      <th>headline</th>\n",
       "      <th>text</th>\n",
       "      <th>url</th>\n",
       "      <th>neg</th>\n",
       "      <th>neu</th>\n",
       "      <th>pos</th>\n",
       "      <th>compound</th>\n",
       "      <th>label</th>\n",
       "      <th>body_text_clean</th>\n",
       "    </tr>\n",
       "  </thead>\n",
       "  <tbody>\n",
       "    <tr>\n",
       "      <th>0</th>\n",
       "      <td>Sat Jul 2, 2011 11:31pm EDT</td>\n",
       "      <td>Japan officials draw up Tepco breakup plan: report</td>\n",
       "      <td>TOKYO  (Reuters) - A group of Japanese government heavyweights have written a secret proposal to break up Tokyo Electric Power Co and nationalise its nuclear operations, a newspaper said on Sunda...</td>\n",
       "      <td>http://www.reuters.com/article/2011/07/03/us-japan-tepco-idUSTRE7620AU20110703</td>\n",
       "      <td>0.057</td>\n",
       "      <td>0.887</td>\n",
       "      <td>0.056</td>\n",
       "      <td>-0.1027</td>\n",
       "      <td>0</td>\n",
       "      <td>TOKYO  Reuters  A group of Japanese government heavyweights have written a secret proposal to break up Tokyo Electric Power Co and nationalise its nuclear operations a newspaper said on Sunday Th...</td>\n",
       "    </tr>\n",
       "    <tr>\n",
       "      <th>1</th>\n",
       "      <td>Thu Sep 13, 2012 6:53am EDT</td>\n",
       "      <td>French minister: Peugeot should cut in Spain, not just France</td>\n",
       "      <td>PARIS  (Reuters) - France's industry ministry is pressing the country's leading carmaker to limit the impact of a domestic restructuring set to claim 8,000 jobs - by shifting part of the cuts bur...</td>\n",
       "      <td>http://www.reuters.com/article/2012/09/13/us-france-peugeot-idUSBRE88C0F020120913</td>\n",
       "      <td>0.122</td>\n",
       "      <td>0.845</td>\n",
       "      <td>0.032</td>\n",
       "      <td>-0.9934</td>\n",
       "      <td>-1</td>\n",
       "      <td>PARIS  Reuters  Frances industry ministry is pressing the countrys leading carmaker to limit the impact of a domestic restructuring set to claim 8000 jobs  by shifting part of the cuts burden to ...</td>\n",
       "    </tr>\n",
       "    <tr>\n",
       "      <th>2</th>\n",
       "      <td>Tue May 29, 2007 3:42am EDT</td>\n",
       "      <td>Ford eyes sale of Volvo cars, BMW interested: report</td>\n",
       "      <td>STOCKHOLM  (Reuters) - Loss-making Ford Motor Co. ( F.N ) is planning to sell Swedish car maker Volvo and German carmaker BMW ( BMWG.DE ) could be a possible buyer, a Swedish newspaper said on Mo...</td>\n",
       "      <td>http://www.reuters.com/article/2007/05/29/us-ford-volvo-idUSLAU92705820070529</td>\n",
       "      <td>0.018</td>\n",
       "      <td>0.966</td>\n",
       "      <td>0.016</td>\n",
       "      <td>-0.0772</td>\n",
       "      <td>0</td>\n",
       "      <td>STOCKHOLM  Reuters  Lossmaking Ford Motor Co  FN  is planning to sell Swedish car maker Volvo and German carmaker BMW  BMWGDE  could be a possible buyer a Swedish newspaper said on Monday The Got...</td>\n",
       "    </tr>\n",
       "    <tr>\n",
       "      <th>3</th>\n",
       "      <td>Wed Nov 29, 2006 1:21pm EST</td>\n",
       "      <td>GM CEO says not too worried about Kerkorian</td>\n",
       "      <td>LOS ANGELES  (Reuters) - General Motors Corp. ( GM.N ) Chief Executive Rick Wagoner said on Wednesday he is \"not excessively worried\" about a possible proxy fight with the automaker's largest ind...</td>\n",
       "      <td>http://www.reuters.com/article/2006/11/29/us-gm-wagoner-kerkorian-idUSN2937476020061129</td>\n",
       "      <td>0.086</td>\n",
       "      <td>0.831</td>\n",
       "      <td>0.083</td>\n",
       "      <td>-0.1341</td>\n",
       "      <td>0</td>\n",
       "      <td>LOS ANGELES  Reuters  General Motors Corp  GMN  Chief Executive Rick Wagoner said on Wednesday he is not excessively worried about a possible proxy fight with the automakers largest individual sh...</td>\n",
       "    </tr>\n",
       "    <tr>\n",
       "      <th>4</th>\n",
       "      <td>Wed Oct 31, 2012 11:18pm EDT</td>\n",
       "      <td>Apple's Cook fields his A-team before a wary Wall Street</td>\n",
       "      <td></td>\n",
       "      <td>http://www.reuters.com/article/2012/11/01/us-apple-execs-idUSBRE8A000W20121101</td>\n",
       "      <td>0.000</td>\n",
       "      <td>0.000</td>\n",
       "      <td>0.000</td>\n",
       "      <td>0.0000</td>\n",
       "      <td>0</td>\n",
       "      <td></td>\n",
       "    </tr>\n",
       "  </tbody>\n",
       "</table>\n",
       "</div>"
      ],
      "text/plain": [
       "               long_date_format  \\\n",
       "0   Sat Jul 2, 2011 11:31pm EDT   \n",
       "1   Thu Sep 13, 2012 6:53am EDT   \n",
       "2   Tue May 29, 2007 3:42am EDT   \n",
       "3   Wed Nov 29, 2006 1:21pm EST   \n",
       "4  Wed Oct 31, 2012 11:18pm EDT   \n",
       "\n",
       "                                                        headline  \\\n",
       "0             Japan officials draw up Tepco breakup plan: report   \n",
       "1  French minister: Peugeot should cut in Spain, not just France   \n",
       "2           Ford eyes sale of Volvo cars, BMW interested: report   \n",
       "3                    GM CEO says not too worried about Kerkorian   \n",
       "4       Apple's Cook fields his A-team before a wary Wall Street   \n",
       "\n",
       "                                                                                                                                                                                                      text  \\\n",
       "0   TOKYO  (Reuters) - A group of Japanese government heavyweights have written a secret proposal to break up Tokyo Electric Power Co and nationalise its nuclear operations, a newspaper said on Sunda...   \n",
       "1   PARIS  (Reuters) - France's industry ministry is pressing the country's leading carmaker to limit the impact of a domestic restructuring set to claim 8,000 jobs - by shifting part of the cuts bur...   \n",
       "2   STOCKHOLM  (Reuters) - Loss-making Ford Motor Co. ( F.N ) is planning to sell Swedish car maker Volvo and German carmaker BMW ( BMWG.DE ) could be a possible buyer, a Swedish newspaper said on Mo...   \n",
       "3   LOS ANGELES  (Reuters) - General Motors Corp. ( GM.N ) Chief Executive Rick Wagoner said on Wednesday he is \"not excessively worried\" about a possible proxy fight with the automaker's largest ind...   \n",
       "4                                                                                                                                                                                                            \n",
       "\n",
       "                                                                                       url  \\\n",
       "0           http://www.reuters.com/article/2011/07/03/us-japan-tepco-idUSTRE7620AU20110703   \n",
       "1        http://www.reuters.com/article/2012/09/13/us-france-peugeot-idUSBRE88C0F020120913   \n",
       "2            http://www.reuters.com/article/2007/05/29/us-ford-volvo-idUSLAU92705820070529   \n",
       "3  http://www.reuters.com/article/2006/11/29/us-gm-wagoner-kerkorian-idUSN2937476020061129   \n",
       "4           http://www.reuters.com/article/2012/11/01/us-apple-execs-idUSBRE8A000W20121101   \n",
       "\n",
       "     neg    neu    pos  compound  label  \\\n",
       "0  0.057  0.887  0.056   -0.1027      0   \n",
       "1  0.122  0.845  0.032   -0.9934     -1   \n",
       "2  0.018  0.966  0.016   -0.0772      0   \n",
       "3  0.086  0.831  0.083   -0.1341      0   \n",
       "4  0.000  0.000  0.000    0.0000      0   \n",
       "\n",
       "                                                                                                                                                                                           body_text_clean  \n",
       "0   TOKYO  Reuters  A group of Japanese government heavyweights have written a secret proposal to break up Tokyo Electric Power Co and nationalise its nuclear operations a newspaper said on Sunday Th...  \n",
       "1   PARIS  Reuters  Frances industry ministry is pressing the countrys leading carmaker to limit the impact of a domestic restructuring set to claim 8000 jobs  by shifting part of the cuts burden to ...  \n",
       "2   STOCKHOLM  Reuters  Lossmaking Ford Motor Co  FN  is planning to sell Swedish car maker Volvo and German carmaker BMW  BMWGDE  could be a possible buyer a Swedish newspaper said on Monday The Got...  \n",
       "3   LOS ANGELES  Reuters  General Motors Corp  GMN  Chief Executive Rick Wagoner said on Wednesday he is not excessively worried about a possible proxy fight with the automakers largest individual sh...  \n",
       "4                                                                                                                                                                                                           "
      ]
     },
     "execution_count": 17,
     "metadata": {},
     "output_type": "execute_result"
    }
   ],
   "source": [
    "# Removing punctuations\n",
    "# Puntuation don't add meaning to sentence so we want to remove it \n",
    "def remove_punct(text):\n",
    "    text_nopunct = \"\".join([char for char in text if char not in string.punctuation])\n",
    "    return text_nopunct\n",
    "\n",
    "#use lanmda functions\n",
    "data['body_text_clean'] = data['text'].apply(lambda x: remove_punct(x)) # apply func to each row in body text\n",
    "data.head()"
   ]
  },
  {
   "cell_type": "code",
   "execution_count": 18,
   "metadata": {},
   "outputs": [
    {
     "data": {
      "text/html": [
       "<div>\n",
       "<style scoped>\n",
       "    .dataframe tbody tr th:only-of-type {\n",
       "        vertical-align: middle;\n",
       "    }\n",
       "\n",
       "    .dataframe tbody tr th {\n",
       "        vertical-align: top;\n",
       "    }\n",
       "\n",
       "    .dataframe thead th {\n",
       "        text-align: right;\n",
       "    }\n",
       "</style>\n",
       "<table border=\"1\" class=\"dataframe\">\n",
       "  <thead>\n",
       "    <tr style=\"text-align: right;\">\n",
       "      <th></th>\n",
       "      <th>long_date_format</th>\n",
       "      <th>headline</th>\n",
       "      <th>text</th>\n",
       "      <th>url</th>\n",
       "      <th>neg</th>\n",
       "      <th>neu</th>\n",
       "      <th>pos</th>\n",
       "      <th>compound</th>\n",
       "      <th>label</th>\n",
       "      <th>body_text_clean</th>\n",
       "      <th>body_text_tokenized</th>\n",
       "    </tr>\n",
       "  </thead>\n",
       "  <tbody>\n",
       "    <tr>\n",
       "      <th>0</th>\n",
       "      <td>Sat Jul 2, 2011 11:31pm EDT</td>\n",
       "      <td>Japan officials draw up Tepco breakup plan: report</td>\n",
       "      <td>TOKYO  (Reuters) - A group of Japanese government heavyweights have written a secret proposal to break up Tokyo Electric Power Co and nationalise its nuclear operations, a newspaper said on Sunda...</td>\n",
       "      <td>http://www.reuters.com/article/2011/07/03/us-japan-tepco-idUSTRE7620AU20110703</td>\n",
       "      <td>0.057</td>\n",
       "      <td>0.887</td>\n",
       "      <td>0.056</td>\n",
       "      <td>-0.1027</td>\n",
       "      <td>0</td>\n",
       "      <td>TOKYO  Reuters  A group of Japanese government heavyweights have written a secret proposal to break up Tokyo Electric Power Co and nationalise its nuclear operations a newspaper said on Sunday Th...</td>\n",
       "      <td>[, tokyo, reuters, a, group, of, japanese, government, heavyweights, have, written, a, secret, proposal, to, break, up, tokyo, electric, power, co, and, nationalise, its, nuclear, operations, a, n...</td>\n",
       "    </tr>\n",
       "    <tr>\n",
       "      <th>1</th>\n",
       "      <td>Thu Sep 13, 2012 6:53am EDT</td>\n",
       "      <td>French minister: Peugeot should cut in Spain, not just France</td>\n",
       "      <td>PARIS  (Reuters) - France's industry ministry is pressing the country's leading carmaker to limit the impact of a domestic restructuring set to claim 8,000 jobs - by shifting part of the cuts bur...</td>\n",
       "      <td>http://www.reuters.com/article/2012/09/13/us-france-peugeot-idUSBRE88C0F020120913</td>\n",
       "      <td>0.122</td>\n",
       "      <td>0.845</td>\n",
       "      <td>0.032</td>\n",
       "      <td>-0.9934</td>\n",
       "      <td>-1</td>\n",
       "      <td>PARIS  Reuters  Frances industry ministry is pressing the countrys leading carmaker to limit the impact of a domestic restructuring set to claim 8000 jobs  by shifting part of the cuts burden to ...</td>\n",
       "      <td>[, paris, reuters, frances, industry, ministry, is, pressing, the, countrys, leading, carmaker, to, limit, the, impact, of, a, domestic, restructuring, set, to, claim, 8000, jobs, by, shifting, pa...</td>\n",
       "    </tr>\n",
       "    <tr>\n",
       "      <th>2</th>\n",
       "      <td>Tue May 29, 2007 3:42am EDT</td>\n",
       "      <td>Ford eyes sale of Volvo cars, BMW interested: report</td>\n",
       "      <td>STOCKHOLM  (Reuters) - Loss-making Ford Motor Co. ( F.N ) is planning to sell Swedish car maker Volvo and German carmaker BMW ( BMWG.DE ) could be a possible buyer, a Swedish newspaper said on Mo...</td>\n",
       "      <td>http://www.reuters.com/article/2007/05/29/us-ford-volvo-idUSLAU92705820070529</td>\n",
       "      <td>0.018</td>\n",
       "      <td>0.966</td>\n",
       "      <td>0.016</td>\n",
       "      <td>-0.0772</td>\n",
       "      <td>0</td>\n",
       "      <td>STOCKHOLM  Reuters  Lossmaking Ford Motor Co  FN  is planning to sell Swedish car maker Volvo and German carmaker BMW  BMWGDE  could be a possible buyer a Swedish newspaper said on Monday The Got...</td>\n",
       "      <td>[, stockholm, reuters, lossmaking, ford, motor, co, fn, is, planning, to, sell, swedish, car, maker, volvo, and, german, carmaker, bmw, bmwgde, could, be, a, possible, buyer, a, swedish, newspaper...</td>\n",
       "    </tr>\n",
       "    <tr>\n",
       "      <th>3</th>\n",
       "      <td>Wed Nov 29, 2006 1:21pm EST</td>\n",
       "      <td>GM CEO says not too worried about Kerkorian</td>\n",
       "      <td>LOS ANGELES  (Reuters) - General Motors Corp. ( GM.N ) Chief Executive Rick Wagoner said on Wednesday he is \"not excessively worried\" about a possible proxy fight with the automaker's largest ind...</td>\n",
       "      <td>http://www.reuters.com/article/2006/11/29/us-gm-wagoner-kerkorian-idUSN2937476020061129</td>\n",
       "      <td>0.086</td>\n",
       "      <td>0.831</td>\n",
       "      <td>0.083</td>\n",
       "      <td>-0.1341</td>\n",
       "      <td>0</td>\n",
       "      <td>LOS ANGELES  Reuters  General Motors Corp  GMN  Chief Executive Rick Wagoner said on Wednesday he is not excessively worried about a possible proxy fight with the automakers largest individual sh...</td>\n",
       "      <td>[, los, angeles, reuters, general, motors, corp, gmn, chief, executive, rick, wagoner, said, on, wednesday, he, is, not, excessively, worried, about, a, possible, proxy, fight, with, the, automake...</td>\n",
       "    </tr>\n",
       "    <tr>\n",
       "      <th>4</th>\n",
       "      <td>Wed Oct 31, 2012 11:18pm EDT</td>\n",
       "      <td>Apple's Cook fields his A-team before a wary Wall Street</td>\n",
       "      <td></td>\n",
       "      <td>http://www.reuters.com/article/2012/11/01/us-apple-execs-idUSBRE8A000W20121101</td>\n",
       "      <td>0.000</td>\n",
       "      <td>0.000</td>\n",
       "      <td>0.000</td>\n",
       "      <td>0.0000</td>\n",
       "      <td>0</td>\n",
       "      <td></td>\n",
       "      <td>[]</td>\n",
       "    </tr>\n",
       "  </tbody>\n",
       "</table>\n",
       "</div>"
      ],
      "text/plain": [
       "               long_date_format  \\\n",
       "0   Sat Jul 2, 2011 11:31pm EDT   \n",
       "1   Thu Sep 13, 2012 6:53am EDT   \n",
       "2   Tue May 29, 2007 3:42am EDT   \n",
       "3   Wed Nov 29, 2006 1:21pm EST   \n",
       "4  Wed Oct 31, 2012 11:18pm EDT   \n",
       "\n",
       "                                                        headline  \\\n",
       "0             Japan officials draw up Tepco breakup plan: report   \n",
       "1  French minister: Peugeot should cut in Spain, not just France   \n",
       "2           Ford eyes sale of Volvo cars, BMW interested: report   \n",
       "3                    GM CEO says not too worried about Kerkorian   \n",
       "4       Apple's Cook fields his A-team before a wary Wall Street   \n",
       "\n",
       "                                                                                                                                                                                                      text  \\\n",
       "0   TOKYO  (Reuters) - A group of Japanese government heavyweights have written a secret proposal to break up Tokyo Electric Power Co and nationalise its nuclear operations, a newspaper said on Sunda...   \n",
       "1   PARIS  (Reuters) - France's industry ministry is pressing the country's leading carmaker to limit the impact of a domestic restructuring set to claim 8,000 jobs - by shifting part of the cuts bur...   \n",
       "2   STOCKHOLM  (Reuters) - Loss-making Ford Motor Co. ( F.N ) is planning to sell Swedish car maker Volvo and German carmaker BMW ( BMWG.DE ) could be a possible buyer, a Swedish newspaper said on Mo...   \n",
       "3   LOS ANGELES  (Reuters) - General Motors Corp. ( GM.N ) Chief Executive Rick Wagoner said on Wednesday he is \"not excessively worried\" about a possible proxy fight with the automaker's largest ind...   \n",
       "4                                                                                                                                                                                                            \n",
       "\n",
       "                                                                                       url  \\\n",
       "0           http://www.reuters.com/article/2011/07/03/us-japan-tepco-idUSTRE7620AU20110703   \n",
       "1        http://www.reuters.com/article/2012/09/13/us-france-peugeot-idUSBRE88C0F020120913   \n",
       "2            http://www.reuters.com/article/2007/05/29/us-ford-volvo-idUSLAU92705820070529   \n",
       "3  http://www.reuters.com/article/2006/11/29/us-gm-wagoner-kerkorian-idUSN2937476020061129   \n",
       "4           http://www.reuters.com/article/2012/11/01/us-apple-execs-idUSBRE8A000W20121101   \n",
       "\n",
       "     neg    neu    pos  compound  label  \\\n",
       "0  0.057  0.887  0.056   -0.1027      0   \n",
       "1  0.122  0.845  0.032   -0.9934     -1   \n",
       "2  0.018  0.966  0.016   -0.0772      0   \n",
       "3  0.086  0.831  0.083   -0.1341      0   \n",
       "4  0.000  0.000  0.000    0.0000      0   \n",
       "\n",
       "                                                                                                                                                                                           body_text_clean  \\\n",
       "0   TOKYO  Reuters  A group of Japanese government heavyweights have written a secret proposal to break up Tokyo Electric Power Co and nationalise its nuclear operations a newspaper said on Sunday Th...   \n",
       "1   PARIS  Reuters  Frances industry ministry is pressing the countrys leading carmaker to limit the impact of a domestic restructuring set to claim 8000 jobs  by shifting part of the cuts burden to ...   \n",
       "2   STOCKHOLM  Reuters  Lossmaking Ford Motor Co  FN  is planning to sell Swedish car maker Volvo and German carmaker BMW  BMWGDE  could be a possible buyer a Swedish newspaper said on Monday The Got...   \n",
       "3   LOS ANGELES  Reuters  General Motors Corp  GMN  Chief Executive Rick Wagoner said on Wednesday he is not excessively worried about a possible proxy fight with the automakers largest individual sh...   \n",
       "4                                                                                                                                                                                                            \n",
       "\n",
       "                                                                                                                                                                                       body_text_tokenized  \n",
       "0  [, tokyo, reuters, a, group, of, japanese, government, heavyweights, have, written, a, secret, proposal, to, break, up, tokyo, electric, power, co, and, nationalise, its, nuclear, operations, a, n...  \n",
       "1  [, paris, reuters, frances, industry, ministry, is, pressing, the, countrys, leading, carmaker, to, limit, the, impact, of, a, domestic, restructuring, set, to, claim, 8000, jobs, by, shifting, pa...  \n",
       "2  [, stockholm, reuters, lossmaking, ford, motor, co, fn, is, planning, to, sell, swedish, car, maker, volvo, and, german, carmaker, bmw, bmwgde, could, be, a, possible, buyer, a, swedish, newspaper...  \n",
       "3  [, los, angeles, reuters, general, motors, corp, gmn, chief, executive, rick, wagoner, said, on, wednesday, he, is, not, excessively, worried, about, a, possible, proxy, fight, with, the, automake...  \n",
       "4                                                                                                                                                                                                       []  "
      ]
     },
     "execution_count": 18,
     "metadata": {},
     "output_type": "execute_result"
    }
   ],
   "source": [
    "#Tokenizing is just splitting some strings into list of words\n",
    "import re \n",
    "\n",
    "def tokenize(text):\n",
    "    tokens = re.split('\\W+', text)\n",
    "    return tokens\n",
    "\n",
    "data['body_text_tokenized'] = data['body_text_clean'].apply(lambda x: tokenize(x.lower()))\n",
    "data.head()"
   ]
  },
  {
   "cell_type": "code",
   "execution_count": 19,
   "metadata": {},
   "outputs": [
    {
     "name": "stdout",
     "output_type": "stream",
     "text": [
      "['i', 'me', 'my', 'myself', 'we', 'our', 'ours', 'ourselves', 'you', \"you're\", \"you've\", \"you'll\", \"you'd\", 'your', 'yours', 'yourself', 'yourselves', 'he', 'him', 'his', 'himself', 'she', \"she's\", 'her', 'hers', 'herself', 'it', \"it's\", 'its', 'itself', 'they', 'them', 'their', 'theirs', 'themselves', 'what', 'which', 'who', 'whom', 'this', 'that', \"that'll\", 'these', 'those', 'am', 'is', 'are', 'was', 'were', 'be', 'been', 'being', 'have', 'has', 'had', 'having', 'do', 'does', 'did', 'doing', 'a', 'an', 'the', 'and', 'but', 'if', 'or', 'because', 'as', 'until', 'while', 'of', 'at', 'by', 'for', 'with', 'about', 'against', 'between', 'into', 'through', 'during', 'before', 'after', 'above', 'below', 'to', 'from', 'up', 'down', 'in', 'out', 'on', 'off', 'over', 'under', 'again', 'further', 'then', 'once', 'here', 'there', 'when', 'where', 'why', 'how', 'all', 'any', 'both', 'each', 'few', 'more', 'most', 'other', 'some', 'such', 'nor', 'only', 'own', 'same', 'so', 'than', 'too', 'very', 's', 't', 'can', 'will', 'just', 'don', \"don't\", 'should', \"should've\", 'now', 'd', 'll', 'm', 'o', 're', 've', 'y', 'ain', 'aren', \"aren't\", 'couldn', \"couldn't\", 'didn', \"didn't\", 'doesn', \"doesn't\", 'hadn', \"hadn't\", 'hasn', \"hasn't\", 'haven', \"haven't\", 'isn', \"isn't\", 'ma', 'mightn', \"mightn't\", 'mustn', \"mustn't\", 'needn', \"needn't\", 'shan', \"shan't\", 'shouldn', \"shouldn't\", 'wasn', \"wasn't\", 'weren', \"weren't\", 'won', \"won't\", 'wouldn', \"wouldn't\"]\n"
     ]
    }
   ],
   "source": [
    "from nltk.corpus import stopwords \n",
    "stop_words = stopwords.words('english')\n",
    "stop_words.remove(\"no\")\n",
    "stop_words.remove(\"not\")\n",
    "print(stop_words)"
   ]
  },
  {
   "cell_type": "code",
   "execution_count": 20,
   "metadata": {},
   "outputs": [
    {
     "data": {
      "text/html": [
       "<div>\n",
       "<style scoped>\n",
       "    .dataframe tbody tr th:only-of-type {\n",
       "        vertical-align: middle;\n",
       "    }\n",
       "\n",
       "    .dataframe tbody tr th {\n",
       "        vertical-align: top;\n",
       "    }\n",
       "\n",
       "    .dataframe thead th {\n",
       "        text-align: right;\n",
       "    }\n",
       "</style>\n",
       "<table border=\"1\" class=\"dataframe\">\n",
       "  <thead>\n",
       "    <tr style=\"text-align: right;\">\n",
       "      <th></th>\n",
       "      <th>long_date_format</th>\n",
       "      <th>headline</th>\n",
       "      <th>text</th>\n",
       "      <th>url</th>\n",
       "      <th>neg</th>\n",
       "      <th>neu</th>\n",
       "      <th>pos</th>\n",
       "      <th>compound</th>\n",
       "      <th>label</th>\n",
       "      <th>body_text_clean</th>\n",
       "      <th>body_text_tokenized</th>\n",
       "      <th>body_text_nostop</th>\n",
       "    </tr>\n",
       "  </thead>\n",
       "  <tbody>\n",
       "    <tr>\n",
       "      <th>0</th>\n",
       "      <td>Sat Jul 2, 2011 11:31pm EDT</td>\n",
       "      <td>Japan officials draw up Tepco breakup plan: report</td>\n",
       "      <td>TOKYO  (Reuters) - A group of Japanese government heavyweights have written a secret proposal to break up Tokyo Electric Power Co and nationalise its nuclear operations, a newspaper said on Sunda...</td>\n",
       "      <td>http://www.reuters.com/article/2011/07/03/us-japan-tepco-idUSTRE7620AU20110703</td>\n",
       "      <td>0.057</td>\n",
       "      <td>0.887</td>\n",
       "      <td>0.056</td>\n",
       "      <td>-0.1027</td>\n",
       "      <td>0</td>\n",
       "      <td>TOKYO  Reuters  A group of Japanese government heavyweights have written a secret proposal to break up Tokyo Electric Power Co and nationalise its nuclear operations a newspaper said on Sunday Th...</td>\n",
       "      <td>[, tokyo, reuters, a, group, of, japanese, government, heavyweights, have, written, a, secret, proposal, to, break, up, tokyo, electric, power, co, and, nationalise, its, nuclear, operations, a, n...</td>\n",
       "      <td>[, tokyo, reuters, group, japanese, government, heavyweights, written, secret, proposal, break, tokyo, electric, power, co, nationalise, nuclear, operations, newspaper, said, sunday, plan, drawn, ...</td>\n",
       "    </tr>\n",
       "    <tr>\n",
       "      <th>1</th>\n",
       "      <td>Thu Sep 13, 2012 6:53am EDT</td>\n",
       "      <td>French minister: Peugeot should cut in Spain, not just France</td>\n",
       "      <td>PARIS  (Reuters) - France's industry ministry is pressing the country's leading carmaker to limit the impact of a domestic restructuring set to claim 8,000 jobs - by shifting part of the cuts bur...</td>\n",
       "      <td>http://www.reuters.com/article/2012/09/13/us-france-peugeot-idUSBRE88C0F020120913</td>\n",
       "      <td>0.122</td>\n",
       "      <td>0.845</td>\n",
       "      <td>0.032</td>\n",
       "      <td>-0.9934</td>\n",
       "      <td>-1</td>\n",
       "      <td>PARIS  Reuters  Frances industry ministry is pressing the countrys leading carmaker to limit the impact of a domestic restructuring set to claim 8000 jobs  by shifting part of the cuts burden to ...</td>\n",
       "      <td>[, paris, reuters, frances, industry, ministry, is, pressing, the, countrys, leading, carmaker, to, limit, the, impact, of, a, domestic, restructuring, set, to, claim, 8000, jobs, by, shifting, pa...</td>\n",
       "      <td>[, paris, reuters, frances, industry, ministry, pressing, countrys, leading, carmaker, limit, impact, domestic, restructuring, set, claim, 8000, jobs, shifting, part, cuts, burden, spain, arnaud, ...</td>\n",
       "    </tr>\n",
       "    <tr>\n",
       "      <th>2</th>\n",
       "      <td>Tue May 29, 2007 3:42am EDT</td>\n",
       "      <td>Ford eyes sale of Volvo cars, BMW interested: report</td>\n",
       "      <td>STOCKHOLM  (Reuters) - Loss-making Ford Motor Co. ( F.N ) is planning to sell Swedish car maker Volvo and German carmaker BMW ( BMWG.DE ) could be a possible buyer, a Swedish newspaper said on Mo...</td>\n",
       "      <td>http://www.reuters.com/article/2007/05/29/us-ford-volvo-idUSLAU92705820070529</td>\n",
       "      <td>0.018</td>\n",
       "      <td>0.966</td>\n",
       "      <td>0.016</td>\n",
       "      <td>-0.0772</td>\n",
       "      <td>0</td>\n",
       "      <td>STOCKHOLM  Reuters  Lossmaking Ford Motor Co  FN  is planning to sell Swedish car maker Volvo and German carmaker BMW  BMWGDE  could be a possible buyer a Swedish newspaper said on Monday The Got...</td>\n",
       "      <td>[, stockholm, reuters, lossmaking, ford, motor, co, fn, is, planning, to, sell, swedish, car, maker, volvo, and, german, carmaker, bmw, bmwgde, could, be, a, possible, buyer, a, swedish, newspaper...</td>\n",
       "      <td>[, stockholm, reuters, lossmaking, ford, motor, co, fn, planning, sell, swedish, car, maker, volvo, german, carmaker, bmw, bmwgde, could, possible, buyer, swedish, newspaper, said, monday, gotebor...</td>\n",
       "    </tr>\n",
       "    <tr>\n",
       "      <th>3</th>\n",
       "      <td>Wed Nov 29, 2006 1:21pm EST</td>\n",
       "      <td>GM CEO says not too worried about Kerkorian</td>\n",
       "      <td>LOS ANGELES  (Reuters) - General Motors Corp. ( GM.N ) Chief Executive Rick Wagoner said on Wednesday he is \"not excessively worried\" about a possible proxy fight with the automaker's largest ind...</td>\n",
       "      <td>http://www.reuters.com/article/2006/11/29/us-gm-wagoner-kerkorian-idUSN2937476020061129</td>\n",
       "      <td>0.086</td>\n",
       "      <td>0.831</td>\n",
       "      <td>0.083</td>\n",
       "      <td>-0.1341</td>\n",
       "      <td>0</td>\n",
       "      <td>LOS ANGELES  Reuters  General Motors Corp  GMN  Chief Executive Rick Wagoner said on Wednesday he is not excessively worried about a possible proxy fight with the automakers largest individual sh...</td>\n",
       "      <td>[, los, angeles, reuters, general, motors, corp, gmn, chief, executive, rick, wagoner, said, on, wednesday, he, is, not, excessively, worried, about, a, possible, proxy, fight, with, the, automake...</td>\n",
       "      <td>[, los, angeles, reuters, general, motors, corp, gmn, chief, executive, rick, wagoner, said, wednesday, not, excessively, worried, possible, proxy, fight, automakers, largest, individual, sharehol...</td>\n",
       "    </tr>\n",
       "    <tr>\n",
       "      <th>4</th>\n",
       "      <td>Wed Oct 31, 2012 11:18pm EDT</td>\n",
       "      <td>Apple's Cook fields his A-team before a wary Wall Street</td>\n",
       "      <td></td>\n",
       "      <td>http://www.reuters.com/article/2012/11/01/us-apple-execs-idUSBRE8A000W20121101</td>\n",
       "      <td>0.000</td>\n",
       "      <td>0.000</td>\n",
       "      <td>0.000</td>\n",
       "      <td>0.0000</td>\n",
       "      <td>0</td>\n",
       "      <td></td>\n",
       "      <td>[]</td>\n",
       "      <td>[]</td>\n",
       "    </tr>\n",
       "  </tbody>\n",
       "</table>\n",
       "</div>"
      ],
      "text/plain": [
       "               long_date_format  \\\n",
       "0   Sat Jul 2, 2011 11:31pm EDT   \n",
       "1   Thu Sep 13, 2012 6:53am EDT   \n",
       "2   Tue May 29, 2007 3:42am EDT   \n",
       "3   Wed Nov 29, 2006 1:21pm EST   \n",
       "4  Wed Oct 31, 2012 11:18pm EDT   \n",
       "\n",
       "                                                        headline  \\\n",
       "0             Japan officials draw up Tepco breakup plan: report   \n",
       "1  French minister: Peugeot should cut in Spain, not just France   \n",
       "2           Ford eyes sale of Volvo cars, BMW interested: report   \n",
       "3                    GM CEO says not too worried about Kerkorian   \n",
       "4       Apple's Cook fields his A-team before a wary Wall Street   \n",
       "\n",
       "                                                                                                                                                                                                      text  \\\n",
       "0   TOKYO  (Reuters) - A group of Japanese government heavyweights have written a secret proposal to break up Tokyo Electric Power Co and nationalise its nuclear operations, a newspaper said on Sunda...   \n",
       "1   PARIS  (Reuters) - France's industry ministry is pressing the country's leading carmaker to limit the impact of a domestic restructuring set to claim 8,000 jobs - by shifting part of the cuts bur...   \n",
       "2   STOCKHOLM  (Reuters) - Loss-making Ford Motor Co. ( F.N ) is planning to sell Swedish car maker Volvo and German carmaker BMW ( BMWG.DE ) could be a possible buyer, a Swedish newspaper said on Mo...   \n",
       "3   LOS ANGELES  (Reuters) - General Motors Corp. ( GM.N ) Chief Executive Rick Wagoner said on Wednesday he is \"not excessively worried\" about a possible proxy fight with the automaker's largest ind...   \n",
       "4                                                                                                                                                                                                            \n",
       "\n",
       "                                                                                       url  \\\n",
       "0           http://www.reuters.com/article/2011/07/03/us-japan-tepco-idUSTRE7620AU20110703   \n",
       "1        http://www.reuters.com/article/2012/09/13/us-france-peugeot-idUSBRE88C0F020120913   \n",
       "2            http://www.reuters.com/article/2007/05/29/us-ford-volvo-idUSLAU92705820070529   \n",
       "3  http://www.reuters.com/article/2006/11/29/us-gm-wagoner-kerkorian-idUSN2937476020061129   \n",
       "4           http://www.reuters.com/article/2012/11/01/us-apple-execs-idUSBRE8A000W20121101   \n",
       "\n",
       "     neg    neu    pos  compound  label  \\\n",
       "0  0.057  0.887  0.056   -0.1027      0   \n",
       "1  0.122  0.845  0.032   -0.9934     -1   \n",
       "2  0.018  0.966  0.016   -0.0772      0   \n",
       "3  0.086  0.831  0.083   -0.1341      0   \n",
       "4  0.000  0.000  0.000    0.0000      0   \n",
       "\n",
       "                                                                                                                                                                                           body_text_clean  \\\n",
       "0   TOKYO  Reuters  A group of Japanese government heavyweights have written a secret proposal to break up Tokyo Electric Power Co and nationalise its nuclear operations a newspaper said on Sunday Th...   \n",
       "1   PARIS  Reuters  Frances industry ministry is pressing the countrys leading carmaker to limit the impact of a domestic restructuring set to claim 8000 jobs  by shifting part of the cuts burden to ...   \n",
       "2   STOCKHOLM  Reuters  Lossmaking Ford Motor Co  FN  is planning to sell Swedish car maker Volvo and German carmaker BMW  BMWGDE  could be a possible buyer a Swedish newspaper said on Monday The Got...   \n",
       "3   LOS ANGELES  Reuters  General Motors Corp  GMN  Chief Executive Rick Wagoner said on Wednesday he is not excessively worried about a possible proxy fight with the automakers largest individual sh...   \n",
       "4                                                                                                                                                                                                            \n",
       "\n",
       "                                                                                                                                                                                       body_text_tokenized  \\\n",
       "0  [, tokyo, reuters, a, group, of, japanese, government, heavyweights, have, written, a, secret, proposal, to, break, up, tokyo, electric, power, co, and, nationalise, its, nuclear, operations, a, n...   \n",
       "1  [, paris, reuters, frances, industry, ministry, is, pressing, the, countrys, leading, carmaker, to, limit, the, impact, of, a, domestic, restructuring, set, to, claim, 8000, jobs, by, shifting, pa...   \n",
       "2  [, stockholm, reuters, lossmaking, ford, motor, co, fn, is, planning, to, sell, swedish, car, maker, volvo, and, german, carmaker, bmw, bmwgde, could, be, a, possible, buyer, a, swedish, newspaper...   \n",
       "3  [, los, angeles, reuters, general, motors, corp, gmn, chief, executive, rick, wagoner, said, on, wednesday, he, is, not, excessively, worried, about, a, possible, proxy, fight, with, the, automake...   \n",
       "4                                                                                                                                                                                                       []   \n",
       "\n",
       "                                                                                                                                                                                          body_text_nostop  \n",
       "0  [, tokyo, reuters, group, japanese, government, heavyweights, written, secret, proposal, break, tokyo, electric, power, co, nationalise, nuclear, operations, newspaper, said, sunday, plan, drawn, ...  \n",
       "1  [, paris, reuters, frances, industry, ministry, pressing, countrys, leading, carmaker, limit, impact, domestic, restructuring, set, claim, 8000, jobs, shifting, part, cuts, burden, spain, arnaud, ...  \n",
       "2  [, stockholm, reuters, lossmaking, ford, motor, co, fn, planning, sell, swedish, car, maker, volvo, german, carmaker, bmw, bmwgde, could, possible, buyer, swedish, newspaper, said, monday, gotebor...  \n",
       "3  [, los, angeles, reuters, general, motors, corp, gmn, chief, executive, rick, wagoner, said, wednesday, not, excessively, worried, possible, proxy, fight, automakers, largest, individual, sharehol...  \n",
       "4                                                                                                                                                                                                       []  "
      ]
     },
     "execution_count": 20,
     "metadata": {},
     "output_type": "execute_result"
    }
   ],
   "source": [
    "#Removing Stopwords\n",
    "def remove_stopwords(tokenized_list):\n",
    "    text = [word for word in tokenized_list if word not in stop_words]\n",
    "    return text\n",
    "\n",
    "data['body_text_nostop'] = data['body_text_tokenized'].apply(lambda x: remove_stopwords(x))\n",
    "data.head()"
   ]
  },
  {
   "cell_type": "code",
   "execution_count": 21,
   "metadata": {},
   "outputs": [
    {
     "data": {
      "text/html": [
       "<div>\n",
       "<style scoped>\n",
       "    .dataframe tbody tr th:only-of-type {\n",
       "        vertical-align: middle;\n",
       "    }\n",
       "\n",
       "    .dataframe tbody tr th {\n",
       "        vertical-align: top;\n",
       "    }\n",
       "\n",
       "    .dataframe thead th {\n",
       "        text-align: right;\n",
       "    }\n",
       "</style>\n",
       "<table border=\"1\" class=\"dataframe\">\n",
       "  <thead>\n",
       "    <tr style=\"text-align: right;\">\n",
       "      <th></th>\n",
       "      <th>long_date_format</th>\n",
       "      <th>headline</th>\n",
       "      <th>text</th>\n",
       "      <th>url</th>\n",
       "      <th>neg</th>\n",
       "      <th>neu</th>\n",
       "      <th>pos</th>\n",
       "      <th>compound</th>\n",
       "      <th>label</th>\n",
       "      <th>body_text_clean</th>\n",
       "      <th>body_text_tokenized</th>\n",
       "      <th>body_text_nostop</th>\n",
       "      <th>body_text_stemmed</th>\n",
       "    </tr>\n",
       "  </thead>\n",
       "  <tbody>\n",
       "    <tr>\n",
       "      <th>0</th>\n",
       "      <td>Sat Jul 2, 2011 11:31pm EDT</td>\n",
       "      <td>Japan officials draw up Tepco breakup plan: report</td>\n",
       "      <td>TOKYO  (Reuters) - A group of Japanese government heavyweights have written a secret proposal to break up Tokyo Electric Power Co and nationalise its nuclear operations, a newspaper said on Sunda...</td>\n",
       "      <td>http://www.reuters.com/article/2011/07/03/us-japan-tepco-idUSTRE7620AU20110703</td>\n",
       "      <td>0.057</td>\n",
       "      <td>0.887</td>\n",
       "      <td>0.056</td>\n",
       "      <td>-0.1027</td>\n",
       "      <td>0</td>\n",
       "      <td>TOKYO  Reuters  A group of Japanese government heavyweights have written a secret proposal to break up Tokyo Electric Power Co and nationalise its nuclear operations a newspaper said on Sunday Th...</td>\n",
       "      <td>[, tokyo, reuters, a, group, of, japanese, government, heavyweights, have, written, a, secret, proposal, to, break, up, tokyo, electric, power, co, and, nationalise, its, nuclear, operations, a, n...</td>\n",
       "      <td>[, tokyo, reuters, group, japanese, government, heavyweights, written, secret, proposal, break, tokyo, electric, power, co, nationalise, nuclear, operations, newspaper, said, sunday, plan, drawn, ...</td>\n",
       "      <td>[, tokyo, reuter, group, japanes, govern, heavyweight, written, secret, propos, break, tokyo, electr, power, co, nationalis, nuclear, oper, newspap, said, sunday, plan, drawn, deputi, chief, cabin...</td>\n",
       "    </tr>\n",
       "    <tr>\n",
       "      <th>1</th>\n",
       "      <td>Thu Sep 13, 2012 6:53am EDT</td>\n",
       "      <td>French minister: Peugeot should cut in Spain, not just France</td>\n",
       "      <td>PARIS  (Reuters) - France's industry ministry is pressing the country's leading carmaker to limit the impact of a domestic restructuring set to claim 8,000 jobs - by shifting part of the cuts bur...</td>\n",
       "      <td>http://www.reuters.com/article/2012/09/13/us-france-peugeot-idUSBRE88C0F020120913</td>\n",
       "      <td>0.122</td>\n",
       "      <td>0.845</td>\n",
       "      <td>0.032</td>\n",
       "      <td>-0.9934</td>\n",
       "      <td>-1</td>\n",
       "      <td>PARIS  Reuters  Frances industry ministry is pressing the countrys leading carmaker to limit the impact of a domestic restructuring set to claim 8000 jobs  by shifting part of the cuts burden to ...</td>\n",
       "      <td>[, paris, reuters, frances, industry, ministry, is, pressing, the, countrys, leading, carmaker, to, limit, the, impact, of, a, domestic, restructuring, set, to, claim, 8000, jobs, by, shifting, pa...</td>\n",
       "      <td>[, paris, reuters, frances, industry, ministry, pressing, countrys, leading, carmaker, limit, impact, domestic, restructuring, set, claim, 8000, jobs, shifting, part, cuts, burden, spain, arnaud, ...</td>\n",
       "      <td>[, pari, reuter, franc, industri, ministri, press, countri, lead, carmak, limit, impact, domest, restructur, set, claim, 8000, job, shift, part, cut, burden, spain, arnaud, montebourg, industri, r...</td>\n",
       "    </tr>\n",
       "    <tr>\n",
       "      <th>2</th>\n",
       "      <td>Tue May 29, 2007 3:42am EDT</td>\n",
       "      <td>Ford eyes sale of Volvo cars, BMW interested: report</td>\n",
       "      <td>STOCKHOLM  (Reuters) - Loss-making Ford Motor Co. ( F.N ) is planning to sell Swedish car maker Volvo and German carmaker BMW ( BMWG.DE ) could be a possible buyer, a Swedish newspaper said on Mo...</td>\n",
       "      <td>http://www.reuters.com/article/2007/05/29/us-ford-volvo-idUSLAU92705820070529</td>\n",
       "      <td>0.018</td>\n",
       "      <td>0.966</td>\n",
       "      <td>0.016</td>\n",
       "      <td>-0.0772</td>\n",
       "      <td>0</td>\n",
       "      <td>STOCKHOLM  Reuters  Lossmaking Ford Motor Co  FN  is planning to sell Swedish car maker Volvo and German carmaker BMW  BMWGDE  could be a possible buyer a Swedish newspaper said on Monday The Got...</td>\n",
       "      <td>[, stockholm, reuters, lossmaking, ford, motor, co, fn, is, planning, to, sell, swedish, car, maker, volvo, and, german, carmaker, bmw, bmwgde, could, be, a, possible, buyer, a, swedish, newspaper...</td>\n",
       "      <td>[, stockholm, reuters, lossmaking, ford, motor, co, fn, planning, sell, swedish, car, maker, volvo, german, carmaker, bmw, bmwgde, could, possible, buyer, swedish, newspaper, said, monday, gotebor...</td>\n",
       "      <td>[, stockholm, reuter, lossmak, ford, motor, co, fn, plan, sell, swedish, car, maker, volvo, german, carmak, bmw, bmwgde, could, possibl, buyer, swedish, newspap, said, monday, goteborg, posten, da...</td>\n",
       "    </tr>\n",
       "    <tr>\n",
       "      <th>3</th>\n",
       "      <td>Wed Nov 29, 2006 1:21pm EST</td>\n",
       "      <td>GM CEO says not too worried about Kerkorian</td>\n",
       "      <td>LOS ANGELES  (Reuters) - General Motors Corp. ( GM.N ) Chief Executive Rick Wagoner said on Wednesday he is \"not excessively worried\" about a possible proxy fight with the automaker's largest ind...</td>\n",
       "      <td>http://www.reuters.com/article/2006/11/29/us-gm-wagoner-kerkorian-idUSN2937476020061129</td>\n",
       "      <td>0.086</td>\n",
       "      <td>0.831</td>\n",
       "      <td>0.083</td>\n",
       "      <td>-0.1341</td>\n",
       "      <td>0</td>\n",
       "      <td>LOS ANGELES  Reuters  General Motors Corp  GMN  Chief Executive Rick Wagoner said on Wednesday he is not excessively worried about a possible proxy fight with the automakers largest individual sh...</td>\n",
       "      <td>[, los, angeles, reuters, general, motors, corp, gmn, chief, executive, rick, wagoner, said, on, wednesday, he, is, not, excessively, worried, about, a, possible, proxy, fight, with, the, automake...</td>\n",
       "      <td>[, los, angeles, reuters, general, motors, corp, gmn, chief, executive, rick, wagoner, said, wednesday, not, excessively, worried, possible, proxy, fight, automakers, largest, individual, sharehol...</td>\n",
       "      <td>[, lo, angel, reuter, gener, motor, corp, gmn, chief, execut, rick, wagon, said, wednesday, not, excess, worri, possibl, proxi, fight, automak, largest, individu, sharehold, billionair, kirk, kerk...</td>\n",
       "    </tr>\n",
       "    <tr>\n",
       "      <th>4</th>\n",
       "      <td>Wed Oct 31, 2012 11:18pm EDT</td>\n",
       "      <td>Apple's Cook fields his A-team before a wary Wall Street</td>\n",
       "      <td></td>\n",
       "      <td>http://www.reuters.com/article/2012/11/01/us-apple-execs-idUSBRE8A000W20121101</td>\n",
       "      <td>0.000</td>\n",
       "      <td>0.000</td>\n",
       "      <td>0.000</td>\n",
       "      <td>0.0000</td>\n",
       "      <td>0</td>\n",
       "      <td></td>\n",
       "      <td>[]</td>\n",
       "      <td>[]</td>\n",
       "      <td>[]</td>\n",
       "    </tr>\n",
       "  </tbody>\n",
       "</table>\n",
       "</div>"
      ],
      "text/plain": [
       "               long_date_format  \\\n",
       "0   Sat Jul 2, 2011 11:31pm EDT   \n",
       "1   Thu Sep 13, 2012 6:53am EDT   \n",
       "2   Tue May 29, 2007 3:42am EDT   \n",
       "3   Wed Nov 29, 2006 1:21pm EST   \n",
       "4  Wed Oct 31, 2012 11:18pm EDT   \n",
       "\n",
       "                                                        headline  \\\n",
       "0             Japan officials draw up Tepco breakup plan: report   \n",
       "1  French minister: Peugeot should cut in Spain, not just France   \n",
       "2           Ford eyes sale of Volvo cars, BMW interested: report   \n",
       "3                    GM CEO says not too worried about Kerkorian   \n",
       "4       Apple's Cook fields his A-team before a wary Wall Street   \n",
       "\n",
       "                                                                                                                                                                                                      text  \\\n",
       "0   TOKYO  (Reuters) - A group of Japanese government heavyweights have written a secret proposal to break up Tokyo Electric Power Co and nationalise its nuclear operations, a newspaper said on Sunda...   \n",
       "1   PARIS  (Reuters) - France's industry ministry is pressing the country's leading carmaker to limit the impact of a domestic restructuring set to claim 8,000 jobs - by shifting part of the cuts bur...   \n",
       "2   STOCKHOLM  (Reuters) - Loss-making Ford Motor Co. ( F.N ) is planning to sell Swedish car maker Volvo and German carmaker BMW ( BMWG.DE ) could be a possible buyer, a Swedish newspaper said on Mo...   \n",
       "3   LOS ANGELES  (Reuters) - General Motors Corp. ( GM.N ) Chief Executive Rick Wagoner said on Wednesday he is \"not excessively worried\" about a possible proxy fight with the automaker's largest ind...   \n",
       "4                                                                                                                                                                                                            \n",
       "\n",
       "                                                                                       url  \\\n",
       "0           http://www.reuters.com/article/2011/07/03/us-japan-tepco-idUSTRE7620AU20110703   \n",
       "1        http://www.reuters.com/article/2012/09/13/us-france-peugeot-idUSBRE88C0F020120913   \n",
       "2            http://www.reuters.com/article/2007/05/29/us-ford-volvo-idUSLAU92705820070529   \n",
       "3  http://www.reuters.com/article/2006/11/29/us-gm-wagoner-kerkorian-idUSN2937476020061129   \n",
       "4           http://www.reuters.com/article/2012/11/01/us-apple-execs-idUSBRE8A000W20121101   \n",
       "\n",
       "     neg    neu    pos  compound  label  \\\n",
       "0  0.057  0.887  0.056   -0.1027      0   \n",
       "1  0.122  0.845  0.032   -0.9934     -1   \n",
       "2  0.018  0.966  0.016   -0.0772      0   \n",
       "3  0.086  0.831  0.083   -0.1341      0   \n",
       "4  0.000  0.000  0.000    0.0000      0   \n",
       "\n",
       "                                                                                                                                                                                           body_text_clean  \\\n",
       "0   TOKYO  Reuters  A group of Japanese government heavyweights have written a secret proposal to break up Tokyo Electric Power Co and nationalise its nuclear operations a newspaper said on Sunday Th...   \n",
       "1   PARIS  Reuters  Frances industry ministry is pressing the countrys leading carmaker to limit the impact of a domestic restructuring set to claim 8000 jobs  by shifting part of the cuts burden to ...   \n",
       "2   STOCKHOLM  Reuters  Lossmaking Ford Motor Co  FN  is planning to sell Swedish car maker Volvo and German carmaker BMW  BMWGDE  could be a possible buyer a Swedish newspaper said on Monday The Got...   \n",
       "3   LOS ANGELES  Reuters  General Motors Corp  GMN  Chief Executive Rick Wagoner said on Wednesday he is not excessively worried about a possible proxy fight with the automakers largest individual sh...   \n",
       "4                                                                                                                                                                                                            \n",
       "\n",
       "                                                                                                                                                                                       body_text_tokenized  \\\n",
       "0  [, tokyo, reuters, a, group, of, japanese, government, heavyweights, have, written, a, secret, proposal, to, break, up, tokyo, electric, power, co, and, nationalise, its, nuclear, operations, a, n...   \n",
       "1  [, paris, reuters, frances, industry, ministry, is, pressing, the, countrys, leading, carmaker, to, limit, the, impact, of, a, domestic, restructuring, set, to, claim, 8000, jobs, by, shifting, pa...   \n",
       "2  [, stockholm, reuters, lossmaking, ford, motor, co, fn, is, planning, to, sell, swedish, car, maker, volvo, and, german, carmaker, bmw, bmwgde, could, be, a, possible, buyer, a, swedish, newspaper...   \n",
       "3  [, los, angeles, reuters, general, motors, corp, gmn, chief, executive, rick, wagoner, said, on, wednesday, he, is, not, excessively, worried, about, a, possible, proxy, fight, with, the, automake...   \n",
       "4                                                                                                                                                                                                       []   \n",
       "\n",
       "                                                                                                                                                                                          body_text_nostop  \\\n",
       "0  [, tokyo, reuters, group, japanese, government, heavyweights, written, secret, proposal, break, tokyo, electric, power, co, nationalise, nuclear, operations, newspaper, said, sunday, plan, drawn, ...   \n",
       "1  [, paris, reuters, frances, industry, ministry, pressing, countrys, leading, carmaker, limit, impact, domestic, restructuring, set, claim, 8000, jobs, shifting, part, cuts, burden, spain, arnaud, ...   \n",
       "2  [, stockholm, reuters, lossmaking, ford, motor, co, fn, planning, sell, swedish, car, maker, volvo, german, carmaker, bmw, bmwgde, could, possible, buyer, swedish, newspaper, said, monday, gotebor...   \n",
       "3  [, los, angeles, reuters, general, motors, corp, gmn, chief, executive, rick, wagoner, said, wednesday, not, excessively, worried, possible, proxy, fight, automakers, largest, individual, sharehol...   \n",
       "4                                                                                                                                                                                                       []   \n",
       "\n",
       "                                                                                                                                                                                         body_text_stemmed  \n",
       "0  [, tokyo, reuter, group, japanes, govern, heavyweight, written, secret, propos, break, tokyo, electr, power, co, nationalis, nuclear, oper, newspap, said, sunday, plan, drawn, deputi, chief, cabin...  \n",
       "1  [, pari, reuter, franc, industri, ministri, press, countri, lead, carmak, limit, impact, domest, restructur, set, claim, 8000, job, shift, part, cut, burden, spain, arnaud, montebourg, industri, r...  \n",
       "2  [, stockholm, reuter, lossmak, ford, motor, co, fn, plan, sell, swedish, car, maker, volvo, german, carmak, bmw, bmwgde, could, possibl, buyer, swedish, newspap, said, monday, goteborg, posten, da...  \n",
       "3  [, lo, angel, reuter, gener, motor, corp, gmn, chief, execut, rick, wagon, said, wednesday, not, excess, worri, possibl, proxi, fight, automak, largest, individu, sharehold, billionair, kirk, kerk...  \n",
       "4                                                                                                                                                                                                       []  "
      ]
     },
     "execution_count": 21,
     "metadata": {},
     "output_type": "execute_result"
    }
   ],
   "source": [
    "#Stemming\n",
    "import nltk \n",
    "ps = nltk.PorterStemmer()\n",
    "def stemming(tokenized_text):\n",
    "    text = [ps.stem(word) for word in tokenized_text]\n",
    "    return text\n",
    "\n",
    "data['body_text_stemmed'] = data['body_text_nostop'].apply(lambda x: stemming(x))\n",
    "data.head()"
   ]
  },
  {
   "cell_type": "markdown",
   "metadata": {},
   "source": [
    "## Split Dataset \n",
    "Train 60%\n",
    "Validation 20%\n",
    "Test 20%"
   ]
  },
  {
   "cell_type": "code",
   "execution_count": 22,
   "metadata": {},
   "outputs": [
    {
     "name": "stdout",
     "output_type": "stream",
     "text": [
      "15000\n",
      "15000\n"
     ]
    }
   ],
   "source": [
    "from sklearn.model_selection import train_test_split\n",
    "\n",
    "X = data['text']\n",
    "y = data['label']\n",
    "\n",
    "print(len(X))\n",
    "print(len(y))\n",
    "\n",
    "X_train, X_test, y_train, y_test = train_test_split(\n",
    "    X, y, test_size=0.2, random_state=1)\n",
    "X_train, X_val, y_train, y_val = train_test_split(\n",
    "    X_train, y_train, test_size=0.25, random_state=1)"
   ]
  },
  {
   "cell_type": "markdown",
   "metadata": {},
   "source": [
    "## Vectorizing Data\n",
    "- Transform training and testing data into something the Machine Learning algorithm can understand.\n",
    "- First it fits the data on TF-IDF vectorizer and the transforms it into feature vector space which we can then send to the input of our ML model"
   ]
  },
  {
   "cell_type": "code",
   "execution_count": 23,
   "metadata": {},
   "outputs": [],
   "source": [
    "from sklearn.feature_extraction.text import TfidfVectorizer\n",
    "import pickle\n",
    "\n",
    "vectorizer = TfidfVectorizer(max_features=2000)\n",
    "vectorizer = vectorizer.fit(X_train)\n",
    "tfidf_train = vectorizer.transform(X_train)\n",
    "tfidf_val = vectorizer.transform(X_val)\n",
    "tfidf_test = vectorizer.transform(X_test)"
   ]
  },
  {
   "cell_type": "code",
   "execution_count": 24,
   "metadata": {},
   "outputs": [
    {
     "name": "stderr",
     "output_type": "stream",
     "text": [
      "/Users/alex/Desktop/NLP/NLP_Lynda_Course/env/lib/python3.7/site-packages/sklearn/externals/joblib/__init__.py:15: DeprecationWarning: sklearn.externals.joblib is deprecated in 0.21 and will be removed in 0.23. Please import this functionality directly from joblib, which can be installed with: pip install joblib. If this warning is raised when loading pickled models, you may need to re-serialize those models with scikit-learn 0.21+.\n",
      "  warnings.warn(msg, category=DeprecationWarning)\n"
     ]
    },
    {
     "data": {
      "text/plain": [
       "['tfidfVectorizer.pkl']"
      ]
     },
     "execution_count": 24,
     "metadata": {},
     "output_type": "execute_result"
    }
   ],
   "source": [
    "import pickle \n",
    "from sklearn.externals import joblib\n",
    "\n",
    "joblib.dump(vectorizer, 'tfidfVectorizer.pkl')"
   ]
  },
  {
   "cell_type": "code",
   "execution_count": 25,
   "metadata": {},
   "outputs": [],
   "source": [
    "# load the model from disk\n",
    "vectorizer = joblib.load('tfidfVectorizer.pkl')"
   ]
  },
  {
   "cell_type": "code",
   "execution_count": 26,
   "metadata": {},
   "outputs": [],
   "source": [
    "X_train_vect = pd.DataFrame(tfidf_train.toarray())\n",
    "X_val_vect = pd.DataFrame(tfidf_val.toarray())\n",
    "X_test_vect = pd.DataFrame(tfidf_test.toarray())"
   ]
  },
  {
   "cell_type": "markdown",
   "metadata": {},
   "source": [
    "## Random Forest"
   ]
  },
  {
   "cell_type": "code",
   "execution_count": 27,
   "metadata": {},
   "outputs": [
    {
     "name": "stdout",
     "output_type": "stream",
     "text": [
      "Train Accuracy : 1.0\n",
      "Validation Accuracy  : 0.6133333333333333\n",
      "Test Accuracy  : 0.6136666666666667\n"
     ]
    }
   ],
   "source": [
    "from sklearn.metrics import accuracy_score \n",
    "from sklearn.ensemble import RandomForestClassifier\n",
    "\n",
    "rf = RandomForestClassifier(n_estimators=150, max_depth=None, n_jobs=-1)\n",
    "rf_model = rf.fit(X_train_vect, y_train)\n",
    "y_pred = rf_model.predict(X_val_vect)\n",
    "\n",
    "y_test_pred = rf_model.predict(X_test_vect)\n",
    "\n",
    "# Train and Test Accuracy\n",
    "print (\"Train Accuracy : {}\".format(accuracy_score(y_train, rf_model.predict(X_train_vect))))\n",
    "print (\"Validation Accuracy  : {}\".format(accuracy_score(y_val, y_pred)))\n",
    "print (\"Test Accuracy  : {}\".format(accuracy_score(y_test, y_test_pred)))"
   ]
  },
  {
   "cell_type": "code",
   "execution_count": 28,
   "metadata": {},
   "outputs": [],
   "source": [
    "from sklearn.model_selection import learning_curve\n",
    "from sklearn.model_selection import validation_curve\n",
    "import matplotlib.pyplot as plt\n",
    "\n",
    "def plot_learning_curve(estimator, title, X, y, ylim=None, cv=None,\n",
    "                        n_jobs=1, train_sizes=np.linspace(.1, 1.0, 5)):\n",
    "    plt.figure()\n",
    "    plt.title(title)\n",
    "    if ylim is not None:\n",
    "        plt.ylim(*ylim)\n",
    "    plt.xlabel(\"Training examples\")\n",
    "    plt.ylabel(\"Score\")\n",
    "    train_sizes, train_scores, test_scores = learning_curve(\n",
    "        estimator, X, y, cv=cv, n_jobs=n_jobs, train_sizes=train_sizes)\n",
    "    train_scores_mean = np.mean(train_scores, axis=1)\n",
    "    train_scores_std = np.std(train_scores, axis=1)\n",
    "    test_scores_mean = np.mean(test_scores, axis=1)\n",
    "    test_scores_std = np.std(test_scores, axis=1)\n",
    "    plt.grid()\n",
    "\n",
    "    plt.fill_between(train_sizes, train_scores_mean - train_scores_std,\n",
    "                     train_scores_mean + train_scores_std, alpha=0.1,\n",
    "                     color=\"r\")\n",
    "    plt.fill_between(train_sizes, test_scores_mean - test_scores_std,\n",
    "                     test_scores_mean + test_scores_std, alpha=0.1, color=\"g\")\n",
    "    plt.plot(train_sizes, train_scores_mean, 'o-', color=\"r\",\n",
    "             label=\"Training score\")\n",
    "    plt.plot(train_sizes, test_scores_mean, 'o-', color=\"g\",\n",
    "             label=\"Cross-validation score\")\n",
    "\n",
    "    plt.legend(loc=\"best\")\n",
    "    return plt\n",
    "\n",
    "\n",
    "def plot_validation_curve(estimator, param_range,param_name, title, X, y, ylim=None, cv=None,\n",
    "                        n_jobs=1):\n",
    "\n",
    "    train_scores, test_scores = validation_curve(\n",
    "    estimator, X, y, param_name=param_name, param_range=param_range,\n",
    "    cv=10, scoring=\"accuracy\", n_jobs=1)\n",
    "    \n",
    "    train_scores_mean = np.mean(train_scores, axis=1)\n",
    "    train_scores_std = np.std(train_scores, axis=1)\n",
    "    test_scores_mean = np.mean(test_scores, axis=1)\n",
    "    test_scores_std = np.std(test_scores, axis=1)\n",
    "\n",
    "    plt.title(title)\n",
    "    plt.xlabel(param_name)\n",
    "    plt.ylabel(\"Score\")\n",
    "    plt.ylim(0.0, 1.1)\n",
    "    \n",
    "    plt.grid()\n",
    "\n",
    "    plt.fill_between(param_range, train_scores_mean - train_scores_std,\n",
    "                     train_scores_mean + train_scores_std, alpha=0.1,\n",
    "                     color=\"r\")\n",
    "    plt.fill_between(param_range, test_scores_mean - test_scores_std,\n",
    "                     test_scores_mean + test_scores_std, alpha=0.1, color=\"g\")\n",
    "    plt.plot(param_range, train_scores_mean, 'o-', color=\"r\",\n",
    "             label=\"Training score\")\n",
    "    plt.plot(param_range, test_scores_mean, 'o-', color=\"g\",\n",
    "             label=\"Cross-validation score\")\n",
    "\n",
    "    plt.legend(loc=\"best\")\n",
    "    plt.show()"
   ]
  },
  {
   "cell_type": "code",
   "execution_count": 29,
   "metadata": {},
   "outputs": [
    {
     "data": {
      "text/plain": [
       "RandomForestClassifier(bootstrap=True, class_weight=None, criterion='gini',\n",
       "                       max_depth=None, max_features='auto', max_leaf_nodes=None,\n",
       "                       min_impurity_decrease=0.0, min_impurity_split=None,\n",
       "                       min_samples_leaf=1, min_samples_split=2,\n",
       "                       min_weight_fraction_leaf=0.0, n_estimators=150,\n",
       "                       n_jobs=-1, oob_score=False, random_state=None, verbose=0,\n",
       "                       warm_start=False)"
      ]
     },
     "execution_count": 29,
     "metadata": {},
     "output_type": "execute_result"
    }
   ],
   "source": [
    "rf"
   ]
  },
  {
   "cell_type": "code",
   "execution_count": 30,
   "metadata": {},
   "outputs": [
    {
     "name": "stderr",
     "output_type": "stream",
     "text": [
      "/Users/alex/Desktop/NLP/NLP_Lynda_Course/env/lib/python3.7/site-packages/sklearn/model_selection/_split.py:1978: FutureWarning: The default value of cv will change from 3 to 5 in version 0.22. Specify it explicitly to silence this warning.\n",
      "  warnings.warn(CV_WARNING, FutureWarning)\n"
     ]
    },
    {
     "data": {
      "text/plain": [
       "<module 'matplotlib.pyplot' from '/Users/alex/Desktop/NLP/NLP_Lynda_Course/env/lib/python3.7/site-packages/matplotlib/pyplot.py'>"
      ]
     },
     "execution_count": 30,
     "metadata": {},
     "output_type": "execute_result"
    },
    {
     "data": {
      "image/png": "[encoded data removed]",
      "text/plain": [
       "<Figure size 432x288 with 1 Axes>"
      ]
     },
     "metadata": {
      "needs_background": "light"
     },
     "output_type": "display_data"
    }
   ],
   "source": [
    "plot_learning_curve(rf, \"Random Forest Learning Curve\", X_train_vect, y_train, ylim=[0,1.1])"
   ]
  },
  {
   "cell_type": "markdown",
   "metadata": {},
   "source": [
    "## Adaboost"
   ]
  },
  {
   "cell_type": "code",
   "execution_count": 31,
   "metadata": {},
   "outputs": [
    {
     "name": "stdout",
     "output_type": "stream",
     "text": [
      "Train Accuracy : 0.629\n",
      "Validation Accuracy  : 0.5983333333333334\n",
      "Test Accuracy  : 0.6046666666666667\n"
     ]
    }
   ],
   "source": [
    "from sklearn.ensemble import AdaBoostClassifier\n",
    "\n",
    "clf = AdaBoostClassifier()\n",
    "clf_model = clf.fit(X_train_vect, y_train)\n",
    "y_pred = clf_model.predict(X_val_vect)\n",
    "y_test_pred = clf_model.predict(X_test_vect)\n",
    "\n",
    "# Train and Test Accuracy\n",
    "print (\"Train Accuracy : {}\".format(accuracy_score(y_train, clf_model.predict(X_train_vect))))\n",
    "print (\"Validation Accuracy  : {}\".format(accuracy_score(y_val, y_pred)))\n",
    "print (\"Test Accuracy  : {}\".format(accuracy_score(y_test, y_test_pred)))"
   ]
  },
  {
   "cell_type": "code",
   "execution_count": 32,
   "metadata": {},
   "outputs": [
    {
     "name": "stderr",
     "output_type": "stream",
     "text": [
      "/Users/alex/Desktop/NLP/NLP_Lynda_Course/env/lib/python3.7/site-packages/sklearn/model_selection/_split.py:1978: FutureWarning: The default value of cv will change from 3 to 5 in version 0.22. Specify it explicitly to silence this warning.\n",
      "  warnings.warn(CV_WARNING, FutureWarning)\n"
     ]
    },
    {
     "data": {
      "text/plain": [
       "<module 'matplotlib.pyplot' from '/Users/alex/Desktop/NLP/NLP_Lynda_Course/env/lib/python3.7/site-packages/matplotlib/pyplot.py'>"
      ]
     },
     "execution_count": 32,
     "metadata": {},
     "output_type": "execute_result"
    },
    {
     "data": {
      "image/png": "[encoded data removed]",
      "text/plain": [
       "<Figure size 432x288 with 1 Axes>"
      ]
     },
     "metadata": {
      "needs_background": "light"
     },
     "output_type": "display_data"
    }
   ],
   "source": [
    "plot_learning_curve(clf, \"Adaboost Learning Curve\", X_train_vect, y_train, ylim=[0,1.1])"
   ]
  },
  {
   "cell_type": "markdown",
   "metadata": {},
   "source": [
    "## SVM"
   ]
  },
  {
   "cell_type": "code",
   "execution_count": 33,
   "metadata": {},
   "outputs": [
    {
     "name": "stderr",
     "output_type": "stream",
     "text": [
      "/Users/alex/Desktop/NLP/NLP_Lynda_Course/env/lib/python3.7/site-packages/sklearn/svm/base.py:193: FutureWarning: The default value of gamma will change from 'auto' to 'scale' in version 0.22 to account better for unscaled features. Set gamma explicitly to 'auto' or 'scale' to avoid this warning.\n",
      "  \"avoid this warning.\", FutureWarning)\n"
     ]
    },
    {
     "name": "stdout",
     "output_type": "stream",
     "text": [
      "Train Accuracy : 0.3371111111111111\n",
      "Validation Accuracy  : 0.3283333333333333\n",
      "Test Accuracy  : 0.327\n"
     ]
    }
   ],
   "source": [
    "from sklearn import svm\n",
    "\n",
    "clf = svm.SVC()\n",
    "clf_model = clf.fit(X_train_vect, y_train)\n",
    "y_pred = clf_model.predict(X_val_vect)\n",
    "y_test_pred = clf_model.predict(X_test_vect)\n",
    "\n",
    "# Train and Test Accuracy\n",
    "print (\"Train Accuracy : {}\".format(accuracy_score(y_train, clf_model.predict(X_train_vect))))\n",
    "print (\"Validation Accuracy  : {}\".format(accuracy_score(y_val, y_pred)))\n",
    "print (\"Test Accuracy  : {}\".format(accuracy_score(y_test, y_test_pred)))"
   ]
  },
  {
   "cell_type": "code",
   "execution_count": 34,
   "metadata": {},
   "outputs": [
    {
     "name": "stderr",
     "output_type": "stream",
     "text": [
      "/Users/alex/Desktop/NLP/NLP_Lynda_Course/env/lib/python3.7/site-packages/sklearn/model_selection/_split.py:1978: FutureWarning: The default value of cv will change from 3 to 5 in version 0.22. Specify it explicitly to silence this warning.\n",
      "  warnings.warn(CV_WARNING, FutureWarning)\n",
      "/Users/alex/Desktop/NLP/NLP_Lynda_Course/env/lib/python3.7/site-packages/sklearn/svm/base.py:193: FutureWarning: The default value of gamma will change from 'auto' to 'scale' in version 0.22 to account better for unscaled features. Set gamma explicitly to 'auto' or 'scale' to avoid this warning.\n",
      "  \"avoid this warning.\", FutureWarning)\n",
      "/Users/alex/Desktop/NLP/NLP_Lynda_Course/env/lib/python3.7/site-packages/sklearn/svm/base.py:193: FutureWarning: The default value of gamma will change from 'auto' to 'scale' in version 0.22 to account better for unscaled features. Set gamma explicitly to 'auto' or 'scale' to avoid this warning.\n",
      "  \"avoid this warning.\", FutureWarning)\n",
      "/Users/alex/Desktop/NLP/NLP_Lynda_Course/env/lib/python3.7/site-packages/sklearn/svm/base.py:193: FutureWarning: The default value of gamma will change from 'auto' to 'scale' in version 0.22 to account better for unscaled features. Set gamma explicitly to 'auto' or 'scale' to avoid this warning.\n",
      "  \"avoid this warning.\", FutureWarning)\n",
      "/Users/alex/Desktop/NLP/NLP_Lynda_Course/env/lib/python3.7/site-packages/sklearn/svm/base.py:193: FutureWarning: The default value of gamma will change from 'auto' to 'scale' in version 0.22 to account better for unscaled features. Set gamma explicitly to 'auto' or 'scale' to avoid this warning.\n",
      "  \"avoid this warning.\", FutureWarning)\n",
      "/Users/alex/Desktop/NLP/NLP_Lynda_Course/env/lib/python3.7/site-packages/sklearn/svm/base.py:193: FutureWarning: The default value of gamma will change from 'auto' to 'scale' in version 0.22 to account better for unscaled features. Set gamma explicitly to 'auto' or 'scale' to avoid this warning.\n",
      "  \"avoid this warning.\", FutureWarning)\n",
      "/Users/alex/Desktop/NLP/NLP_Lynda_Course/env/lib/python3.7/site-packages/sklearn/svm/base.py:193: FutureWarning: The default value of gamma will change from 'auto' to 'scale' in version 0.22 to account better for unscaled features. Set gamma explicitly to 'auto' or 'scale' to avoid this warning.\n",
      "  \"avoid this warning.\", FutureWarning)\n",
      "/Users/alex/Desktop/NLP/NLP_Lynda_Course/env/lib/python3.7/site-packages/sklearn/svm/base.py:193: FutureWarning: The default value of gamma will change from 'auto' to 'scale' in version 0.22 to account better for unscaled features. Set gamma explicitly to 'auto' or 'scale' to avoid this warning.\n",
      "  \"avoid this warning.\", FutureWarning)\n",
      "/Users/alex/Desktop/NLP/NLP_Lynda_Course/env/lib/python3.7/site-packages/sklearn/svm/base.py:193: FutureWarning: The default value of gamma will change from 'auto' to 'scale' in version 0.22 to account better for unscaled features. Set gamma explicitly to 'auto' or 'scale' to avoid this warning.\n",
      "  \"avoid this warning.\", FutureWarning)\n",
      "/Users/alex/Desktop/NLP/NLP_Lynda_Course/env/lib/python3.7/site-packages/sklearn/svm/base.py:193: FutureWarning: The default value of gamma will change from 'auto' to 'scale' in version 0.22 to account better for unscaled features. Set gamma explicitly to 'auto' or 'scale' to avoid this warning.\n",
      "  \"avoid this warning.\", FutureWarning)\n",
      "/Users/alex/Desktop/NLP/NLP_Lynda_Course/env/lib/python3.7/site-packages/sklearn/svm/base.py:193: FutureWarning: The default value of gamma will change from 'auto' to 'scale' in version 0.22 to account better for unscaled features. Set gamma explicitly to 'auto' or 'scale' to avoid this warning.\n",
      "  \"avoid this warning.\", FutureWarning)\n",
      "/Users/alex/Desktop/NLP/NLP_Lynda_Course/env/lib/python3.7/site-packages/sklearn/svm/base.py:193: FutureWarning: The default value of gamma will change from 'auto' to 'scale' in version 0.22 to account better for unscaled features. Set gamma explicitly to 'auto' or 'scale' to avoid this warning.\n",
      "  \"avoid this warning.\", FutureWarning)\n",
      "/Users/alex/Desktop/NLP/NLP_Lynda_Course/env/lib/python3.7/site-packages/sklearn/svm/base.py:193: FutureWarning: The default value of gamma will change from 'auto' to 'scale' in version 0.22 to account better for unscaled features. Set gamma explicitly to 'auto' or 'scale' to avoid this warning.\n",
      "  \"avoid this warning.\", FutureWarning)\n",
      "/Users/alex/Desktop/NLP/NLP_Lynda_Course/env/lib/python3.7/site-packages/sklearn/svm/base.py:193: FutureWarning: The default value of gamma will change from 'auto' to 'scale' in version 0.22 to account better for unscaled features. Set gamma explicitly to 'auto' or 'scale' to avoid this warning.\n",
      "  \"avoid this warning.\", FutureWarning)\n",
      "/Users/alex/Desktop/NLP/NLP_Lynda_Course/env/lib/python3.7/site-packages/sklearn/svm/base.py:193: FutureWarning: The default value of gamma will change from 'auto' to 'scale' in version 0.22 to account better for unscaled features. Set gamma explicitly to 'auto' or 'scale' to avoid this warning.\n",
      "  \"avoid this warning.\", FutureWarning)\n",
      "/Users/alex/Desktop/NLP/NLP_Lynda_Course/env/lib/python3.7/site-packages/sklearn/svm/base.py:193: FutureWarning: The default value of gamma will change from 'auto' to 'scale' in version 0.22 to account better for unscaled features. Set gamma explicitly to 'auto' or 'scale' to avoid this warning.\n",
      "  \"avoid this warning.\", FutureWarning)\n"
     ]
    },
    {
     "data": {
      "text/plain": [
       "<module 'matplotlib.pyplot' from '/Users/alex/Desktop/NLP/NLP_Lynda_Course/env/lib/python3.7/site-packages/matplotlib/pyplot.py'>"
      ]
     },
     "execution_count": 34,
     "metadata": {},
     "output_type": "execute_result"
    },
    {
     "data": {
      "image/png": "[encoded data removed]",
      "text/plain": [
       "<Figure size 432x288 with 1 Axes>"
      ]
     },
     "metadata": {
      "needs_background": "light"
     },
     "output_type": "display_data"
    }
   ],
   "source": [
    "plot_learning_curve(clf, \"SVM Learning Curve\", X_train_vect, y_train, ylim=[0,1.1])"
   ]
  },
  {
   "cell_type": "markdown",
   "metadata": {},
   "source": [
    "## KNN"
   ]
  },
  {
   "cell_type": "code",
   "execution_count": 35,
   "metadata": {},
   "outputs": [
    {
     "name": "stdout",
     "output_type": "stream",
     "text": [
      "Train Accuracy : 0.637\n",
      "Validation Accuracy  : 0.5163333333333333\n",
      "Test Accuracy  : 0.5323333333333333\n"
     ]
    }
   ],
   "source": [
    "from sklearn.neighbors import KNeighborsClassifier\n",
    "\n",
    "clf = KNeighborsClassifier()\n",
    "clf_model = clf.fit(X_train_vect, y_train)\n",
    "y_pred = clf_model.predict(X_val_vect)\n",
    "y_test_pred = clf_model.predict(X_test_vect)\n",
    "\n",
    "# Train and Test Accuracy\n",
    "print (\"Train Accuracy : {}\".format(accuracy_score(y_train, clf_model.predict(X_train_vect))))\n",
    "print (\"Validation Accuracy  : {}\".format(accuracy_score(y_val, y_pred)))\n",
    "print (\"Test Accuracy  : {}\".format(accuracy_score(y_test, y_test_pred)))"
   ]
  },
  {
   "cell_type": "code",
   "execution_count": 36,
   "metadata": {},
   "outputs": [
    {
     "name": "stderr",
     "output_type": "stream",
     "text": [
      "/Users/alex/Desktop/NLP/NLP_Lynda_Course/env/lib/python3.7/site-packages/sklearn/model_selection/_split.py:1978: FutureWarning: The default value of cv will change from 3 to 5 in version 0.22. Specify it explicitly to silence this warning.\n",
      "  warnings.warn(CV_WARNING, FutureWarning)\n"
     ]
    },
    {
     "data": {
      "text/plain": [
       "<module 'matplotlib.pyplot' from '/Users/alex/Desktop/NLP/NLP_Lynda_Course/env/lib/python3.7/site-packages/matplotlib/pyplot.py'>"
      ]
     },
     "execution_count": 36,
     "metadata": {},
     "output_type": "execute_result"
    },
    {
     "data": {
      "image/png": "[encoded data removed]",
      "text/plain": [
       "<Figure size 432x288 with 1 Axes>"
      ]
     },
     "metadata": {
      "needs_background": "light"
     },
     "output_type": "display_data"
    }
   ],
   "source": [
    "plot_learning_curve(clf, \"KNN Learning Curve\", X_train_vect, y_train, ylim=[0,1.1])"
   ]
  },
  {
   "cell_type": "markdown",
   "metadata": {},
   "source": [
    "## Deep Neural Networks "
   ]
  },
  {
   "cell_type": "code",
   "execution_count": 37,
   "metadata": {},
   "outputs": [
    {
     "name": "stdout",
     "output_type": "stream",
     "text": [
      "Model: \"sequential\"\n",
      "_________________________________________________________________\n",
      "Layer (type)                 Output Shape              Param #   \n",
      "=================================================================\n",
      "dense (Dense)                (None, 128)               256128    \n",
      "_________________________________________________________________\n",
      "dense_1 (Dense)              (None, 1)                 129       \n",
      "=================================================================\n",
      "Total params: 256,257\n",
      "Trainable params: 256,257\n",
      "Non-trainable params: 0\n",
      "_________________________________________________________________\n"
     ]
    }
   ],
   "source": [
    "from tensorflow.python.keras.models import Sequential\n",
    "from tensorflow.python.keras import layers\n",
    "from tensorflow.python.keras.layers import Embedding\n",
    "from tensorflow.python.keras.layers import LSTM\n",
    "\n",
    "batch_size = 128\n",
    "epochs = 12\n",
    "\n",
    "input_dim = X_train_vect.shape[1]  # Number of features\n",
    "\n",
    "model = Sequential()\n",
    "model.add(layers.Dense(128, input_dim=input_dim, activation='relu'))\n",
    "model.add(layers.Dense(1, activation='softmax'))\n",
    "\n",
    "model.compile(loss='binary_crossentropy', \n",
    "               optimizer='adam', \n",
    "               metrics=['accuracy'])\n",
    "model.summary()"
   ]
  },
  {
   "cell_type": "code",
   "execution_count": 38,
   "metadata": {},
   "outputs": [
    {
     "name": "stdout",
     "output_type": "stream",
     "text": [
      "WARNING:tensorflow:Falling back from v2 loop because of error: Failed to find data adapter that can handle input: <class 'pandas.core.frame.DataFrame'>, <class 'NoneType'>\n",
      "Train on 9000 samples, validate on 3000 samples\n",
      "Epoch 1/12\n",
      "9000/9000 [==============================] - 0s 34us/sample - loss: 15.3571 - accuracy: 0.3307 - val_loss: 15.3690 - val_accuracy: 0.3347\n",
      "Epoch 2/12\n",
      "9000/9000 [==============================] - 0s 22us/sample - loss: 15.3571 - accuracy: 0.3307 - val_loss: 15.3690 - val_accuracy: 0.3347\n",
      "Epoch 3/12\n",
      "9000/9000 [==============================] - 0s 23us/sample - loss: 15.3571 - accuracy: 0.3307 - val_loss: 15.3690 - val_accuracy: 0.3347\n",
      "Epoch 4/12\n",
      "9000/9000 [==============================] - 0s 22us/sample - loss: 15.3571 - accuracy: 0.3307 - val_loss: 15.3690 - val_accuracy: 0.3347\n",
      "Epoch 5/12\n",
      "9000/9000 [==============================] - 0s 23us/sample - loss: 15.3571 - accuracy: 0.3307 - val_loss: 15.3690 - val_accuracy: 0.3347\n",
      "Epoch 6/12\n",
      "9000/9000 [==============================] - 0s 24us/sample - loss: 15.3571 - accuracy: 0.3307 - val_loss: 15.3690 - val_accuracy: 0.3347\n",
      "Epoch 7/12\n",
      "9000/9000 [==============================] - 0s 23us/sample - loss: 15.3571 - accuracy: 0.3307 - val_loss: 15.3690 - val_accuracy: 0.3347\n",
      "Epoch 8/12\n",
      "9000/9000 [==============================] - 0s 22us/sample - loss: 15.3571 - accuracy: 0.3307 - val_loss: 15.3690 - val_accuracy: 0.3347\n",
      "Epoch 9/12\n",
      "9000/9000 [==============================] - 0s 24us/sample - loss: 15.3571 - accuracy: 0.3307 - val_loss: 15.3690 - val_accuracy: 0.3347\n",
      "Epoch 10/12\n",
      "9000/9000 [==============================] - 0s 23us/sample - loss: 15.3571 - accuracy: 0.3307 - val_loss: 15.3690 - val_accuracy: 0.3347\n",
      "Epoch 11/12\n",
      "9000/9000 [==============================] - 0s 23us/sample - loss: 15.3571 - accuracy: 0.3307 - val_loss: 15.3690 - val_accuracy: 0.3347\n",
      "Epoch 12/12\n",
      "9000/9000 [==============================] - 0s 22us/sample - loss: 15.3571 - accuracy: 0.3307 - val_loss: 15.3690 - val_accuracy: 0.3347\n",
      "WARNING:tensorflow:Falling back from v2 loop because of error: Failed to find data adapter that can handle input: <class 'pandas.core.frame.DataFrame'>, <class 'NoneType'>\n",
      "Test loss: 15.225906102498373\n",
      "Test accuracy: 0.34\n"
     ]
    }
   ],
   "source": [
    "model.fit(X_train_vect, y_train,\n",
    "          batch_size=batch_size,\n",
    "          epochs=epochs,\n",
    "          verbose=1,\n",
    "          validation_data=(X_val_vect, y_val))\n",
    "score = model.evaluate(X_test_vect, y_test, verbose=0)\n",
    "print('Test loss:', score[0])\n",
    "print('Test accuracy:', score[1])"
   ]
  },
  {
   "cell_type": "code",
   "execution_count": 46,
   "metadata": {},
   "outputs": [
    {
     "name": "stdout",
     "output_type": "stream",
     "text": [
      "[1]\n"
     ]
    }
   ],
   "source": [
    "x = [\"Fiscal 2019 was a year of transition for Walt Disney (NYSE:DIS). For one thing, Disney completed its acquisition of Twenty-First Century Fox around the middle of the fiscal year. The company also spent much of the year preparing for a shift in its business model toward a greater emphasis on direct-to-consumer entertainment -- particularly the Disney+ streaming service, which will launch in just a few days.These two developments have weighed on results in recent quarters. But the House of Mouse benefited from a strong film slate over the summer, helping it to post solid financial results in the final quarter of fiscal 2019.Earnings per share fall, but still beat expectationsDisney generated revenue of 19.1 billion last quarter -- up from $14.3 billion a year earlier -- mainly due to the Fox acquisition. Total segment operating income increased 5% to 3.4 billion, despite the company now booking Hulu's entire loss in its financial results after taking full control of the streaming service earlier this year.Outside of its segment results, Disney is experiencing severe earnings pressure, mainly from amortization expenses related to buying Fox and Hulu. Higher interest expense (from the debt it issued to fund the Fox deal), higher corporate overhead costs, and other one-time items also hurt earnings. Lastly, Disney's share count increased in conjunction with the Fox acquisition.As a result, EPS plunged 72% to 0.43 last quarter. On an adjusted basis -- excluding various one-time items -- EPS fell 28% year over year: from $1.48 to $1.07. That easily beat the average analyst estimate of 0.95. CFO Christine McCarthy also estimated that the dilution from buying Fox and Hulu reduced EPS by about $0.47. In other words, on a like-for-like basis, earnings grew for the core Disney business.\"]\n",
    "tfidfVectorizer = joblib.load('tfidfVectorizer.pkl')\n",
    "\n",
    "tfidf_train = tfidfVectorizer.transform(x)\n",
    "x = pd.DataFrame(tfidf_train.toarray())\n",
    "\n",
    "print(rf_model.predict(x))"
   ]
  },
  {
   "cell_type": "code",
   "execution_count": 47,
   "metadata": {},
   "outputs": [
    {
     "name": "stdout",
     "output_type": "stream",
     "text": [
      "[1]\n"
     ]
    }
   ],
   "source": [
    "s = '''\n",
    "IRVING, Texas and DANBURY, Conn., Nov. 06, 2019 (GLOBE NEWSWIRE) -- ExxonMobil and FuelCell Energy, Inc. said today they have signed a new, two-year expanded joint-development agreement to further enhance carbonate fuel cell technology for the purpose of capturing carbon dioxide from industrial facilities.\n",
    "\n",
    "The agreement, worth up to $60 million, will focus efforts on optimizing the core technology, overall process integration and large-scale deployment of carbon capture solutions. ExxonMobil is exploring options to conduct a pilot test of next-generation fuel cell carbon capture solution at one of its operating sites.  \n",
    "\n",
    "“ExxonMobil is working to advance carbon capture technologies while reducing costs and enhancing scalability,” said Vijay Swarup, vice president of research and development for ExxonMobil Research and Engineering Company. “This expanded agreement with FuelCell Energy will enable further progress on this unique carbon capture solution that has the potential to achieve meaningful reductions of carbon dioxide emissions from industrial operations.”\n",
    "\n",
    "FuelCell Energy’s proprietary technology uses carbonate fuel cells to efficiently capture and concentrate carbon dioxide streams from large industrial sources. Combustion exhaust is directed to the fuel cell, which produces power while capturing and concentrating carbon dioxide for permanent storage.\n",
    "\n",
    "The modular design enables the technology to be deployed at a wide range of locations, which could lead to a more cost-efficient path for large-scale deployment of carbon capture and sequestration.\n",
    "\n",
    "“Today’s announcement underscores our leadership position in fuel cell technology,” said Jason Few, president and chief executive officer of FuelCell Energy. “We are excited to continue to work with ExxonMobil to tackle one of the biggest challenges that exists today. We have a great opportunity to scale and commercialize our unique carbon capture solution, one that captures about 90 percent of carbon dioxide from various exhaust streams, while generating additional power, unlike traditional carbon capture technologies which consume significant power.\"\n",
    "\n",
    "“FuelCell Energy has always been proud of our technology and our role in reshaping the environmental impact of industry and electrical generation. This is another giant step forward towards the large-scale deployment of this much needed technology.”\n",
    "\n",
    "ExxonMobil and FuelCell Energy began working together in 2016 with a focus on better understanding the fundamental science behind carbonate fuel cells and how to increase efficiency in separating and concentrating carbon dioxide from the exhaust of natural gas-fueled power generation. The new and expanded agreement will prioritize the optimization of the core carbon capture technology for integration into large-scale industrial facilities such as refineries and chemical plants.\n",
    "\n",
    "ExxonMobil engineers and scientists have researched, developed and applied technologies that could play a role in the widespread deployment of carbon capture and storage for more than 30 years. The company has a working interest in approximately one-fifth of the world’s total carbon capture capacity, and has captured about 7 million tonnes per year of carbon dioxide. ExxonMobil has captured more carbon dioxide than any other company.\n",
    "'''\n",
    "\n",
    "x = [s]\n",
    "tfidfVectorizer = joblib.load('tfidfVectorizer.pkl')\n",
    "\n",
    "tfidf_train = tfidfVectorizer.transform(x)\n",
    "x = pd.DataFrame(tfidf_train.toarray())\n",
    "\n",
    "print(rf_model.predict(x))"
   ]
  },
  {
   "cell_type": "code",
   "execution_count": 48,
   "metadata": {},
   "outputs": [
    {
     "name": "stdout",
     "output_type": "stream",
     "text": [
      "[-1]\n"
     ]
    }
   ],
   "source": [
    "s = '''\n",
    "WINTER HAVEN, Fla. (AP) — Authorities in central Florida say two Disney workers and a former assistant principal at a middle school were among 17 arrested in a child porn sting.\n",
    "\n",
    "In a news release , Polk County Sheriff Grady Judd said Friday that the 17 men arrested range in age from 19 to 77.\n",
    "\n",
    "Authorities say 52-year-old Walt Disney World Resorts janitor Donald Durr of Davenport had images of child porn on an electronic tablet.\n",
    "\n",
    "Investigators say 40-year-old Brett Kinney of Lake Alfred told officers he had an addiction to child pornography and worked as a guest experience manager at Disney World.\n",
    "\n",
    "In a statement, Disney says Kinney is no longer employed by the company and Durr is on unpaid leave.\n",
    "\n",
    "It’s unclear if either has an attorney who could comment on the charges.\n",
    "\n",
    "___\n",
    "\n",
    "Information from: The Ledger (Lakeland, Fla.), http://www.theledger.com\n",
    "\n",
    "The Associated Press'''\n",
    "\n",
    "x = [s]\n",
    "tfidfVectorizer = joblib.load('tfidfVectorizer.pkl')\n",
    "\n",
    "tfidf_train = tfidfVectorizer.transform(x)\n",
    "x = pd.DataFrame(tfidf_train.toarray())\n",
    "\n",
    "print(rf_model.predict(x))"
   ]
  },
  {
   "cell_type": "code",
   "execution_count": 51,
   "metadata": {},
   "outputs": [
    {
     "name": "stdout",
     "output_type": "stream",
     "text": [
      "[0]\n"
     ]
    }
   ],
   "source": [
    "s = '''\n",
    "THis is just some random text I want to test\n",
    "'''\n",
    "\n",
    "x = [s]\n",
    "tfidfVectorizer = joblib.load('tfidfVectorizer.pkl')\n",
    "\n",
    "tfidf_train = tfidfVectorizer.transform(x)\n",
    "x = pd.DataFrame(tfidf_train.toarray())\n",
    "\n",
    "print(rf_model.predict(x))"
   ]
  },
  {
   "cell_type": "code",
   "execution_count": null,
   "metadata": {},
   "outputs": [],
   "source": [
    "import pickle \n",
    "\n",
    "pkl_filename = \"rf_model.pkl\"\n",
    "with open(pkl_filename, 'wb') as file:\n",
    "    pickle.dump(rf_model, file)"
   ]
  }
 ],
 "metadata": {
  "kernelspec": {
   "display_name": "NLP",
   "language": "python",
   "name": "nlp"
  },
  "language_info": {
   "codemirror_mode": {
    "name": "ipython",
    "version": 3
   },
   "file_extension": ".py",
   "mimetype": "text/x-python",
   "name": "python",
   "nbconvert_exporter": "python",
   "pygments_lexer": "ipython3",
   "version": "3.7.2"
  }
 },
 "nbformat": 4,
 "nbformat_minor": 2
}
