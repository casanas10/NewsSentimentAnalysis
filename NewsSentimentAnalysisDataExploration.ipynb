{
 "cells": [
  {
   "cell_type": "code",
   "execution_count": 1,
   "metadata": {
    "pycharm": {
     "is_executing": false
    }
   },
   "outputs": [],
   "source": [
    "#Imports\n",
    "import pandas as pd\n",
    "import numpy as np\n",
    "\n",
    "import requests\n",
    "from bs4 import BeautifulSoup\n",
    "import sys"
   ]
  },
  {
   "cell_type": "code",
   "execution_count": 2,
   "metadata": {
    "pycharm": {
     "is_executing": false
    }
   },
   "outputs": [],
   "source": [
    "def get_news_data(url):\n",
    "    req = requests.get(url)\n",
    "    soup = BeautifulSoup(req.text, features=\"html\")\n",
    "\n",
    "    headline = soup.find('title').text.strip()\n",
    "    text = soup.find(\"div\", {\"class\": \"StandardArticleBody_body\"}).text\n",
    "    date = soup.find(\"div\", {\"class\": \"ArticleHeader_date\"}).text\n",
    "\n",
    "    return text, headline, date"
   ]
  },
  {
   "cell_type": "code",
   "execution_count": 8,
   "metadata": {
    "pycharm": {
     "is_executing": false
    }
   },
   "outputs": [
    {
     "name": "stdout",
     "text": [
      "http://www.reuters.com/article/2013/08/04/us-economy-asia-exports-idUSBRE9730BF20130804\n",
      "200\n",
      "http://www.reuters.com/article/2013/08/04/us-natixis-idUSBRE97304T20130804\n500\nhttp://www.reuters.com/article/2013/08/04/us-vodafone-telecomitalia-damages-idUSBRE97303L20130804\n",
      "200\n",
      "http://www.reuters.com/article/2013/08/04/us-china-economy-yuan-idUSBRE9730B220130804\n",
      "200\n",
      "http://www.reuters.com/article/2013/08/04/us-economy-global-weekahead-idUSBRE97308O20130804\n",
      "500\nhttp://www.reuters.com/article/2013/08/04/us-investing-wealth-millennials-idUSBRE97305P20130804\n",
      "200\n",
      "http://www.reuters.com/article/2013/08/04/us-usa-apple-patents-idUSBRE9720AQ20130804\n",
      "200\n",
      "http://www.reuters.com/article/2013/08/04/us-investing-wealth-millennials-idUSBRE97305N20130804\n",
      "200\n",
      "http://www.reuters.com/article/2013/08/04/us-timewarner-cbs-blackout-idUSBRE97309G20130804\n",
      "200\n",
      "http://www.reuters.com/article/2013/08/04/us-vietnam-consumers-idUSBRE9730BD20130804\n",
      "200\n",
      "http://www.reuters.com/article/2013/08/04/us-bulgaria-pensionfund-insight-idUSBRE97302X20130804\n",
      "200\n",
      "http://www.reuters.com/article/2013/08/04/us-lloyds-dividends-idUSBRE9730CW20130804\n",
      "200\n",
      "http://www.reuters.com/article/2013/08/04/us-lme-warehousing-idUSBRE97305L20130804\n",
      "200\n",
      "http://www.reuters.com/article/2013/08/04/us-sec-goldman-tourre-idUSBRE96G19720130804\n",
      "200\n",
      "http://www.reuters.com/article/2013/08/04/us-usa-retail-online-analysis-idUSBRE97304H20130804\n",
      "200\n",
      "http://www.reuters.com/article/2013/08/04/us-trimtabs-equity-idUSBRE9730BM20130804\n",
      "500\nhttp://www.reuters.com/article/2013/08/04/us-siemens-insight-idUSBRE97305X20130804\n",
      "200\n",
      "http://www.reuters.com/article/2013/08/04/us-hsbc-results-idUSBRE9730DA20130804\n",
      "200\n",
      "http://www.reuters.com/article/2013/08/04/us-isuzu-gm-engines-idUSBRE97301A20130804\n",
      "200\n",
      "http://www.reuters.com/article/2013/08/04/us-daimler-brazil-idUSBRE97304720130804\n",
      "200\n"
     ],
     "output_type": "stream"
    }
   ],
   "source": [
    "import os,glob\n",
    "import re\n",
    "import time\n",
    "\n",
    "folder_path = 'd_test/ReutersNews106521'\n",
    "\n",
    "# Load the dataset\n",
    "dates = []\n",
    "headlines = []\n",
    "articles = []\n",
    "\n",
    "urls = []\n",
    "\n",
    "for folder_name in glob.glob(os.path.join(folder_path, '*')):\n",
    "    for filename in glob.glob(os.path.join(folder_name, '*')):\n",
    "        \n",
    "        try :\n",
    "            with open(filename, 'r') as f:\n",
    "                text = f.read()\n",
    "                url = re.findall(\"http*://.+\", text)\n",
    "                urls.append(url[0])\n",
    "        except:\n",
    "            pass\n",
    "\n",
    "for u in urls:\n",
    "    try:\n",
    "        text, headline, date = get_news_data(u)\n",
    "        dates.append(date)\n",
    "        headlines.append(headline)\n",
    "        articles.append(text)\n",
    "        time.sleep(2)\n",
    "    except:\n",
    "        print('Failed to get news data for ' + u)\n",
    "        pass"
   ]
  },
  {
   "cell_type": "code",
   "execution_count": 12,
   "metadata": {
    "pycharm": {
     "is_executing": false
    }
   },
   "outputs": [
    {
     "name": "stdout",
     "text": [
      "(17,)\n(17,)\n(17,)\n"
     ],
     "output_type": "stream"
    }
   ],
   "source": [
    "# #Converting to np.array\n",
    "date_array = np.array(dates)\n",
    "headline_array = np.array(headlines)\n",
    "text_array = np.array(articles)\n",
    "\n",
    "print (date_array.shape)\n",
    "print (headline_array.shape)\n",
    "print (text_array.shape)    "
   ]
  },
  {
   "cell_type": "code",
   "execution_count": 13,
   "metadata": {
    "pycharm": {
     "is_executing": false
    }
   },
   "outputs": [
    {
     "data": {
      "text/plain": "                                       date  \\\n0   August 4, 2013 /  9:20 PM / 6 years ago   \n1  August 4, 2013 /  10:37 AM / 6 years ago   \n2   August 4, 2013 /  9:24 PM / 6 years ago   \n3   August 4, 2013 /  2:05 PM / 6 years ago   \n4   August 4, 2013 /  2:25 AM / 6 years ago   \n\n                                            headline  \\\n0  Asia's exports stutter, missing out on U.S. re...   \n1  Vodafone sues Telecom Italia for one billion e...   \n2  Insight: China turf war over yuan reform rattl...   \n3  What student debt? How the other millennials t...   \n4  Obama administration overturns ban on some iPa...   \n\n                                                text  \n0  HONG KONG (Reuters) - The U.S. economy may hav...  \n1  The Vodafone logo is seen at the counter of th...  \n2  SHANGHAI (Reuters) - Multinational companies i...  \n3  NEW YORK (Reuters) - When Josh McFarland gradu...  \n4  WASHINGTON (Reuters) - The Obama administratio...  ",
      "text/html": "<div>\n<style scoped>\n    .dataframe tbody tr th:only-of-type {\n        vertical-align: middle;\n    }\n\n    .dataframe tbody tr th {\n        vertical-align: top;\n    }\n\n    .dataframe thead th {\n        text-align: right;\n    }\n</style>\n<table border=\"1\" class=\"dataframe\">\n  <thead>\n    <tr style=\"text-align: right;\">\n      <th></th>\n      <th>date</th>\n      <th>headline</th>\n      <th>text</th>\n    </tr>\n  </thead>\n  <tbody>\n    <tr>\n      <th>0</th>\n      <td>August 4, 2013 /  9:20 PM / 6 years ago</td>\n      <td>Asia's exports stutter, missing out on U.S. re...</td>\n      <td>HONG KONG (Reuters) - The U.S. economy may hav...</td>\n    </tr>\n    <tr>\n      <th>1</th>\n      <td>August 4, 2013 /  10:37 AM / 6 years ago</td>\n      <td>Vodafone sues Telecom Italia for one billion e...</td>\n      <td>The Vodafone logo is seen at the counter of th...</td>\n    </tr>\n    <tr>\n      <th>2</th>\n      <td>August 4, 2013 /  9:24 PM / 6 years ago</td>\n      <td>Insight: China turf war over yuan reform rattl...</td>\n      <td>SHANGHAI (Reuters) - Multinational companies i...</td>\n    </tr>\n    <tr>\n      <th>3</th>\n      <td>August 4, 2013 /  2:05 PM / 6 years ago</td>\n      <td>What student debt? How the other millennials t...</td>\n      <td>NEW YORK (Reuters) - When Josh McFarland gradu...</td>\n    </tr>\n    <tr>\n      <th>4</th>\n      <td>August 4, 2013 /  2:25 AM / 6 years ago</td>\n      <td>Obama administration overturns ban on some iPa...</td>\n      <td>WASHINGTON (Reuters) - The Obama administratio...</td>\n    </tr>\n  </tbody>\n</table>\n</div>"
     },
     "metadata": {},
     "output_type": "execute_result",
     "execution_count": 13
    }
   ],
   "source": [
    "full_corpus = pd.DataFrame({\n",
    "    'date': date_array,\n",
    "    'headline': headline_array,\n",
    "    'text': text_array\n",
    "})\n",
    "\n",
    "full_corpus.head()"
   ]
  },
  {
   "cell_type": "code",
   "execution_count": null,
   "metadata": {},
   "outputs": [],
   "source": []
  }
 ],
 "metadata": {
  "kernelspec": {
   "display_name": "Python 3",
   "language": "python",
   "name": "python3"
  },
  "language_info": {
   "codemirror_mode": {
    "name": "ipython",
    "version": 3
   },
   "file_extension": ".py",
   "mimetype": "text/x-python",
   "name": "python",
   "nbconvert_exporter": "python",
   "pygments_lexer": "ipython3",
   "version": "3.7.2"
  },
  "pycharm": {
   "stem_cell": {
    "cell_type": "raw",
    "source": [],
    "metadata": {
     "collapsed": false
    }
   }
  }
 },
 "nbformat": 4,
 "nbformat_minor": 2
}