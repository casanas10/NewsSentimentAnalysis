{
 "cells": [
  {
   "cell_type": "code",
   "execution_count": 1,
   "metadata": {},
   "outputs": [],
   "source": [
    "import os\n",
    "import pandas as pd\n",
    "import nltk\n",
    "pd.set_option('display.max_colwidth', 200) # set max number of characters can see in pd dataframe"
   ]
  },
  {
   "cell_type": "code",
   "execution_count": 2,
   "metadata": {},
   "outputs": [
    {
     "data": {
      "text/html": [
       "<div>\n",
       "<style scoped>\n",
       "    .dataframe tbody tr th:only-of-type {\n",
       "        vertical-align: middle;\n",
       "    }\n",
       "\n",
       "    .dataframe tbody tr th {\n",
       "        vertical-align: top;\n",
       "    }\n",
       "\n",
       "    .dataframe thead th {\n",
       "        text-align: right;\n",
       "    }\n",
       "</style>\n",
       "<table border=\"1\" class=\"dataframe\">\n",
       "  <thead>\n",
       "    <tr style=\"text-align: right;\">\n",
       "      <th></th>\n",
       "      <th>full_long_date_format</th>\n",
       "      <th>headline</th>\n",
       "      <th>text</th>\n",
       "      <th>url</th>\n",
       "    </tr>\n",
       "  </thead>\n",
       "  <tbody>\n",
       "    <tr>\n",
       "      <th>38</th>\n",
       "      <td>Fri Apr 5, 2013 3:52pm EDT</td>\n",
       "      <td>Hedge fund manager Ackman says mistakes made in JCPenney turnaround</td>\n",
       "      <td>BOSTON  (Reuters) - Hedge fund manager William Ackman said that Ron Johnson, the chief executive he handpicked to turn around JC Penney, has made \"big mistakes\" and the impact on the struggling r...</td>\n",
       "      <td>http://www.reuters.com/article/2013/04/05/us-hedgefunds-ackman-jcpenney-idUSBRE9340MS20130405</td>\n",
       "    </tr>\n",
       "    <tr>\n",
       "      <th>155</th>\n",
       "      <td>Tue Nov 13, 2012 4:41am EST</td>\n",
       "      <td>Microsoft and Google financials could surface at trial</td>\n",
       "      <td>(Reuters) - Microsoft and Google's Motorola Mobility unit are set to square off on Tuesday at a trial with strategic implications for the smartphone patent wars and which could reveal financial i...</td>\n",
       "      <td>http://www.reuters.com/article/2012/11/13/us-microsoft-google-trial-idUSBRE8AC08920121113</td>\n",
       "    </tr>\n",
       "    <tr>\n",
       "      <th>189</th>\n",
       "      <td>Tue Nov 13, 2012 8:32am EST</td>\n",
       "      <td>Microsoft's Windows head, once a possible CEO, exits</td>\n",
       "      <td>SEATTLE  (Reuters) - The executive most widely tipped to be the next chief executive of Microsoft Corp has left the world's largest software maker barely two weeks after launching the flagship Wi...</td>\n",
       "      <td>http://www.reuters.com/article/2012/11/13/us-microsoft-windows-sinofsky-idUSBRE8AC02Z20121113</td>\n",
       "    </tr>\n",
       "    <tr>\n",
       "      <th>283</th>\n",
       "      <td>Tue Feb 7, 2012 5:33pm EST</td>\n",
       "      <td>Wall St edges up in quiet day; Disney down late</td>\n",
       "      <td>NEW YORK  (Reuters) - Stock index futures pointed to a slightly higher open for equities on Wall Street on Wednesday, with futures for the S&amp;P 500, the Dow Jones and the Nasdaq 100 rising 0.2 to ...</td>\n",
       "      <td>http://www.reuters.com/article/2012/02/07/us-markets-stocks-idUSTRE80T0J120120207</td>\n",
       "    </tr>\n",
       "    <tr>\n",
       "      <th>432</th>\n",
       "      <td>Mon Jun 9, 2008 9:28pm EDT</td>\n",
       "      <td>iPhone to cut into AT&amp;T earnings until 2010</td>\n",
       "      <td>NEW YORK  (Reuters) - AT&amp;T Inc will suffer lower earnings this year and next year as it plans to subsidize the price of the latest iPhone from Apple Inc in a bet it can help it boost data service...</td>\n",
       "      <td>http://www.reuters.com/article/2008/06/10/us-apple-iphone-att-idUSN0926011020080610</td>\n",
       "    </tr>\n",
       "  </tbody>\n",
       "</table>\n",
       "</div>"
      ],
      "text/plain": [
       "           full_long_date_format  \\\n",
       "38    Fri Apr 5, 2013 3:52pm EDT   \n",
       "155  Tue Nov 13, 2012 4:41am EST   \n",
       "189  Tue Nov 13, 2012 8:32am EST   \n",
       "283   Tue Feb 7, 2012 5:33pm EST   \n",
       "432   Mon Jun 9, 2008 9:28pm EDT   \n",
       "\n",
       "                                                                headline  \\\n",
       "38   Hedge fund manager Ackman says mistakes made in JCPenney turnaround   \n",
       "155               Microsoft and Google financials could surface at trial   \n",
       "189                 Microsoft's Windows head, once a possible CEO, exits   \n",
       "283                      Wall St edges up in quiet day; Disney down late   \n",
       "432                          iPhone to cut into AT&T earnings until 2010   \n",
       "\n",
       "                                                                                                                                                                                                        text  \\\n",
       "38    BOSTON  (Reuters) - Hedge fund manager William Ackman said that Ron Johnson, the chief executive he handpicked to turn around JC Penney, has made \"big mistakes\" and the impact on the struggling r...   \n",
       "155   (Reuters) - Microsoft and Google's Motorola Mobility unit are set to square off on Tuesday at a trial with strategic implications for the smartphone patent wars and which could reveal financial i...   \n",
       "189   SEATTLE  (Reuters) - The executive most widely tipped to be the next chief executive of Microsoft Corp has left the world's largest software maker barely two weeks after launching the flagship Wi...   \n",
       "283   NEW YORK  (Reuters) - Stock index futures pointed to a slightly higher open for equities on Wall Street on Wednesday, with futures for the S&P 500, the Dow Jones and the Nasdaq 100 rising 0.2 to ...   \n",
       "432   NEW YORK  (Reuters) - AT&T Inc will suffer lower earnings this year and next year as it plans to subsidize the price of the latest iPhone from Apple Inc in a bet it can help it boost data service...   \n",
       "\n",
       "                                                                                               url  \n",
       "38   http://www.reuters.com/article/2013/04/05/us-hedgefunds-ackman-jcpenney-idUSBRE9340MS20130405  \n",
       "155      http://www.reuters.com/article/2012/11/13/us-microsoft-google-trial-idUSBRE8AC08920121113  \n",
       "189  http://www.reuters.com/article/2012/11/13/us-microsoft-windows-sinofsky-idUSBRE8AC02Z20121113  \n",
       "283              http://www.reuters.com/article/2012/02/07/us-markets-stocks-idUSTRE80T0J120120207  \n",
       "432            http://www.reuters.com/article/2008/06/10/us-apple-iphone-att-idUSN0926011020080610  "
      ]
     },
     "execution_count": 2,
     "metadata": {},
     "output_type": "execute_result"
    }
   ],
   "source": [
    "apple_news_df = pd.read_pickle(\"./data/apple_news.pkl\")\n",
    "apple_news_df = apple_news_df.rename(columns={\"date\": \"full_long_date_format\"})\n",
    "apple_news_df.head()"
   ]
  },
  {
   "cell_type": "code",
   "execution_count": 3,
   "metadata": {},
   "outputs": [
    {
     "data": {
      "text/plain": [
       "['Apr', '5', '2013', '3:52pm']"
      ]
     },
     "execution_count": 3,
     "metadata": {},
     "output_type": "execute_result"
    }
   ],
   "source": [
    "from time import strptime\n",
    "from datetime import datetime\n",
    "\n",
    "s = \"Fri Apr 5, 2013 3:52pm EDT\"\n",
    "s = s.replace(',', '')\n",
    "\n",
    "date = s.split()[1:5]\n",
    "month = strptime(date[0],'%b').tm_mon\n",
    "\n",
    "date"
   ]
  },
  {
   "cell_type": "code",
   "execution_count": 4,
   "metadata": {},
   "outputs": [
    {
     "data": {
      "text/plain": [
       "'2013-04-05'"
      ]
     },
     "execution_count": 4,
     "metadata": {},
     "output_type": "execute_result"
    }
   ],
   "source": [
    "x = datetime(int(date[2]), int(month), int(date[1]))\n",
    "date_format = x.strftime(\"%Y-%m-%d\")\n",
    "date_format"
   ]
  },
  {
   "cell_type": "code",
   "execution_count": 5,
   "metadata": {},
   "outputs": [],
   "source": [
    "def cleanup_date_format(x):\n",
    "    x = x.replace(',', '')\n",
    "    date = x.split()[1:5]\n",
    "    month = strptime(date[0],'%b').tm_mon\n",
    "    x = datetime(int(date[2]), int(month), int(date[1]))\n",
    "    date_format = x.strftime(\"%Y-%m-%d\")\n",
    "    return date_format"
   ]
  },
  {
   "cell_type": "code",
   "execution_count": 6,
   "metadata": {},
   "outputs": [
    {
     "data": {
      "text/html": [
       "<div>\n",
       "<style scoped>\n",
       "    .dataframe tbody tr th:only-of-type {\n",
       "        vertical-align: middle;\n",
       "    }\n",
       "\n",
       "    .dataframe tbody tr th {\n",
       "        vertical-align: top;\n",
       "    }\n",
       "\n",
       "    .dataframe thead th {\n",
       "        text-align: right;\n",
       "    }\n",
       "</style>\n",
       "<table border=\"1\" class=\"dataframe\">\n",
       "  <thead>\n",
       "    <tr style=\"text-align: right;\">\n",
       "      <th></th>\n",
       "      <th>headline</th>\n",
       "      <th>text</th>\n",
       "    </tr>\n",
       "    <tr>\n",
       "      <th>Date</th>\n",
       "      <th></th>\n",
       "      <th></th>\n",
       "    </tr>\n",
       "  </thead>\n",
       "  <tbody>\n",
       "    <tr>\n",
       "      <th>2013-04-05</th>\n",
       "      <td>Hedge fund manager Ackman says mistakes made in JCPenney turnaround</td>\n",
       "      <td>BOSTON  (Reuters) - Hedge fund manager William Ackman said that Ron Johnson, the chief executive he handpicked to turn around JC Penney, has made \"big mistakes\" and the impact on the struggling r...</td>\n",
       "    </tr>\n",
       "    <tr>\n",
       "      <th>2012-11-13</th>\n",
       "      <td>Microsoft and Google financials could surface at trial</td>\n",
       "      <td>(Reuters) - Microsoft and Google's Motorola Mobility unit are set to square off on Tuesday at a trial with strategic implications for the smartphone patent wars and which could reveal financial i...</td>\n",
       "    </tr>\n",
       "    <tr>\n",
       "      <th>2012-11-13</th>\n",
       "      <td>Microsoft's Windows head, once a possible CEO, exits</td>\n",
       "      <td>SEATTLE  (Reuters) - The executive most widely tipped to be the next chief executive of Microsoft Corp has left the world's largest software maker barely two weeks after launching the flagship Wi...</td>\n",
       "    </tr>\n",
       "    <tr>\n",
       "      <th>2012-02-07</th>\n",
       "      <td>Wall St edges up in quiet day; Disney down late</td>\n",
       "      <td>NEW YORK  (Reuters) - Stock index futures pointed to a slightly higher open for equities on Wall Street on Wednesday, with futures for the S&amp;P 500, the Dow Jones and the Nasdaq 100 rising 0.2 to ...</td>\n",
       "    </tr>\n",
       "    <tr>\n",
       "      <th>2008-06-09</th>\n",
       "      <td>iPhone to cut into AT&amp;T earnings until 2010</td>\n",
       "      <td>NEW YORK  (Reuters) - AT&amp;T Inc will suffer lower earnings this year and next year as it plans to subsidize the price of the latest iPhone from Apple Inc in a bet it can help it boost data service...</td>\n",
       "    </tr>\n",
       "  </tbody>\n",
       "</table>\n",
       "</div>"
      ],
      "text/plain": [
       "                                                                       headline  \\\n",
       "Date                                                                              \n",
       "2013-04-05  Hedge fund manager Ackman says mistakes made in JCPenney turnaround   \n",
       "2012-11-13               Microsoft and Google financials could surface at trial   \n",
       "2012-11-13                 Microsoft's Windows head, once a possible CEO, exits   \n",
       "2012-02-07                      Wall St edges up in quiet day; Disney down late   \n",
       "2008-06-09                          iPhone to cut into AT&T earnings until 2010   \n",
       "\n",
       "                                                                                                                                                                                                               text  \n",
       "Date                                                                                                                                                                                                                 \n",
       "2013-04-05   BOSTON  (Reuters) - Hedge fund manager William Ackman said that Ron Johnson, the chief executive he handpicked to turn around JC Penney, has made \"big mistakes\" and the impact on the struggling r...  \n",
       "2012-11-13   (Reuters) - Microsoft and Google's Motorola Mobility unit are set to square off on Tuesday at a trial with strategic implications for the smartphone patent wars and which could reveal financial i...  \n",
       "2012-11-13   SEATTLE  (Reuters) - The executive most widely tipped to be the next chief executive of Microsoft Corp has left the world's largest software maker barely two weeks after launching the flagship Wi...  \n",
       "2012-02-07   NEW YORK  (Reuters) - Stock index futures pointed to a slightly higher open for equities on Wall Street on Wednesday, with futures for the S&P 500, the Dow Jones and the Nasdaq 100 rising 0.2 to ...  \n",
       "2008-06-09   NEW YORK  (Reuters) - AT&T Inc will suffer lower earnings this year and next year as it plans to subsidize the price of the latest iPhone from Apple Inc in a bet it can help it boost data service...  "
      ]
     },
     "execution_count": 6,
     "metadata": {},
     "output_type": "execute_result"
    }
   ],
   "source": [
    "apple_news_df['Date'] = apple_news_df['full_long_date_format'].apply(lambda x: cleanup_date_format(x))\n",
    "apple_news_df = apple_news_df.drop(columns=[\"url\", \"full_long_date_format\"])\n",
    "apple_news_df = apple_news_df.set_index('Date') # set date as index of the dataframe\n",
    "apple_news_df.head()"
   ]
  },
  {
   "cell_type": "code",
   "execution_count": 7,
   "metadata": {},
   "outputs": [
    {
     "data": {
      "text/html": [
       "<div>\n",
       "<style scoped>\n",
       "    .dataframe tbody tr th:only-of-type {\n",
       "        vertical-align: middle;\n",
       "    }\n",
       "\n",
       "    .dataframe tbody tr th {\n",
       "        vertical-align: top;\n",
       "    }\n",
       "\n",
       "    .dataframe thead th {\n",
       "        text-align: right;\n",
       "    }\n",
       "</style>\n",
       "<table border=\"1\" class=\"dataframe\">\n",
       "  <thead>\n",
       "    <tr style=\"text-align: right;\">\n",
       "      <th></th>\n",
       "      <th>Open</th>\n",
       "      <th>High</th>\n",
       "      <th>Low</th>\n",
       "      <th>Close</th>\n",
       "      <th>Volume</th>\n",
       "      <th>Adj Close</th>\n",
       "    </tr>\n",
       "    <tr>\n",
       "      <th>Date</th>\n",
       "      <th></th>\n",
       "      <th></th>\n",
       "      <th></th>\n",
       "      <th></th>\n",
       "      <th></th>\n",
       "      <th></th>\n",
       "    </tr>\n",
       "  </thead>\n",
       "  <tbody>\n",
       "    <tr>\n",
       "      <th>2012-09-12</th>\n",
       "      <td>666.85</td>\n",
       "      <td>669.90</td>\n",
       "      <td>656.00</td>\n",
       "      <td>669.79</td>\n",
       "      <td>25410600</td>\n",
       "      <td>669.79</td>\n",
       "    </tr>\n",
       "    <tr>\n",
       "      <th>2012-09-11</th>\n",
       "      <td>665.11</td>\n",
       "      <td>670.10</td>\n",
       "      <td>656.50</td>\n",
       "      <td>660.59</td>\n",
       "      <td>17987400</td>\n",
       "      <td>660.59</td>\n",
       "    </tr>\n",
       "    <tr>\n",
       "      <th>2012-09-10</th>\n",
       "      <td>680.45</td>\n",
       "      <td>683.29</td>\n",
       "      <td>662.10</td>\n",
       "      <td>662.74</td>\n",
       "      <td>17428500</td>\n",
       "      <td>662.74</td>\n",
       "    </tr>\n",
       "    <tr>\n",
       "      <th>2012-09-07</th>\n",
       "      <td>678.05</td>\n",
       "      <td>682.48</td>\n",
       "      <td>675.77</td>\n",
       "      <td>680.44</td>\n",
       "      <td>11773800</td>\n",
       "      <td>680.44</td>\n",
       "    </tr>\n",
       "    <tr>\n",
       "      <th>2012-09-06</th>\n",
       "      <td>673.17</td>\n",
       "      <td>678.29</td>\n",
       "      <td>670.80</td>\n",
       "      <td>676.27</td>\n",
       "      <td>13971300</td>\n",
       "      <td>676.27</td>\n",
       "    </tr>\n",
       "  </tbody>\n",
       "</table>\n",
       "</div>"
      ],
      "text/plain": [
       "              Open    High     Low   Close    Volume  Adj Close\n",
       "Date                                                           \n",
       "2012-09-12  666.85  669.90  656.00  669.79  25410600     669.79\n",
       "2012-09-11  665.11  670.10  656.50  660.59  17987400     660.59\n",
       "2012-09-10  680.45  683.29  662.10  662.74  17428500     662.74\n",
       "2012-09-07  678.05  682.48  675.77  680.44  11773800     680.44\n",
       "2012-09-06  673.17  678.29  670.80  676.27  13971300     676.27"
      ]
     },
     "execution_count": 7,
     "metadata": {},
     "output_type": "execute_result"
    }
   ],
   "source": [
    "apple_OHLCV = pd.read_csv('data/AAPL.csv') \n",
    "apple_OHLCV = apple_OHLCV.set_index('Date') # set date as index of the dataframe\n",
    "apple_OHLCV.head()"
   ]
  },
  {
   "cell_type": "code",
   "execution_count": 8,
   "metadata": {},
   "outputs": [
    {
     "name": "stderr",
     "output_type": "stream",
     "text": [
      "/Users/alex/Desktop/NLP/NewsSentimentAnalysis/env/lib/python3.7/site-packages/ipykernel_launcher.py:12: FutureWarning: set_value is deprecated and will be removed in a future release. Please use .at[] or .iat[] accessors instead\n",
      "  if sys.path[0] == '':\n"
     ]
    },
    {
     "data": {
      "text/html": [
       "<div>\n",
       "<style scoped>\n",
       "    .dataframe tbody tr th:only-of-type {\n",
       "        vertical-align: middle;\n",
       "    }\n",
       "\n",
       "    .dataframe tbody tr th {\n",
       "        vertical-align: top;\n",
       "    }\n",
       "\n",
       "    .dataframe thead th {\n",
       "        text-align: right;\n",
       "    }\n",
       "</style>\n",
       "<table border=\"1\" class=\"dataframe\">\n",
       "  <thead>\n",
       "    <tr style=\"text-align: right;\">\n",
       "      <th></th>\n",
       "      <th>headline</th>\n",
       "      <th>text</th>\n",
       "      <th>label</th>\n",
       "    </tr>\n",
       "    <tr>\n",
       "      <th>Date</th>\n",
       "      <th></th>\n",
       "      <th></th>\n",
       "      <th></th>\n",
       "    </tr>\n",
       "  </thead>\n",
       "  <tbody>\n",
       "    <tr>\n",
       "      <th>2013-04-05</th>\n",
       "      <td>Hedge fund manager Ackman says mistakes made in JCPenney turnaround</td>\n",
       "      <td>BOSTON  (Reuters) - Hedge fund manager William Ackman said that Ron Johnson, the chief executive he handpicked to turn around JC Penney, has made \"big mistakes\" and the impact on the struggling r...</td>\n",
       "      <td>0</td>\n",
       "    </tr>\n",
       "    <tr>\n",
       "      <th>2012-11-13</th>\n",
       "      <td>Microsoft and Google financials could surface at trial</td>\n",
       "      <td>(Reuters) - Microsoft and Google's Motorola Mobility unit are set to square off on Tuesday at a trial with strategic implications for the smartphone patent wars and which could reveal financial i...</td>\n",
       "      <td>0</td>\n",
       "    </tr>\n",
       "    <tr>\n",
       "      <th>2012-11-13</th>\n",
       "      <td>Microsoft's Windows head, once a possible CEO, exits</td>\n",
       "      <td>SEATTLE  (Reuters) - The executive most widely tipped to be the next chief executive of Microsoft Corp has left the world's largest software maker barely two weeks after launching the flagship Wi...</td>\n",
       "      <td>0</td>\n",
       "    </tr>\n",
       "    <tr>\n",
       "      <th>2012-02-07</th>\n",
       "      <td>Wall St edges up in quiet day; Disney down late</td>\n",
       "      <td>NEW YORK  (Reuters) - Stock index futures pointed to a slightly higher open for equities on Wall Street on Wednesday, with futures for the S&amp;P 500, the Dow Jones and the Nasdaq 100 rising 0.2 to ...</td>\n",
       "      <td>1</td>\n",
       "    </tr>\n",
       "    <tr>\n",
       "      <th>2008-06-09</th>\n",
       "      <td>iPhone to cut into AT&amp;T earnings until 2010</td>\n",
       "      <td>NEW YORK  (Reuters) - AT&amp;T Inc will suffer lower earnings this year and next year as it plans to subsidize the price of the latest iPhone from Apple Inc in a bet it can help it boost data service...</td>\n",
       "      <td>0</td>\n",
       "    </tr>\n",
       "    <tr>\n",
       "      <th>2008-06-10</th>\n",
       "      <td>Verizon says FiOS buildout may exceed plans</td>\n",
       "      <td>NEW YORK  (Reuters) - Verizon Communication Inc ( VZ.N ) said on Tuesday it could build out its all-fiber Internet and video network to more than its target of 18 million homes by the end of 2010...</td>\n",
       "      <td>1</td>\n",
       "    </tr>\n",
       "    <tr>\n",
       "      <th>2008-06-09</th>\n",
       "      <td>Softbank to sell new iPhone from July; shares up</td>\n",
       "      <td>TOKYO  (Reuters) - Softbank Corp, Japan's third-biggest mobile phone operator, plans to start selling Apple Inc's new iPhone in Japan from July, an earlier launch date than expected and one that ...</td>\n",
       "      <td>0</td>\n",
       "    </tr>\n",
       "    <tr>\n",
       "      <th>2008-06-10</th>\n",
       "      <td>HP aims to transform market with touchy-feely PCs</td>\n",
       "      <td>BERLIN  (Reuters) - Hewlett-Packard, the world's biggest computer maker, launched a new generation of PCs on Tuesday that respond to users tapping or stroking the screen, potentially bringing use...</td>\n",
       "      <td>1</td>\n",
       "    </tr>\n",
       "    <tr>\n",
       "      <th>2008-06-10</th>\n",
       "      <td>Apple takes wraps off \"zippy\" iPhone</td>\n",
       "      <td>SAN FRANCISCO  (Reuters) - Apple Inc on Monday unveiled a next-generation iPhone with faster Internet access that will run on advanced wireless networks and sell for as low as $199 -- half the cu...</td>\n",
       "      <td>1</td>\n",
       "    </tr>\n",
       "    <tr>\n",
       "      <th>2011-08-01</th>\n",
       "      <td>Chinese retailers hijack the Ikea experience</td>\n",
       "      <td>KUNMING, China  (Reuters) - Nestled in a sleepy southern district of Kunming city in southwest China, is a 10,000 square meter, four-story building that could make Swedish furniture giant Ikea un...</td>\n",
       "      <td>0</td>\n",
       "    </tr>\n",
       "    <tr>\n",
       "      <th>2008-04-21</th>\n",
       "      <td>Dow, S&amp;P dip on bank worries, Texas Instruments off</td>\n",
       "      <td>NEW YORK  (Reuters) - U.S. stocks ebbed on Monday as weak quarterly results from Bank of America Corp rekindled concerns about the toll the credit crisis has taken on banks and overshadowed risin...</td>\n",
       "      <td>1</td>\n",
       "    </tr>\n",
       "    <tr>\n",
       "      <th>2008-04-22</th>\n",
       "      <td>Surging oil, disappointing outlooks hit Wall St.</td>\n",
       "      <td>NEW YORK  (Reuters) - Stocks sank on Tuesday as oil prices neared $120 a barrel and fed worries about inflation and consumer spending, while a series of disappointing profit outlooks made the moo...</td>\n",
       "      <td>0</td>\n",
       "    </tr>\n",
       "    <tr>\n",
       "      <th>2011-11-22</th>\n",
       "      <td>Whitman's top job: restore HP credibility, jumpstart growth</td>\n",
       "      <td>SAN FRANCISCO  (Reuters) - Hewlett Packard's new Chief Executive, Meg Whitman, passed her first test with investors, calming nerves and assuring Wall Street that the technology giant will be disc...</td>\n",
       "      <td>1</td>\n",
       "    </tr>\n",
       "    <tr>\n",
       "      <th>2011-11-23</th>\n",
       "      <td>Abercrombie &amp; Fitch preps for its holiday test</td>\n",
       "      <td>(Reuters) - When shoppers hit the stores on Black Friday, Abercrombie &amp; Fitch ( ANF.N ) will face its biggest test this year as the preppy clothing retailer tries to prove the value of its cachet...</td>\n",
       "      <td>0</td>\n",
       "    </tr>\n",
       "    <tr>\n",
       "      <th>2009-02-18</th>\n",
       "      <td>PC companies make risky smartphone call</td>\n",
       "      <td>TAIPEI  (Reuters) - Profit-hungry PC brands rushing to the booming smartphone sector are likely to falter in their ambitious plans to capture market share from formidable players such as Nokia an...</td>\n",
       "      <td>0</td>\n",
       "    </tr>\n",
       "    <tr>\n",
       "      <th>2010-06-07</th>\n",
       "      <td>Wall Street tumbles as Friday jobs data turns buyers off</td>\n",
       "      <td>NEW YORK  (Reuters) - Stocks fell on Monday, taking the S&amp;P 500 to its lowest close in seven months, as industrials and technology shares fell and investors stayed on their heels after last week'...</td>\n",
       "      <td>0</td>\n",
       "    </tr>\n",
       "    <tr>\n",
       "      <th>2010-06-07</th>\n",
       "      <td>Hon Hai shares tumble on new China wage rise</td>\n",
       "      <td>TAIPEI/HONG KONG  (Reuters) - Shares in Hon Hai Precision Industry ( 2317.TW ) tumbled on Monday on concerns about earnings after the electronics maker offered workers in southern China a second ...</td>\n",
       "      <td>0</td>\n",
       "    </tr>\n",
       "    <tr>\n",
       "      <th>2010-06-07</th>\n",
       "      <td>Netflix to launch Apple iPhone app this summer</td>\n",
       "      <td>SAN FRANCISCO  (Reuters) - DVD rental service Netflix Inc on Monday jumped on the iPhone wagon by announcing it would release a free application this summer for the popular Apple Inc handset. Net...</td>\n",
       "      <td>0</td>\n",
       "    </tr>\n",
       "    <tr>\n",
       "      <th>2010-06-07</th>\n",
       "      <td>Apple says over 35 million iPad apps downloaded</td>\n",
       "      <td>SAN FRANCISCO  (Reuters) - Users have downloaded more than 35 million applications for Apple Inc's iPad tablet computer, over 2 million of which have sold in the past two months. Chief Executive ...</td>\n",
       "      <td>0</td>\n",
       "    </tr>\n",
       "    <tr>\n",
       "      <th>2010-06-07</th>\n",
       "      <td>Instant view: Apple takes wraps off sleek new iPhone</td>\n",
       "      <td>NEW YORK  (Reuters) - Apple Inc, firing the latest salvo in the smartphone wars, rolled out a slim new version of its wildly popular iPhone on Monday. Apple's iPhone 4 lands as competition in the...</td>\n",
       "      <td>0</td>\n",
       "    </tr>\n",
       "    <tr>\n",
       "      <th>2010-06-07</th>\n",
       "      <td>Apple unveils iPhone 4 to fend off Google</td>\n",
       "      <td>SAN FRANCISCO  (Reuters) - Apple Inc's newest iPhone model goes on sale this month, as the company strives to stay a step ahead of a growing cast of rivals like Google Inc in the red-hot smartpho...</td>\n",
       "      <td>0</td>\n",
       "    </tr>\n",
       "    <tr>\n",
       "      <th>2012-11-14</th>\n",
       "      <td>Autos drag on retail sales, price pressure subdued</td>\n",
       "      <td>WASHINGTON  (Reuters) - Retail sales fell in October for the first time in three months as superstorm Sandy slammed the brakes on automobile purchases, suggesting spending lost momentum early in ...</td>\n",
       "      <td>0</td>\n",
       "    </tr>\n",
       "    <tr>\n",
       "      <th>2012-11-14</th>\n",
       "      <td>Retail sales sag on autos, wholesale prices subdued</td>\n",
       "      <td>WASHINGTON  (Reuters) - U.S. retail sales fell in October for the first time in three months as superstorm Sandy slammed the brakes on automobile purchases, suggesting a loss of momentum in spend...</td>\n",
       "      <td>0</td>\n",
       "    </tr>\n",
       "    <tr>\n",
       "      <th>2012-11-13</th>\n",
       "      <td>Microsoft and Google financials could surface at trial</td>\n",
       "      <td>(Reuters) - Microsoft and Google's Motorola Mobility unit squared off on Tuesday at a trial with strategic implications for the smartphone patent wars and which could reveal financial information...</td>\n",
       "      <td>0</td>\n",
       "    </tr>\n",
       "    <tr>\n",
       "      <th>2007-06-30</th>\n",
       "      <td>Apple iPhone buyers gush as iWait ends</td>\n",
       "      <td>(Reuters) - Apple Inc. began selling the iPhone, which combines a wireless phone with music- and video-playing capabilities and Web browsing, on Friday. Here are quotes from some of the first buy...</td>\n",
       "      <td>0</td>\n",
       "    </tr>\n",
       "  </tbody>\n",
       "</table>\n",
       "</div>"
      ],
      "text/plain": [
       "                                                                       headline  \\\n",
       "Date                                                                              \n",
       "2013-04-05  Hedge fund manager Ackman says mistakes made in JCPenney turnaround   \n",
       "2012-11-13               Microsoft and Google financials could surface at trial   \n",
       "2012-11-13                 Microsoft's Windows head, once a possible CEO, exits   \n",
       "2012-02-07                      Wall St edges up in quiet day; Disney down late   \n",
       "2008-06-09                          iPhone to cut into AT&T earnings until 2010   \n",
       "2008-06-10                          Verizon says FiOS buildout may exceed plans   \n",
       "2008-06-09                     Softbank to sell new iPhone from July; shares up   \n",
       "2008-06-10                    HP aims to transform market with touchy-feely PCs   \n",
       "2008-06-10                                 Apple takes wraps off \"zippy\" iPhone   \n",
       "2011-08-01                         Chinese retailers hijack the Ikea experience   \n",
       "2008-04-21                  Dow, S&P dip on bank worries, Texas Instruments off   \n",
       "2008-04-22                     Surging oil, disappointing outlooks hit Wall St.   \n",
       "2011-11-22          Whitman's top job: restore HP credibility, jumpstart growth   \n",
       "2011-11-23                       Abercrombie & Fitch preps for its holiday test   \n",
       "2009-02-18                              PC companies make risky smartphone call   \n",
       "2010-06-07             Wall Street tumbles as Friday jobs data turns buyers off   \n",
       "2010-06-07                         Hon Hai shares tumble on new China wage rise   \n",
       "2010-06-07                       Netflix to launch Apple iPhone app this summer   \n",
       "2010-06-07                      Apple says over 35 million iPad apps downloaded   \n",
       "2010-06-07                 Instant view: Apple takes wraps off sleek new iPhone   \n",
       "2010-06-07                            Apple unveils iPhone 4 to fend off Google   \n",
       "2012-11-14                   Autos drag on retail sales, price pressure subdued   \n",
       "2012-11-14                  Retail sales sag on autos, wholesale prices subdued   \n",
       "2012-11-13               Microsoft and Google financials could surface at trial   \n",
       "2007-06-30                               Apple iPhone buyers gush as iWait ends   \n",
       "\n",
       "                                                                                                                                                                                                               text  \\\n",
       "Date                                                                                                                                                                                                                  \n",
       "2013-04-05   BOSTON  (Reuters) - Hedge fund manager William Ackman said that Ron Johnson, the chief executive he handpicked to turn around JC Penney, has made \"big mistakes\" and the impact on the struggling r...   \n",
       "2012-11-13   (Reuters) - Microsoft and Google's Motorola Mobility unit are set to square off on Tuesday at a trial with strategic implications for the smartphone patent wars and which could reveal financial i...   \n",
       "2012-11-13   SEATTLE  (Reuters) - The executive most widely tipped to be the next chief executive of Microsoft Corp has left the world's largest software maker barely two weeks after launching the flagship Wi...   \n",
       "2012-02-07   NEW YORK  (Reuters) - Stock index futures pointed to a slightly higher open for equities on Wall Street on Wednesday, with futures for the S&P 500, the Dow Jones and the Nasdaq 100 rising 0.2 to ...   \n",
       "2008-06-09   NEW YORK  (Reuters) - AT&T Inc will suffer lower earnings this year and next year as it plans to subsidize the price of the latest iPhone from Apple Inc in a bet it can help it boost data service...   \n",
       "2008-06-10   NEW YORK  (Reuters) - Verizon Communication Inc ( VZ.N ) said on Tuesday it could build out its all-fiber Internet and video network to more than its target of 18 million homes by the end of 2010...   \n",
       "2008-06-09   TOKYO  (Reuters) - Softbank Corp, Japan's third-biggest mobile phone operator, plans to start selling Apple Inc's new iPhone in Japan from July, an earlier launch date than expected and one that ...   \n",
       "2008-06-10   BERLIN  (Reuters) - Hewlett-Packard, the world's biggest computer maker, launched a new generation of PCs on Tuesday that respond to users tapping or stroking the screen, potentially bringing use...   \n",
       "2008-06-10   SAN FRANCISCO  (Reuters) - Apple Inc on Monday unveiled a next-generation iPhone with faster Internet access that will run on advanced wireless networks and sell for as low as $199 -- half the cu...   \n",
       "2011-08-01   KUNMING, China  (Reuters) - Nestled in a sleepy southern district of Kunming city in southwest China, is a 10,000 square meter, four-story building that could make Swedish furniture giant Ikea un...   \n",
       "2008-04-21   NEW YORK  (Reuters) - U.S. stocks ebbed on Monday as weak quarterly results from Bank of America Corp rekindled concerns about the toll the credit crisis has taken on banks and overshadowed risin...   \n",
       "2008-04-22   NEW YORK  (Reuters) - Stocks sank on Tuesday as oil prices neared $120 a barrel and fed worries about inflation and consumer spending, while a series of disappointing profit outlooks made the moo...   \n",
       "2011-11-22   SAN FRANCISCO  (Reuters) - Hewlett Packard's new Chief Executive, Meg Whitman, passed her first test with investors, calming nerves and assuring Wall Street that the technology giant will be disc...   \n",
       "2011-11-23   (Reuters) - When shoppers hit the stores on Black Friday, Abercrombie & Fitch ( ANF.N ) will face its biggest test this year as the preppy clothing retailer tries to prove the value of its cachet...   \n",
       "2009-02-18   TAIPEI  (Reuters) - Profit-hungry PC brands rushing to the booming smartphone sector are likely to falter in their ambitious plans to capture market share from formidable players such as Nokia an...   \n",
       "2010-06-07   NEW YORK  (Reuters) - Stocks fell on Monday, taking the S&P 500 to its lowest close in seven months, as industrials and technology shares fell and investors stayed on their heels after last week'...   \n",
       "2010-06-07   TAIPEI/HONG KONG  (Reuters) - Shares in Hon Hai Precision Industry ( 2317.TW ) tumbled on Monday on concerns about earnings after the electronics maker offered workers in southern China a second ...   \n",
       "2010-06-07   SAN FRANCISCO  (Reuters) - DVD rental service Netflix Inc on Monday jumped on the iPhone wagon by announcing it would release a free application this summer for the popular Apple Inc handset. Net...   \n",
       "2010-06-07   SAN FRANCISCO  (Reuters) - Users have downloaded more than 35 million applications for Apple Inc's iPad tablet computer, over 2 million of which have sold in the past two months. Chief Executive ...   \n",
       "2010-06-07   NEW YORK  (Reuters) - Apple Inc, firing the latest salvo in the smartphone wars, rolled out a slim new version of its wildly popular iPhone on Monday. Apple's iPhone 4 lands as competition in the...   \n",
       "2010-06-07   SAN FRANCISCO  (Reuters) - Apple Inc's newest iPhone model goes on sale this month, as the company strives to stay a step ahead of a growing cast of rivals like Google Inc in the red-hot smartpho...   \n",
       "2012-11-14   WASHINGTON  (Reuters) - Retail sales fell in October for the first time in three months as superstorm Sandy slammed the brakes on automobile purchases, suggesting spending lost momentum early in ...   \n",
       "2012-11-14   WASHINGTON  (Reuters) - U.S. retail sales fell in October for the first time in three months as superstorm Sandy slammed the brakes on automobile purchases, suggesting a loss of momentum in spend...   \n",
       "2012-11-13   (Reuters) - Microsoft and Google's Motorola Mobility unit squared off on Tuesday at a trial with strategic implications for the smartphone patent wars and which could reveal financial information...   \n",
       "2007-06-30   (Reuters) - Apple Inc. began selling the iPhone, which combines a wireless phone with music- and video-playing capabilities and Web browsing, on Friday. Here are quotes from some of the first buy...   \n",
       "\n",
       "            label  \n",
       "Date               \n",
       "2013-04-05      0  \n",
       "2012-11-13      0  \n",
       "2012-11-13      0  \n",
       "2012-02-07      1  \n",
       "2008-06-09      0  \n",
       "2008-06-10      1  \n",
       "2008-06-09      0  \n",
       "2008-06-10      1  \n",
       "2008-06-10      1  \n",
       "2011-08-01      0  \n",
       "2008-04-21      1  \n",
       "2008-04-22      0  \n",
       "2011-11-22      1  \n",
       "2011-11-23      0  \n",
       "2009-02-18      0  \n",
       "2010-06-07      0  \n",
       "2010-06-07      0  \n",
       "2010-06-07      0  \n",
       "2010-06-07      0  \n",
       "2010-06-07      0  \n",
       "2010-06-07      0  \n",
       "2012-11-14      0  \n",
       "2012-11-14      0  \n",
       "2012-11-13      0  \n",
       "2007-06-30      0  "
      ]
     },
     "execution_count": 8,
     "metadata": {},
     "output_type": "execute_result"
    }
   ],
   "source": [
    "p = apple_news_df.iloc[0:5]\n",
    "apple_news_df['label'] = 0\n",
    "for i, row in apple_news_df.iterrows():\n",
    "#     print(row['headline'])\n",
    "    \n",
    "    try:\n",
    "        opening_price = apple_OHLCV.loc[i]['Open']\n",
    "        closing_price = apple_OHLCV.loc[i]['Adj Close']\n",
    "        sentiment = 1\n",
    "        if opening_price > closing_price:\n",
    "            sentiment = 0\n",
    "        apple_news_df = apple_news_df.set_value(i,'label',sentiment)\n",
    "    except:\n",
    "        pass\n",
    "#         print('Could not find closing price for this date ' + i)\n",
    "    \n",
    "# p.head()\n",
    "apple_news_df.head(25)"
   ]
  },
  {
   "cell_type": "code",
   "execution_count": 9,
   "metadata": {},
   "outputs": [
    {
     "name": "stdout",
     "output_type": "stream",
     "text": [
      "Input data has 3011 rows and 3 columns\n"
     ]
    }
   ],
   "source": [
    "# What is the shape of this datataset\n",
    "print(\"Input data has {} rows and {} columns\".format(len(apple_news_df), len(apple_news_df.columns)))"
   ]
  },
  {
   "cell_type": "code",
   "execution_count": 10,
   "metadata": {},
   "outputs": [
    {
     "name": "stdout",
     "output_type": "stream",
     "text": [
      "Out of 3011 rows, 2145 are negative, 866 are positive\n"
     ]
    }
   ],
   "source": [
    "# How many revies are negative and positive?\n",
    "\n",
    "print(\"Out of {} rows, {} are negative, {} are positive\".format(len(apple_news_df), \n",
    "                                                       len(apple_news_df[apple_news_df['label']==0]), \n",
    "                                                       len(apple_news_df[apple_news_df['label']==1])))"
   ]
  },
  {
   "cell_type": "code",
   "execution_count": 11,
   "metadata": {},
   "outputs": [
    {
     "name": "stdout",
     "output_type": "stream",
     "text": [
      "Number of null in label: 0\n",
      "Number of null in headline: 0\n",
      "Number of null in text: 0\n"
     ]
    }
   ],
   "source": [
    "# Is there any missing data?\n",
    "print(\"Number of null in label: {}\".format(apple_news_df['label'].isnull().sum()))\n",
    "print(\"Number of null in headline: {}\".format(apple_news_df['headline'].isnull().sum()))\n",
    "print(\"Number of null in text: {}\".format(apple_news_df['text'].isnull().sum()))"
   ]
  },
  {
   "cell_type": "code",
   "execution_count": 12,
   "metadata": {},
   "outputs": [
    {
     "data": {
      "text/html": [
       "<div>\n",
       "<style scoped>\n",
       "    .dataframe tbody tr th:only-of-type {\n",
       "        vertical-align: middle;\n",
       "    }\n",
       "\n",
       "    .dataframe tbody tr th {\n",
       "        vertical-align: top;\n",
       "    }\n",
       "\n",
       "    .dataframe thead th {\n",
       "        text-align: right;\n",
       "    }\n",
       "</style>\n",
       "<table border=\"1\" class=\"dataframe\">\n",
       "  <thead>\n",
       "    <tr style=\"text-align: right;\">\n",
       "      <th></th>\n",
       "      <th>headline</th>\n",
       "      <th>text</th>\n",
       "      <th>label</th>\n",
       "    </tr>\n",
       "  </thead>\n",
       "  <tbody>\n",
       "    <tr>\n",
       "      <th>0</th>\n",
       "      <td>Instant View: Morgan Stanley, Wells Fargo Q2 earnings</td>\n",
       "      <td>NEW YORK  (Reuters) - Morgan Stanley ( MS.N ) reported a second-quarter profit on Wednesday, beating analyst estimates, despite weak industry trends. The New York bank reported second-quarter adj...</td>\n",
       "      <td>0</td>\n",
       "    </tr>\n",
       "    <tr>\n",
       "      <th>1</th>\n",
       "      <td>Apple shares slip as light outlook disappoints</td>\n",
       "      <td>NEW YORK  Jan 18 (Reuters) - Shares of Apple Inc. ( AAPL.O ) fell 3.6 percent in early trading on Thursday, a day after the maker of Macintosh computers and iPod digital music players delivered f...</td>\n",
       "      <td>0</td>\n",
       "    </tr>\n",
       "    <tr>\n",
       "      <th>2</th>\n",
       "      <td>Apple posts options expenses, stands by CEO Jobs</td>\n",
       "      <td>BOSTON/NEW YORK  (Reuters) - Apple Computer Inc. ( AAPL.O ) Chief Executive Steve Jobs received a vote of confidence from the company's board on Friday in a much anticipated filing that also said...</td>\n",
       "      <td>1</td>\n",
       "    </tr>\n",
       "    <tr>\n",
       "      <th>3</th>\n",
       "      <td>Vivendi Chief says Universal will keep artists</td>\n",
       "      <td>NEW YORK  (Reuters) - Vivendi ( VIV.PA ) Chief Executive Jean-Bernard Levy said on Tuesday its Universal Music Group unit will succeed in keeping its big-name artists even though he is not surpri...</td>\n",
       "      <td>1</td>\n",
       "    </tr>\n",
       "    <tr>\n",
       "      <th>4</th>\n",
       "      <td>STMicro says may need $500 million to leave ST-Ericsson</td>\n",
       "      <td>SAN FRANCISCO/PARIS  (Reuters) - STMicroelectronics ( STM.PA ) could need as much as $500 million to get out of its loss-making joint venture with Ericsson ( ERICb.ST ), compounding the chipmaker...</td>\n",
       "      <td>0</td>\n",
       "    </tr>\n",
       "  </tbody>\n",
       "</table>\n",
       "</div>"
      ],
      "text/plain": [
       "                                                  headline  \\\n",
       "0    Instant View: Morgan Stanley, Wells Fargo Q2 earnings   \n",
       "1           Apple shares slip as light outlook disappoints   \n",
       "2         Apple posts options expenses, stands by CEO Jobs   \n",
       "3           Vivendi Chief says Universal will keep artists   \n",
       "4  STMicro says may need $500 million to leave ST-Ericsson   \n",
       "\n",
       "                                                                                                                                                                                                      text  \\\n",
       "0   NEW YORK  (Reuters) - Morgan Stanley ( MS.N ) reported a second-quarter profit on Wednesday, beating analyst estimates, despite weak industry trends. The New York bank reported second-quarter adj...   \n",
       "1   NEW YORK  Jan 18 (Reuters) - Shares of Apple Inc. ( AAPL.O ) fell 3.6 percent in early trading on Thursday, a day after the maker of Macintosh computers and iPod digital music players delivered f...   \n",
       "2   BOSTON/NEW YORK  (Reuters) - Apple Computer Inc. ( AAPL.O ) Chief Executive Steve Jobs received a vote of confidence from the company's board on Friday in a much anticipated filing that also said...   \n",
       "3   NEW YORK  (Reuters) - Vivendi ( VIV.PA ) Chief Executive Jean-Bernard Levy said on Tuesday its Universal Music Group unit will succeed in keeping its big-name artists even though he is not surpri...   \n",
       "4   SAN FRANCISCO/PARIS  (Reuters) - STMicroelectronics ( STM.PA ) could need as much as $500 million to get out of its loss-making joint venture with Ericsson ( ERICb.ST ), compounding the chipmaker...   \n",
       "\n",
       "   label  \n",
       "0      0  \n",
       "1      0  \n",
       "2      1  \n",
       "3      1  \n",
       "4      0  "
      ]
     },
     "execution_count": 12,
     "metadata": {},
     "output_type": "execute_result"
    }
   ],
   "source": [
    "data = apple_news_df.sample(frac=1).reset_index(drop=True)\n",
    "data.head()"
   ]
  },
  {
   "cell_type": "code",
   "execution_count": 13,
   "metadata": {},
   "outputs": [],
   "source": [
    "\n",
    "# Data Pre-processing\n",
    "import re\n",
    "from sklearn.feature_extraction.text import TfidfVectorizer\n",
    "import string\n",
    "\n",
    "stopwords = nltk.corpus.stopwords.words('english')\n",
    "ps = nltk.PorterStemmer()\n",
    "\n",
    "def clean_text(text):\n",
    "    text = \"\".join([word.lower() for word in text if word not in string.punctuation])\n",
    "    tokens = re.split('\\W+', text)\n",
    "    text = [ps.stem(word) for word in tokens if word not in stopwords]\n",
    "    return text"
   ]
  },
  {
   "cell_type": "code",
   "execution_count": 14,
   "metadata": {},
   "outputs": [],
   "source": [
    "from sklearn.model_selection import train_test_split\n",
    "\n",
    "X_train, X_test, y_train, y_test = train_test_split(data['text'], data['label'], test_size=0.2)"
   ]
  },
  {
   "cell_type": "code",
   "execution_count": 15,
   "metadata": {},
   "outputs": [],
   "source": [
    "# Vectorizing data\n",
    "tfidf_vect = TfidfVectorizer(analyzer=clean_text)\n",
    "tfidf_vect_fit = tfidf_vect.fit(X_train)\n",
    "\n",
    "tfidf_train = tfidf_vect_fit.transform(X_train)\n",
    "tfidf_test = tfidf_vect_fit.transform(X_test)"
   ]
  },
  {
   "cell_type": "code",
   "execution_count": 16,
   "metadata": {},
   "outputs": [],
   "source": [
    "X_train_vect = pd.DataFrame(tfidf_train.toarray())\n",
    "X_test_vect = pd.DataFrame(tfidf_test.toarray())"
   ]
  },
  {
   "cell_type": "code",
   "execution_count": 17,
   "metadata": {},
   "outputs": [
    {
     "name": "stderr",
     "output_type": "stream",
     "text": [
      "/Users/alex/Desktop/NLP/NewsSentimentAnalysis/env/lib/python3.7/site-packages/tensorflow/python/framework/dtypes.py:516: FutureWarning: Passing (type, 1) or '1type' as a synonym of type is deprecated; in a future version of numpy, it will be understood as (type, (1,)) / '(1,)type'.\n",
      "  _np_qint8 = np.dtype([(\"qint8\", np.int8, 1)])\n",
      "/Users/alex/Desktop/NLP/NewsSentimentAnalysis/env/lib/python3.7/site-packages/tensorflow/python/framework/dtypes.py:517: FutureWarning: Passing (type, 1) or '1type' as a synonym of type is deprecated; in a future version of numpy, it will be understood as (type, (1,)) / '(1,)type'.\n",
      "  _np_quint8 = np.dtype([(\"quint8\", np.uint8, 1)])\n",
      "/Users/alex/Desktop/NLP/NewsSentimentAnalysis/env/lib/python3.7/site-packages/tensorflow/python/framework/dtypes.py:518: FutureWarning: Passing (type, 1) or '1type' as a synonym of type is deprecated; in a future version of numpy, it will be understood as (type, (1,)) / '(1,)type'.\n",
      "  _np_qint16 = np.dtype([(\"qint16\", np.int16, 1)])\n",
      "/Users/alex/Desktop/NLP/NewsSentimentAnalysis/env/lib/python3.7/site-packages/tensorflow/python/framework/dtypes.py:519: FutureWarning: Passing (type, 1) or '1type' as a synonym of type is deprecated; in a future version of numpy, it will be understood as (type, (1,)) / '(1,)type'.\n",
      "  _np_quint16 = np.dtype([(\"quint16\", np.uint16, 1)])\n",
      "/Users/alex/Desktop/NLP/NewsSentimentAnalysis/env/lib/python3.7/site-packages/tensorflow/python/framework/dtypes.py:520: FutureWarning: Passing (type, 1) or '1type' as a synonym of type is deprecated; in a future version of numpy, it will be understood as (type, (1,)) / '(1,)type'.\n",
      "  _np_qint32 = np.dtype([(\"qint32\", np.int32, 1)])\n",
      "/Users/alex/Desktop/NLP/NewsSentimentAnalysis/env/lib/python3.7/site-packages/tensorflow/python/framework/dtypes.py:525: FutureWarning: Passing (type, 1) or '1type' as a synonym of type is deprecated; in a future version of numpy, it will be understood as (type, (1,)) / '(1,)type'.\n",
      "  np_resource = np.dtype([(\"resource\", np.ubyte, 1)])\n",
      "/Users/alex/Desktop/NLP/NewsSentimentAnalysis/env/lib/python3.7/site-packages/tensorboard/compat/tensorflow_stub/dtypes.py:541: FutureWarning: Passing (type, 1) or '1type' as a synonym of type is deprecated; in a future version of numpy, it will be understood as (type, (1,)) / '(1,)type'.\n",
      "  _np_qint8 = np.dtype([(\"qint8\", np.int8, 1)])\n",
      "/Users/alex/Desktop/NLP/NewsSentimentAnalysis/env/lib/python3.7/site-packages/tensorboard/compat/tensorflow_stub/dtypes.py:542: FutureWarning: Passing (type, 1) or '1type' as a synonym of type is deprecated; in a future version of numpy, it will be understood as (type, (1,)) / '(1,)type'.\n",
      "  _np_quint8 = np.dtype([(\"quint8\", np.uint8, 1)])\n",
      "/Users/alex/Desktop/NLP/NewsSentimentAnalysis/env/lib/python3.7/site-packages/tensorboard/compat/tensorflow_stub/dtypes.py:543: FutureWarning: Passing (type, 1) or '1type' as a synonym of type is deprecated; in a future version of numpy, it will be understood as (type, (1,)) / '(1,)type'.\n",
      "  _np_qint16 = np.dtype([(\"qint16\", np.int16, 1)])\n",
      "/Users/alex/Desktop/NLP/NewsSentimentAnalysis/env/lib/python3.7/site-packages/tensorboard/compat/tensorflow_stub/dtypes.py:544: FutureWarning: Passing (type, 1) or '1type' as a synonym of type is deprecated; in a future version of numpy, it will be understood as (type, (1,)) / '(1,)type'.\n",
      "  _np_quint16 = np.dtype([(\"quint16\", np.uint16, 1)])\n",
      "/Users/alex/Desktop/NLP/NewsSentimentAnalysis/env/lib/python3.7/site-packages/tensorboard/compat/tensorflow_stub/dtypes.py:545: FutureWarning: Passing (type, 1) or '1type' as a synonym of type is deprecated; in a future version of numpy, it will be understood as (type, (1,)) / '(1,)type'.\n",
      "  _np_qint32 = np.dtype([(\"qint32\", np.int32, 1)])\n",
      "/Users/alex/Desktop/NLP/NewsSentimentAnalysis/env/lib/python3.7/site-packages/tensorboard/compat/tensorflow_stub/dtypes.py:550: FutureWarning: Passing (type, 1) or '1type' as a synonym of type is deprecated; in a future version of numpy, it will be understood as (type, (1,)) / '(1,)type'.\n",
      "  np_resource = np.dtype([(\"resource\", np.ubyte, 1)])\n",
      "WARNING: Logging before flag parsing goes to stderr.\n",
      "W0805 22:35:55.097352 140735975318400 deprecation.py:506] From /Users/alex/Desktop/NLP/NewsSentimentAnalysis/env/lib/python3.7/site-packages/tensorflow/python/ops/init_ops.py:1251: calling VarianceScaling.__init__ (from tensorflow.python.ops.init_ops) with dtype is deprecated and will be removed in a future version.\n",
      "Instructions for updating:\n",
      "Call initializer instance with the dtype argument instead of passing it to the constructor\n",
      "W0805 22:35:55.145097 140735975318400 deprecation.py:323] From /Users/alex/Desktop/NLP/NewsSentimentAnalysis/env/lib/python3.7/site-packages/tensorflow/python/ops/nn_impl.py:180: add_dispatch_support.<locals>.wrapper (from tensorflow.python.ops.array_ops) is deprecated and will be removed in a future version.\n",
      "Instructions for updating:\n",
      "Use tf.where in 2.0, which has the same broadcast rule as np.where\n"
     ]
    },
    {
     "name": "stdout",
     "output_type": "stream",
     "text": [
      "Model: \"sequential\"\n",
      "_________________________________________________________________\n",
      "Layer (type)                 Output Shape              Param #   \n",
      "=================================================================\n",
      "dense (Dense)                (None, 10)                294640    \n",
      "_________________________________________________________________\n",
      "dense_1 (Dense)              (None, 1)                 11        \n",
      "=================================================================\n",
      "Total params: 294,651\n",
      "Trainable params: 294,651\n",
      "Non-trainable params: 0\n",
      "_________________________________________________________________\n"
     ]
    }
   ],
   "source": [
    "from tensorflow.python.keras.models import Sequential\n",
    "from tensorflow.python.keras import layers\n",
    "from tensorflow.python.keras.layers import Embedding\n",
    "from tensorflow.python.keras.layers import LSTM\n",
    "\n",
    "input_dim = X_train_vect.shape[1]  # Number of features\n",
    "\n",
    "model = Sequential()\n",
    "model.add(layers.Dense(10, input_dim=input_dim, activation='relu'))\n",
    "model.add(layers.Dense(1, activation='sigmoid'))\n",
    "\n",
    "model.compile(loss='binary_crossentropy', \n",
    "               optimizer='adam', \n",
    "               metrics=['accuracy'])\n",
    "model.summary()"
   ]
  },
  {
   "cell_type": "code",
   "execution_count": 18,
   "metadata": {},
   "outputs": [],
   "source": [
    "history = model.fit(X_train_vect, y_train,\n",
    "                     epochs=100,\n",
    "                     verbose=False,\n",
    "                     validation_data=(X_test_vect, y_test))"
   ]
  },
  {
   "cell_type": "code",
   "execution_count": 19,
   "metadata": {},
   "outputs": [
    {
     "name": "stderr",
     "output_type": "stream",
     "text": [
      "W0805 22:36:24.998934 140735975318400 deprecation.py:506] From /Users/alex/Desktop/NLP/NewsSentimentAnalysis/env/lib/python3.7/site-packages/tensorflow/python/ops/init_ops.py:97: calling GlorotUniform.__init__ (from tensorflow.python.ops.init_ops) with dtype is deprecated and will be removed in a future version.\n",
      "Instructions for updating:\n",
      "Call initializer instance with the dtype argument instead of passing it to the constructor\n",
      "W0805 22:36:24.999719 140735975318400 deprecation.py:506] From /Users/alex/Desktop/NLP/NewsSentimentAnalysis/env/lib/python3.7/site-packages/tensorflow/python/ops/init_ops.py:97: calling Zeros.__init__ (from tensorflow.python.ops.init_ops) with dtype is deprecated and will be removed in a future version.\n",
      "Instructions for updating:\n",
      "Call initializer instance with the dtype argument instead of passing it to the constructor\n"
     ]
    },
    {
     "name": "stdout",
     "output_type": "stream",
     "text": [
      "Saved model to disk\n"
     ]
    }
   ],
   "source": [
    "from tensorflow.python.keras.models import load_model\n",
    "\n",
    "if not os.path.exists('data/model.h5'):\n",
    "    model.save('data/model.h5')  # creates a HDF5 file 'my_model.h5'\n",
    "    print(\"Saved model to disk\")\n",
    "\n",
    "# load weights into new model\n",
    "# returns a compiled model\n",
    "# identical to the previous one\n",
    "model = load_model('data/model.h5')"
   ]
  },
  {
   "cell_type": "code",
   "execution_count": 20,
   "metadata": {},
   "outputs": [
    {
     "name": "stdout",
     "output_type": "stream",
     "text": [
      "Training Accuracy: 0.9884\n",
      "Testing Accuracy:  0.7148\n"
     ]
    }
   ],
   "source": [
    "loss, accuracy = model.evaluate(X_train_vect, y_train, verbose=False)\n",
    "print(\"Training Accuracy: {:.4f}\".format(accuracy))\n",
    "loss, accuracy = model.evaluate(X_test_vect, y_test, verbose=False)\n",
    "print(\"Testing Accuracy:  {:.4f}\".format(accuracy))"
   ]
  },
  {
   "cell_type": "code",
   "execution_count": 21,
   "metadata": {},
   "outputs": [],
   "source": [
    "import matplotlib.pyplot as plt\n",
    "plt.style.use('ggplot')\n",
    "\n",
    "def plot_history(history):\n",
    "    acc = history.history['acc']\n",
    "    val_acc = history.history['val_acc']\n",
    "    loss = history.history['loss']\n",
    "    val_loss = history.history['val_loss']\n",
    "    x = range(1, len(acc) + 1)\n",
    "\n",
    "    plt.figure(figsize=(12, 5))\n",
    "    plt.subplot(1, 2, 1)\n",
    "    plt.plot(x, acc, 'b', label='Training acc')\n",
    "    plt.plot(x, val_acc, 'r', label='Validation acc')\n",
    "    plt.title('Training and validation accuracy')\n",
    "    plt.legend()\n",
    "    plt.subplot(1, 2, 2)\n",
    "    plt.plot(x, loss, 'b', label='Training loss')\n",
    "    plt.plot(x, val_loss, 'r', label='Validation loss')\n",
    "    plt.title('Training and validation loss')\n",
    "    plt.legend()"
   ]
  },
  {
   "cell_type": "code",
   "execution_count": 22,
   "metadata": {},
   "outputs": [
    {
     "data": {
      "image/png": "[encoded data removed]",
      "text/plain": [
       "<Figure size 864x360 with 2 Axes>"
      ]
     },
     "metadata": {
      "needs_background": "light"
     },
     "output_type": "display_data"
    }
   ],
   "source": [
    "plot_history(history)"
   ]
  },
  {
   "cell_type": "code",
   "execution_count": 27,
   "metadata": {},
   "outputs": [
    {
     "name": "stdout",
     "output_type": "stream",
     "text": [
      "Training Accuracy: 0.9884\n",
      "Testing Accuracy:  0.7148\n"
     ]
    }
   ],
   "source": [
    "from sklearn.ensemble import RandomForestClassifier\n",
    "\n",
    "rf = RandomForestClassifier(n_estimators=150, max_depth=None, n_jobs=-1)\n",
    "rf_model = rf.fit(X_train_vect, y_train)\n",
    "y_pred = rf_model.predict(X_test_vect)\n",
    "\n",
    "loss, accuracy = model.evaluate(X_train_vect, y_train, verbose=False)\n",
    "print(\"Training Accuracy: {:.4f}\".format(accuracy))\n",
    "loss, accuracy = model.evaluate(X_test_vect, y_test, verbose=False)\n",
    "print(\"Testing Accuracy:  {:.4f}\".format(accuracy))"
   ]
  },
  {
   "cell_type": "code",
   "execution_count": 37,
   "metadata": {},
   "outputs": [
    {
     "name": "stdout",
     "output_type": "stream",
     "text": [
      "[0]\n"
     ]
    }
   ],
   "source": [
    "import numpy as np\n",
    "x = ['March 15 (Reuters) - Mobile phone chip supplier Qualcomm Inc on Friday won a court victory against iPhone maker Apple Inc, with a jury in federal court in San Diego finding that Apple infringed on three of Qualcomm’s patents, a Qualcomm spokeswoman told Reuters. (Reporting by Stephen Nellis; Editing by Richard Chang)']\n",
    "\n",
    "vectorizer = TfidfVectorizer(analyzer=clean_text)\n",
    "vectorizer = vectorizer.fit(x)\n",
    "\n",
    "tfidf_train = tfidf_vect_fit.transform(x)\n",
    "x = pd.DataFrame(tfidf_train.toarray())\n",
    "\n",
    "print(rf_model.predict(x))"
   ]
  },
  {
   "cell_type": "code",
   "execution_count": null,
   "metadata": {},
   "outputs": [],
   "source": []
  }
 ],
 "metadata": {
  "kernelspec": {
   "display_name": "Python 3",
   "language": "python",
   "name": "python3"
  },
  "language_info": {
   "codemirror_mode": {
    "name": "ipython",
    "version": 3
   },
   "file_extension": ".py",
   "mimetype": "text/x-python",
   "name": "python",
   "nbconvert_exporter": "python",
   "pygments_lexer": "ipython3",
   "version": "3.7.2"
  },
  "pycharm": {
   "stem_cell": {
    "cell_type": "raw",
    "metadata": {
     "collapsed": false
    },
    "source": []
   }
  },
  "widgets": {
   "application/vnd.jupyter.widget-state+json": {
    "state": {},
    "version_major": 2,
    "version_minor": 0
   }
  }
 },
 "nbformat": 4,
 "nbformat_minor": 2
}
